{
 "cells": [
  {
   "cell_type": "markdown",
   "id": "11b11c60",
   "metadata": {},
   "source": [
    "## (1) Load Processed Data in the Paper\n",
    "\n",
    "Currently, we support norman / adamson / dixit."
   ]
  },
  {
   "cell_type": "code",
   "execution_count": 1,
   "id": "a03aa10a",
   "metadata": {},
   "outputs": [
    {
     "name": "stdout",
     "output_type": "stream",
     "text": [
      "/gpfs/group/jin/asun/GEARS/demo\n"
     ]
    },
    {
     "name": "stderr",
     "output_type": "stream",
     "text": [
      "/gpfs/home/asun/miniforge3/envs/gears/lib/python3.12/site-packages/anndata/utils.py:434: FutureWarning: Importing read_csv from `anndata` is deprecated. Import anndata.io.read_csv instead.\n",
      "  warnings.warn(msg, FutureWarning)\n",
      "/gpfs/home/asun/miniforge3/envs/gears/lib/python3.12/site-packages/anndata/utils.py:434: FutureWarning: Importing read_excel from `anndata` is deprecated. Import anndata.io.read_excel instead.\n",
      "  warnings.warn(msg, FutureWarning)\n",
      "/gpfs/home/asun/miniforge3/envs/gears/lib/python3.12/site-packages/anndata/utils.py:434: FutureWarning: Importing read_hdf from `anndata` is deprecated. Import anndata.io.read_hdf instead.\n",
      "  warnings.warn(msg, FutureWarning)\n",
      "/gpfs/home/asun/miniforge3/envs/gears/lib/python3.12/site-packages/anndata/utils.py:434: FutureWarning: Importing read_loom from `anndata` is deprecated. Import anndata.io.read_loom instead.\n",
      "  warnings.warn(msg, FutureWarning)\n",
      "/gpfs/home/asun/miniforge3/envs/gears/lib/python3.12/site-packages/anndata/utils.py:434: FutureWarning: Importing read_mtx from `anndata` is deprecated. Import anndata.io.read_mtx instead.\n",
      "  warnings.warn(msg, FutureWarning)\n",
      "/gpfs/home/asun/miniforge3/envs/gears/lib/python3.12/site-packages/anndata/utils.py:434: FutureWarning: Importing read_text from `anndata` is deprecated. Import anndata.io.read_text instead.\n",
      "  warnings.warn(msg, FutureWarning)\n",
      "/gpfs/home/asun/miniforge3/envs/gears/lib/python3.12/site-packages/anndata/utils.py:434: FutureWarning: Importing read_umi_tools from `anndata` is deprecated. Import anndata.io.read_umi_tools instead.\n",
      "  warnings.warn(msg, FutureWarning)\n"
     ]
    }
   ],
   "source": [
    "import os\n",
    "os.chdir(\"/gpfs/home/asun/jin_lab/GEARS/demo/\")\n",
    "print(os.getcwd())\n",
    "\n",
    "import sys\n",
    "sys.path.append(os.path.abspath('..'))\n",
    "\n",
    "from gears import PertData"
   ]
  },
  {
   "cell_type": "code",
   "execution_count": 18,
   "id": "1b378518",
   "metadata": {},
   "outputs": [
    {
     "name": "stderr",
     "output_type": "stream",
     "text": [
      "Found local copy...\n",
      "Found local copy...\n",
      "Found local copy...\n",
      "These perturbations are not in the GO graph and their perturbation can thus not be predicted\n",
      "['RHOXF2BB+ctrl' 'LYL1+IER5L' 'ctrl+IER5L' 'KIAA1804+ctrl' 'IER5L+ctrl'\n",
      " 'RHOXF2BB+ZBTB25' 'RHOXF2BB+SET']\n",
      "Local copy of pyg dataset is detected. Loading...\n",
      "Done!\n",
      "Local copy of split is detected. Loading...\n",
      "Simulation split test composition:\n",
      "combo_seen0:9\n",
      "combo_seen1:43\n",
      "combo_seen2:19\n",
      "unseen_single:36\n",
      "Done!\n",
      "Creating dataloaders....\n",
      "Done!\n"
     ]
    },
    {
     "name": "stdout",
     "output_type": "stream",
     "text": [
      "here1\n"
     ]
    }
   ],
   "source": [
    "import sys\n",
    "sys.path.append(os.path.abspath('..'))\n",
    "\n",
    "from gears import PertData\n",
    "\n",
    "pert_data = PertData('./data') # specific saved folder\n",
    "pert_data.load(data_name = 'norman') # specific dataset name\n",
    "pert_data.prepare_split(split = 'simulation', seed = 1) # get data split with seed\n",
    "pert_data.get_dataloader(batch_size = 32, test_batch_size = 128) # prepare data loader"
   ]
  },
  {
   "cell_type": "code",
   "execution_count": 20,
   "id": "64d76cdf",
   "metadata": {},
   "outputs": [
    {
     "data": {
      "text/plain": [
       "View of AnnData object with n_obs × n_vars = 89357 × 5045\n",
       "    obs: 'condition', 'cell_type', 'dose_val', 'control', 'condition_name'\n",
       "    var: 'gene_name'\n",
       "    uns: 'non_dropout_gene_idx', 'non_zeros_gene_idx', 'rank_genes_groups_cov_all', 'top_non_dropout_de_20', 'top_non_zero_de_20'\n",
       "    layers: 'counts'"
      ]
     },
     "execution_count": 20,
     "metadata": {},
     "output_type": "execute_result"
    }
   ],
   "source": [
    "pert_data.adata"
   ]
  },
  {
   "cell_type": "code",
   "execution_count": 21,
   "id": "004c2027",
   "metadata": {},
   "outputs": [
    {
     "data": {
      "text/plain": [
       "condition\n",
       "ctrl             7353\n",
       "CEBPE+RUNX1T1    1030\n",
       "KLF1+ctrl         997\n",
       "TBX3+TBX2         969\n",
       "SLC4A1+ctrl       853\n",
       "                 ... \n",
       "PLK4+STIL          66\n",
       "SAMD1+TGFBR2       59\n",
       "JUN+CEBPB          52\n",
       "CBL+UBASH3A        50\n",
       "C3orf72+FOXL2      49\n",
       "Name: count, Length: 277, dtype: int64"
      ]
     },
     "execution_count": 21,
     "metadata": {},
     "output_type": "execute_result"
    }
   ],
   "source": [
    "pert_data.adata.obs[\"condition\"].value_counts()"
   ]
  },
  {
   "cell_type": "code",
   "execution_count": 22,
   "id": "230a0efd",
   "metadata": {},
   "outputs": [
    {
     "data": {
      "text/plain": [
       "cell_type\n",
       "A549    89357\n",
       "Name: count, dtype: int64"
      ]
     },
     "execution_count": 22,
     "metadata": {},
     "output_type": "execute_result"
    }
   ],
   "source": [
    "pert_data.adata.obs[\"cell_type\"].value_counts()"
   ]
  },
  {
   "cell_type": "code",
   "execution_count": 6,
   "id": "f5c8bfd7",
   "metadata": {},
   "outputs": [
    {
     "data": {
      "text/plain": [
       "{'test': ['CBL+PTPN9',\n",
       "  'DUSP9+ctrl',\n",
       "  'MAP2K6+SPI1',\n",
       "  'UBASH3B+PTPN12',\n",
       "  'BCORL1+ctrl',\n",
       "  'MEIS1+ctrl',\n",
       "  'CBL+ctrl',\n",
       "  'KLF1+FOXA1',\n",
       "  'TBX3+TBX2',\n",
       "  'SLC4A1+ctrl',\n",
       "  'DUSP9+MAPK1',\n",
       "  'COL2A1+ctrl',\n",
       "  'CEBPE+KLF1',\n",
       "  'UBASH3B+OSR2',\n",
       "  'UBASH3B+ZBTB25',\n",
       "  'DUSP9+ETS2',\n",
       "  'ZNF318+FOXL2',\n",
       "  'UBASH3B+PTPN9',\n",
       "  'S1PR2+ctrl',\n",
       "  'CELF2+ctrl',\n",
       "  'JUN+CEBPA',\n",
       "  'CDKN1A+ctrl',\n",
       "  'ctrl+MEIS1',\n",
       "  'MAPK1+PRTG',\n",
       "  'MAP2K3+IKZF3',\n",
       "  'KLF1+COL2A1',\n",
       "  'PTPN12+OSR2',\n",
       "  'ETS2+CEBPE',\n",
       "  'POU3F2+FOXL2',\n",
       "  'DUSP9+PRTG',\n",
       "  'CKS1B+ctrl',\n",
       "  'BCL2L11+TGFBR2',\n",
       "  'AHR+KLF1',\n",
       "  'CEBPB+CEBPA',\n",
       "  'PRTG+ctrl',\n",
       "  'ETS2+CNN1',\n",
       "  'C3orf72+ctrl',\n",
       "  'CNN1+MAPK1',\n",
       "  'FOXL2+MEIS1',\n",
       "  'FOXL2+ctrl',\n",
       "  'FOSB+CEBPE',\n",
       "  'PTPN12+PTPN9',\n",
       "  'FOSB+CEBPB',\n",
       "  'ctrl+CDKN1A',\n",
       "  'BCL2L11+BAK1',\n",
       "  'FOXA3+HOXB9',\n",
       "  'ARID1A+ctrl',\n",
       "  'ctrl+COL2A1',\n",
       "  'CEBPE+CNN1',\n",
       "  'ZC3HAV1+HOXC13',\n",
       "  'CBL+CNN1',\n",
       "  'ZBTB10+PTPN12',\n",
       "  'CBL+UBASH3B',\n",
       "  'CEBPB+PTPN12',\n",
       "  'BCL2L11+ctrl',\n",
       "  'OSR2+ctrl',\n",
       "  'ctrl+SPI1',\n",
       "  'CEBPB+MAPK1',\n",
       "  'ETS2+MAPK1',\n",
       "  'DUSP9+IGDCC3',\n",
       "  'CEBPB+ctrl',\n",
       "  'CBL+PTPN12',\n",
       "  'CEBPB+OSR2',\n",
       "  'ctrl+PRTG',\n",
       "  'SGK1+S1PR2',\n",
       "  'DUSP9+KLF1',\n",
       "  'CDKN1B+ctrl',\n",
       "  'FEV+ISL2',\n",
       "  'JUN+ctrl',\n",
       "  'POU3F2+CBFA2T3',\n",
       "  'FOXA1+HOXB9',\n",
       "  'ZBTB10+ctrl',\n",
       "  'CEBPE+SPI1',\n",
       "  'PTPN13+ctrl',\n",
       "  'CBL+TGFBR2',\n",
       "  'FOXA1+FOXL2',\n",
       "  'FOXF1+FOXL2',\n",
       "  'ETS2+PRTG',\n",
       "  'PTPN9+ctrl',\n",
       "  'LYL1+CEBPB',\n",
       "  'DUSP9+SNAI1',\n",
       "  'ctrl+CEBPB',\n",
       "  'TGFBR2+PRTG',\n",
       "  'PRDM1+ctrl',\n",
       "  'FOSB+OSR2',\n",
       "  'FOXL2+HOXB9',\n",
       "  'ctrl+PTPN9',\n",
       "  'ctrl+OSR2',\n",
       "  'ZBTB10+ELMSAN1',\n",
       "  'JUN+CEBPB',\n",
       "  'ZBTB10+SNAI1',\n",
       "  'ctrl+FOXL2',\n",
       "  'CEBPE+CEBPB',\n",
       "  'PRDM1+CBFA2T3',\n",
       "  'FOXA3+FOXL2',\n",
       "  'CDKN1C+CDKN1B',\n",
       "  'CDKN1C+CDKN1A',\n",
       "  'SPI1+ctrl',\n",
       "  'EGR1+ctrl',\n",
       "  'ZBTB10+DLX2',\n",
       "  'CBL+UBASH3A',\n",
       "  'SNAI1+DLX2',\n",
       "  'IGDCC3+PRTG',\n",
       "  'CDKN1C+ctrl',\n",
       "  'ctrl+CDKN1B',\n",
       "  'CDKN1B+CDKN1A',\n",
       "  'C3orf72+FOXL2'],\n",
       " 'train': ['TSC22D1+ctrl',\n",
       "  'ctrl',\n",
       "  'CEBPE+RUNX1T1',\n",
       "  'MAML2+ctrl',\n",
       "  'ctrl+CEBPE',\n",
       "  'SGK1+TBX3',\n",
       "  'ctrl+FOXA1',\n",
       "  'FOXA3+FOXA1',\n",
       "  'ETS2+IGDCC3',\n",
       "  'GLB1L2+ctrl',\n",
       "  'MAP2K6+IKZF3',\n",
       "  'BAK1+ctrl',\n",
       "  'FEV+ctrl',\n",
       "  'MAP2K3+SLC38A2',\n",
       "  'ctrl+ETS2',\n",
       "  'ctrl+FEV',\n",
       "  'ctrl+SET',\n",
       "  'TBX3+ctrl',\n",
       "  'LHX1+ctrl',\n",
       "  'RREB1+ctrl',\n",
       "  'ZNF318+ctrl',\n",
       "  'ctrl+ZBTB25',\n",
       "  'MAP4K5+ctrl',\n",
       "  'UBASH3B+ctrl',\n",
       "  'SLC6A9+ctrl',\n",
       "  'MIDN+ctrl',\n",
       "  'DLX2+ctrl',\n",
       "  'CBFA2T3+ctrl',\n",
       "  'HES7+ctrl',\n",
       "  'SET+CEBPE',\n",
       "  'IGDCC3+ZBTB25',\n",
       "  'AHR+ctrl',\n",
       "  'FOXO4+ctrl',\n",
       "  'ctrl+CBFA2T3',\n",
       "  'ctrl+RUNX1T1',\n",
       "  'POU3F2+ctrl',\n",
       "  'ctrl+CNN1',\n",
       "  'IGDCC3+MAPK1',\n",
       "  'MAP2K3+ctrl',\n",
       "  'MAP4K3+ctrl',\n",
       "  'ZBTB25+ctrl',\n",
       "  'ZC3HAV1+CEBPE',\n",
       "  'UBASH3B+UBASH3A',\n",
       "  'MAP2K3+MAP2K6',\n",
       "  'PTPN1+ctrl',\n",
       "  'RUNX1T1+ctrl',\n",
       "  'PTPN12+ctrl',\n",
       "  'TP73+ctrl',\n",
       "  'ctrl+MAP7D1',\n",
       "  'FOSB+ctrl',\n",
       "  'MAPK1+ctrl',\n",
       "  'IRF1+ctrl',\n",
       "  'TMSB4X+BAK1',\n",
       "  'BPGM+SAMD1',\n",
       "  'IKZF3+ctrl',\n",
       "  'HOXB9+ctrl',\n",
       "  'ctrl+HOXC13',\n",
       "  'MAPK1+IKZF3',\n",
       "  'ctrl+UBASH3B',\n",
       "  'ctrl+HOXB9',\n",
       "  'ETS2+ctrl',\n",
       "  'CLDN6+ctrl',\n",
       "  'FOXA3+ctrl',\n",
       "  'CEBPE+ctrl',\n",
       "  'KIF18B+KIF2C',\n",
       "  'ctrl+SAMD1',\n",
       "  'COL1A1+ctrl',\n",
       "  'PTPN12+UBASH3A',\n",
       "  'FOXF1+ctrl',\n",
       "  'FEV+MAP7D1',\n",
       "  'PLK4+ctrl',\n",
       "  'BPGM+ctrl',\n",
       "  'LYL1+ctrl',\n",
       "  'ctrl+MAP2K6',\n",
       "  'SGK1+ctrl',\n",
       "  'MAPK1+TGFBR2',\n",
       "  'ctrl+DLX2',\n",
       "  'MAP2K6+ctrl',\n",
       "  'ctrl+TBX3',\n",
       "  'CNN1+ctrl',\n",
       "  'ctrl+CEBPA',\n",
       "  'HNF4A+ctrl',\n",
       "  'MAP7D1+ctrl',\n",
       "  'PTPN12+SNAI1',\n",
       "  'KMT2A+ctrl',\n",
       "  'CNN1+UBASH3A',\n",
       "  'IGDCC3+ctrl',\n",
       "  'ISL2+ctrl',\n",
       "  'TGFBR2+IGDCC3',\n",
       "  'TMSB4X+ctrl',\n",
       "  'KIF2C+ctrl',\n",
       "  'ctrl+CLDN6',\n",
       "  'ctrl+KIF2C',\n",
       "  'IRF1+SET',\n",
       "  'CSRNP1+ctrl',\n",
       "  'CEBPE+CEBPA',\n",
       "  'ctrl+UBASH3A',\n",
       "  'NCL+ctrl',\n",
       "  'ctrl+BAK1',\n",
       "  'ctrl+IKZF3',\n",
       "  'FOXF1+HOXB9',\n",
       "  'UBASH3B+CNN1',\n",
       "  'ZC3HAV1+ctrl',\n",
       "  'SET+ctrl',\n",
       "  'FOSB+UBASH3B',\n",
       "  'SNAI1+UBASH3B',\n",
       "  'ctrl+STIL',\n",
       "  'HOXC13+ctrl',\n",
       "  'ATL1+ctrl',\n",
       "  'CEBPE+PTPN12',\n",
       "  'CEBPA+ctrl',\n",
       "  'NIT1+ctrl',\n",
       "  'SAMD1+UBASH3B',\n",
       "  'TGFBR2+ctrl',\n",
       "  'SAMD1+TGFBR2',\n",
       "  'FOXA1+ctrl',\n",
       "  'SAMD1+ctrl',\n",
       "  'ctrl+MAPK1',\n",
       "  'UBASH3A+ctrl',\n",
       "  'AHR+FEV',\n",
       "  'ETS2+IKZF3',\n",
       "  'ctrl+ISL2',\n",
       "  'ctrl+SLC38A2',\n",
       "  'PTPN12+ZBTB25',\n",
       "  'ctrl+SNAI1',\n",
       "  'HOXA13+ctrl',\n",
       "  'ctrl+FOXF1',\n",
       "  'ctrl+PTPN12',\n",
       "  'SAMD1+PTPN12',\n",
       "  'HK2+ctrl',\n",
       "  'ctrl+IGDCC3',\n",
       "  'ctrl+TGFBR2',\n",
       "  'FOXA3+FOXF1',\n",
       "  'ZC3HAV1+CEBPA',\n",
       "  'KIF18B+ctrl',\n",
       "  'SNAI1+ctrl',\n",
       "  'FOXA1+FOXF1',\n",
       "  'PLK4+STIL',\n",
       "  'STIL+ctrl'],\n",
       " 'val': ['KLF1+MAP2K6',\n",
       "  'TGFBR2+ETS2',\n",
       "  'ctrl+ELMSAN1',\n",
       "  'KLF1+ctrl',\n",
       "  'ctrl+KLF1',\n",
       "  'KLF1+BAK1',\n",
       "  'ctrl+TBX2',\n",
       "  'C19orf26+ctrl',\n",
       "  'LHX1+ELMSAN1',\n",
       "  'ZBTB1+ctrl',\n",
       "  'ARRDC3+ctrl',\n",
       "  'SET+KLF1',\n",
       "  'MAP2K6+ELMSAN1',\n",
       "  'KLF1+CEBPA',\n",
       "  'SAMD1+ZBTB1',\n",
       "  'ctrl+ZBTB1',\n",
       "  'MAP2K3+ELMSAN1',\n",
       "  'ctrl+C19orf26',\n",
       "  'CNNM4+ctrl',\n",
       "  'TBX2+ctrl',\n",
       "  'KLF1+CLDN6',\n",
       "  'ELMSAN1+ctrl',\n",
       "  'SGK1+TBX2',\n",
       "  'ETS2+MAP7D1',\n",
       "  'KLF1+TGFBR2',\n",
       "  'FEV+CBFA2T3',\n",
       "  'CITED1+ctrl',\n",
       "  'FOSB+IKZF3',\n",
       "  'FOSB+PTPN12',\n",
       "  'BPGM+ZBTB1',\n",
       "  'TGFBR2+C19orf26']}"
      ]
     },
     "execution_count": 6,
     "metadata": {},
     "output_type": "execute_result"
    }
   ],
   "source": [
    "pert_data.set2conditions"
   ]
  },
  {
   "cell_type": "code",
   "execution_count": 14,
   "id": "565d06fb",
   "metadata": {},
   "outputs": [
    {
     "name": "stdout",
     "output_type": "stream",
     "text": [
      "test\n",
      "5\n",
      "train\n",
      "12\n",
      "val\n",
      "2\n"
     ]
    }
   ],
   "source": [
    "for key, value in pert_data.set2conditions.items():\n",
    "    print(key)\n",
    "    print(len(value))"
   ]
  },
  {
   "cell_type": "markdown",
   "id": "d25271ba",
   "metadata": {},
   "source": [
    "## (2) Create your own Perturb-Seq data\n",
    "Prepare a scanpy adata object with \n",
    "1. `adata.obs` dataframe has `condition` and `cell_type` columns, where `condition` is the perturbation name for each cell. Control cells have condition format of `ctrl`, single perturbation has condition format of `A+ctrl` or `ctrl+A`, combination perturbation has condition format of `A+B`.\n",
    "2. `adata.var` dataframe has `gene_name` column, where each gene name is the gene symbol.\n",
    "3. `adata.X` stores the post-perturbed gene expression. \n",
    "\n",
    "Here an example using dixit 2016 dataset."
   ]
  },
  {
   "cell_type": "code",
   "execution_count": 3,
   "id": "79df78dc-ab0f-4b1d-982b-09084a445487",
   "metadata": {},
   "outputs": [
    {
     "data": {
      "text/plain": [
       "AnnData object with n_obs × n_vars = 25738 × 5000\n",
       "    obs: 'condition', 'perturbation'\n",
       "    var: 'variable_gene', 'gene_name', 'highly_variable', 'means', 'dispersions', 'dispersions_norm'"
      ]
     },
     "execution_count": 3,
     "metadata": {},
     "output_type": "execute_result"
    }
   ],
   "source": [
    "adata_sim = sc.read_h5ad('simulated_adata.h5ad')\n",
    "adata_sim"
   ]
  },
  {
   "cell_type": "code",
   "execution_count": 7,
   "id": "a6b14676-99a6-414f-a895-0e762eb52952",
   "metadata": {},
   "outputs": [],
   "source": [
    "adata_sim.obs = adata_sim.obs.rename(columns={\"condition\": \"target_gene\"})\n"
   ]
  },
  {
   "cell_type": "code",
   "execution_count": 13,
   "id": "4a22efc2-1f94-4117-a6b8-90c730217138",
   "metadata": {},
   "outputs": [],
   "source": [
    "adata_sim.obs['target_gene'] = adata_sim.obs['target_gene'].replace('ctrl', 'non-targeting')\n"
   ]
  },
  {
   "cell_type": "code",
   "execution_count": 14,
   "id": "f373702c-0176-4650-8767-8549517d3397",
   "metadata": {},
   "outputs": [],
   "source": [
    "adata_sim.write(\"/gpfs/home/asun/jin_lab/get/cell-eval/runs/simulated_adata.h5ad\")"
   ]
  },
  {
   "cell_type": "code",
   "execution_count": 9,
   "id": "f2b99117-198c-4845-9ee7-418e59d257ea",
   "metadata": {},
   "outputs": [
    {
     "data": {
      "text/plain": [
       "AnnData object with n_obs × n_vars = 35527 × 5000\n",
       "    obs: 'orig.ident', 'nCount_RNA', 'nFeature_RNA', 'seurat_clusters', 'Assign', 'scds', 'cxds', 'bcds', 'Sample', 'nCount_refAssay', 'nFeature_refAssay', 'predicted.subclass.score', 'predicted.subclass', 'CT', 'mito', 'BioSamp', 'CT2', 'ForPlot', 'Remove', 'active_ident', 'Assign_clean', 'condition', 'cell_type', 'dose_val', 'control', 'condition_name'\n",
       "    var: 'variable_gene', 'gene_name', 'highly_variable', 'means', 'dispersions', 'dispersions_norm'\n",
       "    uns: 'hvg', 'log1p', 'non_dropout_gene_idx', 'non_zeros_gene_idx', 'rank_genes_groups_cov_all', 'top_non_dropout_de_20', 'top_non_zero_de_20'"
      ]
     },
     "execution_count": 9,
     "metadata": {},
     "output_type": "execute_result"
    }
   ],
   "source": [
    "adata_real = sc.read_h5ad('/gpfs/home/asun/jin_lab/get/GEARS/demo/data/boli/perturb_processed.h5ad')\n",
    "adata_real"
   ]
  },
  {
   "cell_type": "code",
   "execution_count": null,
   "id": "a54054e6-2d19-4433-896f-97399625c6dc",
   "metadata": {},
   "outputs": [],
   "source": [
    "adata_real.obs = adata_real.obs.rename(columns={\"condition\": \"target_gene\"})\n"
   ]
  },
  {
   "cell_type": "code",
   "execution_count": 12,
   "id": "03257140-c397-4024-8015-a9d02e508338",
   "metadata": {},
   "outputs": [],
   "source": [
    "exclude_genes = ['TRIO+ctrl', 'DAB1+ctrl', 'CX3CL1+ctrl']\n",
    "# Filter out those rows\n",
    "adata_real_filtered = adata_real[~adata_real.obs['target_gene'].isin(exclude_genes)].copy()\n",
    "adata_real_filtered.obs['target_gene'] = adata_real_filtered.obs['target_gene'].replace('ctrl', 'non-targeting')\n",
    "adata_real_filtered.write(\"/gpfs/home/asun/jin_lab/get/cell-eval/runs/real_adata.h5ad\")"
   ]
  },
  {
   "cell_type": "code",
   "execution_count": 4,
   "id": "9c55bd6a-727e-4fb7-b65f-001b75bd3bff",
   "metadata": {},
   "outputs": [],
   "source": [
    "gene_list = adata_sim.var_names.to_numpy()"
   ]
  },
  {
   "cell_type": "code",
   "execution_count": 5,
   "id": "29f5ec88-3c97-4016-8817-54fb0594de47",
   "metadata": {},
   "outputs": [
    {
     "data": {
      "text/plain": [
       "array(['4', '5', '7', ..., '32205', '32207', '32261'],\n",
       "      shape=(5000,), dtype=object)"
      ]
     },
     "execution_count": 5,
     "metadata": {},
     "output_type": "execute_result"
    }
   ],
   "source": [
    "gene_list"
   ]
  },
  {
   "cell_type": "code",
   "execution_count": 6,
   "id": "de7de170-1dd4-4a2f-905a-51dccaa35eb4",
   "metadata": {},
   "outputs": [],
   "source": [
    "import pandas as pd\n",
    "\n",
    "pd.Series(gene_list).to_csv(\"gene_list.csv\", index=False, header=False)"
   ]
  },
  {
   "cell_type": "markdown",
   "id": "e1dfbf61",
   "metadata": {},
   "source": [
    "## Processing Xinhe"
   ]
  },
  {
   "cell_type": "code",
   "execution_count": 3,
   "id": "99d9f38d",
   "metadata": {},
   "outputs": [
    {
     "name": "stderr",
     "output_type": "stream",
     "text": [
      "/gpfs/home/asun/miniforge3/envs/gears/lib/python3.12/site-packages/anndata/_core/anndata.py:1756: UserWarning: Observation names are not unique. To make them unique, call `.obs_names_make_unique`.\n",
      "  utils.warn_names_duplicates(\"obs\")\n"
     ]
    },
    {
     "data": {
      "text/plain": [
       "AnnData object with n_obs × n_vars = 14511 × 32285\n",
       "    obs: 'sample', 'class_label', 'class_name', 'class_bootstrapping_probability', 'subclass_label', 'subclass_name', 'subclass_bootstrapping_probability', 'supertype_label', 'supertype_name', 'supertype_bootstrapping_probability', 'cluster_label', 'cluster_name', 'cluster_alias', 'cluster_bootstrapping_probability', 'cell_type', 'orig.ident', 'nCount_RNA', 'nFeature_RNA', 'nCount_CRISPR', 'nFeature_CRISPR', 'predicted.class.score', 'predicted.class', 'predicted.cluster.score', 'predicted.cluster', 'predicted.subclass.score', 'predicted.subclass', 'predicted.cross_species_cluster.score', 'predicted.cross_species_cluster', 'mapping.score', 'unintegrated_clusters', 'seurat_clusters', 'condition'\n",
       "    var: 'gene_name'\n",
       "    obsm: 'X_ref.umap', 'X_umap.unintegrated'\n",
       "    layers: 'CRISPR'"
      ]
     },
     "execution_count": 3,
     "metadata": {},
     "output_type": "execute_result"
    }
   ],
   "source": [
    "import scanpy as sc\n",
    "adata = sc.read_h5ad('/gpfs/home/juntongy/gloria/my_gears/GEARS/processed.h5ad')\n",
    "adata"
   ]
  },
  {
   "cell_type": "code",
   "execution_count": 3,
   "id": "7824638d-0fd0-4f23-8b21-447ae65c8545",
   "metadata": {},
   "outputs": [
    {
     "data": {
      "text/html": [
       "<div>\n",
       "<style scoped>\n",
       "    .dataframe tbody tr th:only-of-type {\n",
       "        vertical-align: middle;\n",
       "    }\n",
       "\n",
       "    .dataframe tbody tr th {\n",
       "        vertical-align: top;\n",
       "    }\n",
       "\n",
       "    .dataframe thead th {\n",
       "        text-align: right;\n",
       "    }\n",
       "</style>\n",
       "<table border=\"1\" class=\"dataframe\">\n",
       "  <thead>\n",
       "    <tr style=\"text-align: right;\">\n",
       "      <th></th>\n",
       "      <th>variable_gene</th>\n",
       "    </tr>\n",
       "  </thead>\n",
       "  <tbody>\n",
       "    <tr>\n",
       "      <th>Xkr4</th>\n",
       "      <td>True</td>\n",
       "    </tr>\n",
       "    <tr>\n",
       "      <th>Gm1992</th>\n",
       "      <td>False</td>\n",
       "    </tr>\n",
       "  </tbody>\n",
       "</table>\n",
       "</div>"
      ],
      "text/plain": [
       "        variable_gene\n",
       "Xkr4             True\n",
       "Gm1992          False"
      ]
     },
     "execution_count": 3,
     "metadata": {},
     "output_type": "execute_result"
    }
   ],
   "source": [
    "adata.var.head(2)"
   ]
  },
  {
   "cell_type": "code",
   "execution_count": 4,
   "id": "753069f4",
   "metadata": {},
   "outputs": [],
   "source": [
    "# Store the current index (gene names) into a new column called 'gene_name'\n",
    "adata.var['gene_name'] = adata.var.index\n",
    "\n",
    "# Optionally reset the index if you want to replace it with default integers\n",
    "adata.var.reset_index(drop=True, inplace=True)"
   ]
  },
  {
   "cell_type": "code",
   "execution_count": 5,
   "id": "0335aaaa",
   "metadata": {},
   "outputs": [
    {
     "data": {
      "text/plain": [
       "pertgene\n",
       "ctrl                          2770\n",
       "Tcf4                          2276\n",
       "Foxg1                         1982\n",
       "Nr2f1                         1885\n",
       "Tbr1                          1448\n",
       "                              ... \n",
       "Nr2f1_1,Tcf4_2,Foxg1_1,GFP       1\n",
       "Nr2f1_1,Tcf4_3                   1\n",
       "Nr2f1_2,GFP,Foxg1_1              1\n",
       "Nr2f1_2,NonTarget2               1\n",
       "Nr2f1_3,Foxg1_1,Foxg1_2          1\n",
       "Name: count, Length: 283, dtype: int64"
      ]
     },
     "execution_count": 5,
     "metadata": {},
     "output_type": "execute_result"
    }
   ],
   "source": [
    "adata.obs['pertgene'].value_counts()"
   ]
  },
  {
   "cell_type": "code",
   "execution_count": 6,
   "id": "530a3134-6115-4174-8b10-0754f067db8a",
   "metadata": {},
   "outputs": [],
   "source": [
    "adata = adata[~adata.obs['pertgene'].str.contains(',')]"
   ]
  },
  {
   "cell_type": "code",
   "execution_count": 7,
   "id": "39f888b4-26e4-4d80-b93e-60c72005f051",
   "metadata": {},
   "outputs": [
    {
     "data": {
      "text/plain": [
       "pertgene\n",
       "ctrl     2770\n",
       "Tcf4     2276\n",
       "Foxg1    1982\n",
       "Nr2f1    1885\n",
       "Tbr1     1448\n",
       "Name: count, dtype: int64"
      ]
     },
     "execution_count": 7,
     "metadata": {},
     "output_type": "execute_result"
    }
   ],
   "source": [
    "adata.obs['pertgene'].value_counts()"
   ]
  },
  {
   "cell_type": "code",
   "execution_count": 8,
   "id": "02060f68-07d3-4e6f-8a17-0c63b7271825",
   "metadata": {},
   "outputs": [],
   "source": [
    "adata.obs['condition'] = adata.obs['pertgene'].apply(\n",
    "    lambda x: x if x == 'ctrl' else f\"{x.split('+')[0].upper()}+ctrl\"\n",
    ")"
   ]
  },
  {
   "cell_type": "code",
   "execution_count": 9,
   "id": "c039ccbb-8445-4131-8ff5-a0cb7c3d6088",
   "metadata": {},
   "outputs": [
    {
     "data": {
      "text/plain": [
       "condition\n",
       "ctrl          2770\n",
       "TCF4+ctrl     2276\n",
       "FOXG1+ctrl    1982\n",
       "NR2F1+ctrl    1885\n",
       "TBR1+ctrl     1448\n",
       "Name: count, dtype: int64"
      ]
     },
     "execution_count": 9,
     "metadata": {},
     "output_type": "execute_result"
    }
   ],
   "source": [
    "adata.obs['condition'].value_counts()"
   ]
  },
  {
   "cell_type": "code",
   "execution_count": 10,
   "id": "87214aa0",
   "metadata": {},
   "outputs": [
    {
     "data": {
      "text/plain": [
       "CellType\n",
       "Excit_L6CT_CTX      2918\n",
       "Excit_L5IT          1103\n",
       "CR                  1029\n",
       "Excit_Upper          983\n",
       "Excit_L6IT           948\n",
       "Excit_L5NP_CTX       899\n",
       "Excit_L2 IT ENTl     498\n",
       "Excit_L5 PT CTX      470\n",
       "Inhib_Lhx6+Sst-      435\n",
       "Inhib_Sst            387\n",
       "Excit_L6b/CT ENT     247\n",
       "Excit_L6b CTX        226\n",
       "Excit_Car3           131\n",
       "Inhib_Id2             87\n",
       "Name: count, dtype: int64"
      ]
     },
     "execution_count": 10,
     "metadata": {},
     "output_type": "execute_result"
    }
   ],
   "source": [
    "adata.obs['CellType'].value_counts()"
   ]
  },
  {
   "cell_type": "code",
   "execution_count": 11,
   "id": "e0a23c46",
   "metadata": {},
   "outputs": [],
   "source": [
    "adata.obs.rename(columns={'CellType': 'cell_type'}, inplace=True)"
   ]
  },
  {
   "cell_type": "code",
   "execution_count": 12,
   "id": "44003f9b",
   "metadata": {},
   "outputs": [
    {
     "data": {
      "text/plain": [
       "cell_type\n",
       "Excit_L6CT_CTX      2918\n",
       "Excit_L5IT          1103\n",
       "CR                  1029\n",
       "Excit_Upper          983\n",
       "Excit_L6IT           948\n",
       "Excit_L5NP_CTX       899\n",
       "Excit_L2 IT ENTl     498\n",
       "Excit_L5 PT CTX      470\n",
       "Inhib_Lhx6+Sst-      435\n",
       "Inhib_Sst            387\n",
       "Excit_L6b/CT ENT     247\n",
       "Excit_L6b CTX        226\n",
       "Excit_Car3           131\n",
       "Inhib_Id2             87\n",
       "Name: count, dtype: int64"
      ]
     },
     "execution_count": 12,
     "metadata": {},
     "output_type": "execute_result"
    }
   ],
   "source": [
    "adata.obs['cell_type'].value_counts()"
   ]
  },
  {
   "cell_type": "code",
   "execution_count": 13,
   "id": "91a64784-efde-4ce8-889c-8e8c42bd8a6f",
   "metadata": {},
   "outputs": [],
   "source": [
    "# test to see if the cell type split is the issue\n",
    "adata.obs['cell_type'] = 'Neuron'"
   ]
  },
  {
   "cell_type": "code",
   "execution_count": 14,
   "id": "d7d116bc",
   "metadata": {},
   "outputs": [
    {
     "data": {
      "text/html": [
       "<div>\n",
       "<style scoped>\n",
       "    .dataframe tbody tr th:only-of-type {\n",
       "        vertical-align: middle;\n",
       "    }\n",
       "\n",
       "    .dataframe tbody tr th {\n",
       "        vertical-align: top;\n",
       "    }\n",
       "\n",
       "    .dataframe thead th {\n",
       "        text-align: right;\n",
       "    }\n",
       "</style>\n",
       "<table border=\"1\" class=\"dataframe\">\n",
       "  <thead>\n",
       "    <tr style=\"text-align: right;\">\n",
       "      <th></th>\n",
       "      <th>variable_gene</th>\n",
       "      <th>gene_name</th>\n",
       "    </tr>\n",
       "  </thead>\n",
       "  <tbody>\n",
       "    <tr>\n",
       "      <th>0</th>\n",
       "      <td>True</td>\n",
       "      <td>Xkr4</td>\n",
       "    </tr>\n",
       "    <tr>\n",
       "      <th>1</th>\n",
       "      <td>False</td>\n",
       "      <td>Gm1992</td>\n",
       "    </tr>\n",
       "    <tr>\n",
       "      <th>2</th>\n",
       "      <td>False</td>\n",
       "      <td>Gm19938</td>\n",
       "    </tr>\n",
       "    <tr>\n",
       "      <th>3</th>\n",
       "      <td>False</td>\n",
       "      <td>Gm37381</td>\n",
       "    </tr>\n",
       "    <tr>\n",
       "      <th>4</th>\n",
       "      <td>False</td>\n",
       "      <td>Rp1</td>\n",
       "    </tr>\n",
       "    <tr>\n",
       "      <th>...</th>\n",
       "      <td>...</td>\n",
       "      <td>...</td>\n",
       "    </tr>\n",
       "    <tr>\n",
       "      <th>32280</th>\n",
       "      <td>False</td>\n",
       "      <td>AC124606.1</td>\n",
       "    </tr>\n",
       "    <tr>\n",
       "      <th>32281</th>\n",
       "      <td>False</td>\n",
       "      <td>AC133095.2</td>\n",
       "    </tr>\n",
       "    <tr>\n",
       "      <th>32282</th>\n",
       "      <td>False</td>\n",
       "      <td>AC133095.1</td>\n",
       "    </tr>\n",
       "    <tr>\n",
       "      <th>32283</th>\n",
       "      <td>False</td>\n",
       "      <td>AC234645.1</td>\n",
       "    </tr>\n",
       "    <tr>\n",
       "      <th>32284</th>\n",
       "      <td>False</td>\n",
       "      <td>AC149090.1</td>\n",
       "    </tr>\n",
       "  </tbody>\n",
       "</table>\n",
       "<p>32285 rows × 2 columns</p>\n",
       "</div>"
      ],
      "text/plain": [
       "       variable_gene   gene_name\n",
       "0               True        Xkr4\n",
       "1              False      Gm1992\n",
       "2              False     Gm19938\n",
       "3              False     Gm37381\n",
       "4              False         Rp1\n",
       "...              ...         ...\n",
       "32280          False  AC124606.1\n",
       "32281          False  AC133095.2\n",
       "32282          False  AC133095.1\n",
       "32283          False  AC234645.1\n",
       "32284          False  AC149090.1\n",
       "\n",
       "[32285 rows x 2 columns]"
      ]
     },
     "execution_count": 14,
     "metadata": {},
     "output_type": "execute_result"
    }
   ],
   "source": [
    "adata.var"
   ]
  },
  {
   "cell_type": "code",
   "execution_count": 15,
   "id": "e7354d4a",
   "metadata": {},
   "outputs": [
    {
     "data": {
      "text/html": [
       "<div>\n",
       "<style scoped>\n",
       "    .dataframe tbody tr th:only-of-type {\n",
       "        vertical-align: middle;\n",
       "    }\n",
       "\n",
       "    .dataframe tbody tr th {\n",
       "        vertical-align: top;\n",
       "    }\n",
       "\n",
       "    .dataframe thead th {\n",
       "        text-align: right;\n",
       "    }\n",
       "</style>\n",
       "<table border=\"1\" class=\"dataframe\">\n",
       "  <thead>\n",
       "    <tr style=\"text-align: right;\">\n",
       "      <th></th>\n",
       "      <th>Name</th>\n",
       "      <th>orig.ident</th>\n",
       "      <th>nCount_RNA</th>\n",
       "      <th>nFeature_RNA</th>\n",
       "      <th>scds</th>\n",
       "      <th>cxds</th>\n",
       "      <th>bcds</th>\n",
       "      <th>RNA_snn_res.0.8</th>\n",
       "      <th>seurat_clusters</th>\n",
       "      <th>nCount_refAssay</th>\n",
       "      <th>...</th>\n",
       "      <th>Max</th>\n",
       "      <th>MaxVal</th>\n",
       "      <th>SecMaxVal</th>\n",
       "      <th>demuxHC</th>\n",
       "      <th>demuxCR</th>\n",
       "      <th>demuxDS</th>\n",
       "      <th>assignDS</th>\n",
       "      <th>pertgene</th>\n",
       "      <th>active_ident</th>\n",
       "      <th>condition</th>\n",
       "    </tr>\n",
       "  </thead>\n",
       "  <tbody>\n",
       "    <tr>\n",
       "      <th>Ch1_AAACCTGTCAGGTTCA-1</th>\n",
       "      <td>Ch1_Nr2f1_3</td>\n",
       "      <td>Ch1</td>\n",
       "      <td>17773</td>\n",
       "      <td>5382</td>\n",
       "      <td>0.595517</td>\n",
       "      <td>714.451233</td>\n",
       "      <td>0.438533</td>\n",
       "      <td>6</td>\n",
       "      <td>6</td>\n",
       "      <td>17773</td>\n",
       "      <td>...</td>\n",
       "      <td>Nr2f13</td>\n",
       "      <td>176</td>\n",
       "      <td>8</td>\n",
       "      <td>singlet</td>\n",
       "      <td>singlet</td>\n",
       "      <td>singlet</td>\n",
       "      <td>Nr2f1_3</td>\n",
       "      <td>Nr2f1</td>\n",
       "      <td>6</td>\n",
       "      <td>NR2F1+ctrl</td>\n",
       "    </tr>\n",
       "    <tr>\n",
       "      <th>Ch1_AAACCTGTCCTTTACA-1</th>\n",
       "      <td>Ch1_NonTarget1</td>\n",
       "      <td>Ch1</td>\n",
       "      <td>11213</td>\n",
       "      <td>4506</td>\n",
       "      <td>0.385882</td>\n",
       "      <td>697.850370</td>\n",
       "      <td>0.233780</td>\n",
       "      <td>4</td>\n",
       "      <td>4</td>\n",
       "      <td>11213</td>\n",
       "      <td>...</td>\n",
       "      <td>NonTarget1</td>\n",
       "      <td>112</td>\n",
       "      <td>4</td>\n",
       "      <td>singlet</td>\n",
       "      <td>singlet</td>\n",
       "      <td>singlet</td>\n",
       "      <td>NonTarget1</td>\n",
       "      <td>ctrl</td>\n",
       "      <td>4</td>\n",
       "      <td>ctrl</td>\n",
       "    </tr>\n",
       "  </tbody>\n",
       "</table>\n",
       "<p>2 rows × 54 columns</p>\n",
       "</div>"
      ],
      "text/plain": [
       "                                  Name orig.ident  nCount_RNA  nFeature_RNA  \\\n",
       "Ch1_AAACCTGTCAGGTTCA-1     Ch1_Nr2f1_3        Ch1       17773          5382   \n",
       "Ch1_AAACCTGTCCTTTACA-1  Ch1_NonTarget1        Ch1       11213          4506   \n",
       "\n",
       "                            scds        cxds      bcds RNA_snn_res.0.8  \\\n",
       "Ch1_AAACCTGTCAGGTTCA-1  0.595517  714.451233  0.438533               6   \n",
       "Ch1_AAACCTGTCCTTTACA-1  0.385882  697.850370  0.233780               4   \n",
       "\n",
       "                       seurat_clusters  nCount_refAssay  ...         Max  \\\n",
       "Ch1_AAACCTGTCAGGTTCA-1               6            17773  ...      Nr2f13   \n",
       "Ch1_AAACCTGTCCTTTACA-1               4            11213  ...  NonTarget1   \n",
       "\n",
       "                        MaxVal SecMaxVal  demuxHC  demuxCR  demuxDS  \\\n",
       "Ch1_AAACCTGTCAGGTTCA-1     176         8  singlet  singlet  singlet   \n",
       "Ch1_AAACCTGTCCTTTACA-1     112         4  singlet  singlet  singlet   \n",
       "\n",
       "                          assignDS  pertgene active_ident   condition  \n",
       "Ch1_AAACCTGTCAGGTTCA-1     Nr2f1_3     Nr2f1            6  NR2F1+ctrl  \n",
       "Ch1_AAACCTGTCCTTTACA-1  NonTarget1      ctrl            4        ctrl  \n",
       "\n",
       "[2 rows x 54 columns]"
      ]
     },
     "execution_count": 15,
     "metadata": {},
     "output_type": "execute_result"
    }
   ],
   "source": [
    "adata.obs.head(2)"
   ]
  },
  {
   "cell_type": "markdown",
   "id": "2b3a8a97",
   "metadata": {},
   "source": [
    "### Suggested normalization\n",
    "\n",
    "For raw count data we recommend the following normalization and subsetting to the top 5000 most variable genes"
   ]
  },
  {
   "cell_type": "code",
   "execution_count": 16,
   "id": "905cd07a",
   "metadata": {},
   "outputs": [],
   "source": [
    "import pickle\n",
    "\n",
    "with open(\"/gpfs/home/asun/jin_lab/get/GEARS/demo/perturb_indices.pkl\", \"rb\") as f:\n",
    "    perturb_indices = pickle.load(f)"
   ]
  },
  {
   "cell_type": "code",
   "execution_count": 17,
   "id": "6de6b536",
   "metadata": {},
   "outputs": [],
   "source": [
    "sc.pp.normalize_total(adata)\n",
    "sc.pp.log1p(adata)\n",
    "##sc.pp.highly_variable_genes(adata,n_top_genes=5000, subset=True)\n"
   ]
  },
  {
   "cell_type": "code",
   "execution_count": 18,
   "id": "82be7d0a",
   "metadata": {},
   "outputs": [],
   "source": [
    "adata = adata[:, perturb_indices].copy()"
   ]
  },
  {
   "cell_type": "code",
   "execution_count": 19,
   "id": "9d86d522",
   "metadata": {},
   "outputs": [
    {
     "data": {
      "text/plain": [
       "AnnData object with n_obs × n_vars = 10361 × 2340\n",
       "    obs: 'Name', 'orig.ident', 'nCount_RNA', 'nFeature_RNA', 'scds', 'cxds', 'bcds', 'RNA_snn_res.0.8', 'seurat_clusters', 'nCount_refAssay', 'nFeature_refAssay', 'predicted.subclass.score', 'predicted.subclass', 'feature_call', 'num_features', 'num_umis', 'nCount_Crispr', 'nFeature_Crispr', 'RNA_snn_res.1.5', 'lowQC', 'cell_type', 'Perc', 'CBC', 'antisense', 'intergenic', 'intronic', 'exonic', 'multi', 'unmapped', 'highConf', 'polyA', 'TSO', 'spliced', 'percent_qual_cbc', 'percent_qual_umi', 'nUMI', 'UTR', 'total', 'Rem', 'CellType_Gen', 'Mito', 'demux_type', 'assignment', 'Keep', 'Max', 'MaxVal', 'SecMaxVal', 'demuxHC', 'demuxCR', 'demuxDS', 'assignDS', 'pertgene', 'active_ident', 'condition'\n",
       "    var: 'variable_gene', 'gene_name'\n",
       "    uns: 'RNA_snn_res.0.8_colors', 'active_ident_colors', 'seurat_clusters_colors', 'log1p'\n",
       "    obsm: 'X_gbm', 'X_pca', 'X_umap'\n",
       "    layers: 'raw_count'"
      ]
     },
     "execution_count": 19,
     "metadata": {},
     "output_type": "execute_result"
    }
   ],
   "source": [
    "adata\n"
   ]
  },
  {
   "cell_type": "markdown",
   "id": "3369c77f",
   "metadata": {},
   "source": [
    "### Create dataloader\n",
    "\n",
    "GEARS will take it from here. The new data processing takes around 15 minutes for 5K genes and 100K cells. "
   ]
  },
  {
   "cell_type": "code",
   "execution_count": 20,
   "id": "a2f58777",
   "metadata": {},
   "outputs": [
    {
     "name": "stderr",
     "output_type": "stream",
     "text": [
      "Found local copy...\n",
      "Found local copy...\n",
      "Creating pyg object for each cell in the data...\n",
      "Creating dataset file...\n",
      "100%|████████████████████████████████████████████████████████████████████████████████████████████████████| 5/5 [02:29<00:00, 29.81s/it]\n",
      "Done!\n",
      "Saving new dataset pyg object at ./data/zheng_get/data_pyg/cell_graphs.pkl\n",
      "Done!\n"
     ]
    },
    {
     "ename": "ValueError",
     "evalue": "data attribute is either norman, adamson, dixit replogle_k562 or replogle_rpe1 or a path to an h5ad file",
     "output_type": "error",
     "traceback": [
      "\u001b[31m---------------------------------------------------------------------------\u001b[39m",
      "\u001b[31mValueError\u001b[39m                                Traceback (most recent call last)",
      "\u001b[36mCell\u001b[39m\u001b[36m \u001b[39m\u001b[32mIn[20]\u001b[39m\u001b[32m, line 8\u001b[39m\n\u001b[32m      6\u001b[39m pert_data = PertData(\u001b[33m'\u001b[39m\u001b[33m./data\u001b[39m\u001b[33m'\u001b[39m) \u001b[38;5;66;03m# specific saved folder\u001b[39;00m\n\u001b[32m      7\u001b[39m pert_data.new_data_process(dataset_name = \u001b[33m'\u001b[39m\u001b[33mzheng_GET\u001b[39m\u001b[33m'\u001b[39m, adata = adata) \u001b[38;5;66;03m# specific dataset name and adata object\u001b[39;00m\n\u001b[32m----> \u001b[39m\u001b[32m8\u001b[39m \u001b[43mpert_data\u001b[49m\u001b[43m.\u001b[49m\u001b[43mload\u001b[49m\u001b[43m(\u001b[49m\u001b[43mdata_path\u001b[49m\u001b[43m \u001b[49m\u001b[43m=\u001b[49m\u001b[43m \u001b[49m\u001b[33;43m'\u001b[39;49m\u001b[33;43m./data/zheng_GET\u001b[39;49m\u001b[33;43m'\u001b[39;49m\u001b[43m)\u001b[49m \u001b[38;5;66;03m# load the processed data, the path is saved folder + dataset_name\u001b[39;00m\n\u001b[32m      9\u001b[39m pert_data.prepare_split(split = \u001b[33m'\u001b[39m\u001b[33msimulation_single\u001b[39m\u001b[33m'\u001b[39m, seed = \u001b[32m1\u001b[39m) \u001b[38;5;66;03m# get data split with seed\u001b[39;00m\n\u001b[32m     10\u001b[39m pert_data.get_dataloader(batch_size = \u001b[32m32\u001b[39m, test_batch_size = \u001b[32m128\u001b[39m) \u001b[38;5;66;03m# prepare data loader\u001b[39;00m\n",
      "\u001b[36mFile \u001b[39m\u001b[32m~/miniforge3/envs/gears/lib/python3.12/site-packages/gears/pertdata.py:179\u001b[39m, in \u001b[36mPertData.load\u001b[39m\u001b[34m(self, data_name, data_path)\u001b[39m\n\u001b[32m    177\u001b[39m     \u001b[38;5;28mself\u001b[39m.dataset_path = data_path\n\u001b[32m    178\u001b[39m \u001b[38;5;28;01melse\u001b[39;00m:\n\u001b[32m--> \u001b[39m\u001b[32m179\u001b[39m     \u001b[38;5;28;01mraise\u001b[39;00m \u001b[38;5;167;01mValueError\u001b[39;00m(\u001b[33m\"\u001b[39m\u001b[33mdata attribute is either norman, adamson, dixit \u001b[39m\u001b[33m\"\u001b[39m\n\u001b[32m    180\u001b[39m                      \u001b[33m\"\u001b[39m\u001b[33mreplogle_k562 or replogle_rpe1 \u001b[39m\u001b[33m\"\u001b[39m\n\u001b[32m    181\u001b[39m                      \u001b[33m\"\u001b[39m\u001b[33mor a path to an h5ad file\u001b[39m\u001b[33m\"\u001b[39m)\n\u001b[32m    183\u001b[39m \u001b[38;5;28mself\u001b[39m.set_pert_genes()\n\u001b[32m    184\u001b[39m print_sys(\u001b[33m'\u001b[39m\u001b[33mThese perturbations are not in the GO graph and their \u001b[39m\u001b[33m'\u001b[39m\n\u001b[32m    185\u001b[39m           \u001b[33m'\u001b[39m\u001b[33mperturbation can thus not be predicted\u001b[39m\u001b[33m'\u001b[39m)\n",
      "\u001b[31mValueError\u001b[39m: data attribute is either norman, adamson, dixit replogle_k562 or replogle_rpe1 or a path to an h5ad file"
     ]
    },
    {
     "name": "stderr",
     "output_type": "stream",
     "text": [
      "Found local copy...\n",
      "Creating pyg object for each cell in the data...\n",
      "Creating dataset file...\n",
      "  0%|          | 0/5 [00:00<?, ?it/s]"
     ]
    }
   ],
   "source": [
    "import sys\n",
    "sys.path.append('../')\n",
    "\n",
    "from gears import PertData\n",
    "\n",
    "pert_data = PertData('./data') # specific saved folder\n",
    "pert_data.new_data_process(dataset_name = 'zheng_GET', adata = adata) # specific dataset name and adata object\n",
    "pert_data.load(data_path = './data/zheng_get') # load the processed data, the path is saved folder + dataset_name\n",
    "pert_data.prepare_split(split = 'simulation_single', seed = 1) # get data split with seed\n",
    "pert_data.get_dataloader(batch_size = 32, test_batch_size = 128) # prepare data loader"
   ]
  },
  {
   "cell_type": "code",
   "execution_count": 21,
   "id": "6c86642b-6725-492e-82f5-b8b462f91d15",
   "metadata": {},
   "outputs": [
    {
     "name": "stderr",
     "output_type": "stream",
     "text": [
      "Found local copy...\n",
      "These perturbations are not in the GO graph and their perturbation can thus not be predicted\n",
      "[]\n",
      "Local copy of pyg dataset is detected. Loading...\n",
      "Done!\n",
      "Creating new splits....\n",
      "Saving new splits at ./data/zheng_get/splits/zheng_get_simulation_single_1_0.75.pkl\n",
      "Done!\n",
      "Creating dataloaders....\n",
      "Done!\n"
     ]
    }
   ],
   "source": [
    "pert_data.load(data_path = './data/zheng_get') # load the processed data, the path is saved folder + dataset_name\n",
    "pert_data.prepare_split(split = 'simulation_single', seed = 1) # get data split with seed\n",
    "pert_data.get_dataloader(batch_size = 32, test_batch_size = 128) # prepare data loader"
   ]
  },
  {
   "cell_type": "markdown",
   "id": "d6ca6d58-6c76-40f0-a154-f042debeb048",
   "metadata": {
    "jp-MarkdownHeadingCollapsed": true
   },
   "source": [
    "# processing boli"
   ]
  },
  {
   "cell_type": "code",
   "execution_count": 6,
   "id": "3f0e0a3b-2910-4a15-8bed-e110e48d44b9",
   "metadata": {},
   "outputs": [
    {
     "data": {
      "text/plain": [
       "AnnData object with n_obs × n_vars = 35527 × 32285\n",
       "    obs: 'orig.ident', 'nCount_RNA', 'nFeature_RNA', 'seurat_clusters', 'Assign', 'scds', 'cxds', 'bcds', 'Sample', 'nCount_refAssay', 'nFeature_refAssay', 'predicted.subclass.score', 'predicted.subclass', 'CT', 'mito', 'BioSamp', 'CT2', 'ForPlot', 'Remove', 'active_ident'\n",
       "    var: 'variable_gene'"
      ]
     },
     "execution_count": 6,
     "metadata": {},
     "output_type": "execute_result"
    }
   ],
   "source": [
    "import scanpy as sc\n",
    "adata = sc.read_h5ad('/gpfs/home/asun/jin_lab/get/raw_data/seur.cur.h5ad')\n",
    "adata"
   ]
  },
  {
   "cell_type": "code",
   "execution_count": 28,
   "id": "cb716a3d",
   "metadata": {},
   "outputs": [
    {
     "name": "stdout",
     "output_type": "stream",
     "text": [
      "                                       Xkr4  Gm1992  Gm19938  Gm37381  Rp1  \\\n",
      "batch1_samp1_chan1_AAACCTGAGACAAAGG-1   5.0     0.0      0.0      0.0  0.0   \n",
      "batch1_samp1_chan1_AAACCTGAGGCCGAAT-1  15.0     0.0      0.0      0.0  1.0   \n",
      "batch1_samp1_chan1_AAACCTGCAACTGGCC-1  15.0     0.0      0.0      0.0  0.0   \n",
      "batch1_samp1_chan1_AAACCTGCACGGTAAG-1   1.0     0.0      0.0      0.0  0.0   \n",
      "batch1_samp1_chan1_AAACCTGCACTATCTT-1   3.0     0.0      0.0      0.0  0.0   \n",
      "batch1_samp1_chan1_AAACCTGCAGGGCATA-1   3.0     0.0      0.0      0.0  0.0   \n",
      "batch1_samp1_chan1_AAACCTGCATAACCTG-1   4.0     0.0      0.0      0.0  0.0   \n",
      "batch1_samp1_chan1_AAACCTGGTGCTTCTC-1   1.0     0.0      0.0      0.0  0.0   \n",
      "batch1_samp1_chan1_AAACCTGGTGTCGCTG-1   3.0     0.0      0.0      0.0  0.0   \n",
      "batch1_samp1_chan1_AAACCTGGTTGTCGCG-1   1.0     1.0      0.0      0.0  0.0   \n",
      "\n",
      "                                       Sox17  Gm37587  Gm37323  Mrpl15  Lypla1  \n",
      "batch1_samp1_chan1_AAACCTGAGACAAAGG-1    0.0      0.0      0.0     0.0     0.0  \n",
      "batch1_samp1_chan1_AAACCTGAGGCCGAAT-1    0.0      0.0      0.0     0.0     0.0  \n",
      "batch1_samp1_chan1_AAACCTGCAACTGGCC-1    0.0      0.0      0.0     0.0     0.0  \n",
      "batch1_samp1_chan1_AAACCTGCACGGTAAG-1    0.0      0.0      0.0     1.0     0.0  \n",
      "batch1_samp1_chan1_AAACCTGCACTATCTT-1    0.0      0.0      0.0     0.0     0.0  \n",
      "batch1_samp1_chan1_AAACCTGCAGGGCATA-1    0.0      0.0      0.0     0.0     0.0  \n",
      "batch1_samp1_chan1_AAACCTGCATAACCTG-1    0.0      0.0      0.0     0.0     0.0  \n",
      "batch1_samp1_chan1_AAACCTGGTGCTTCTC-1    0.0      0.0      0.0     0.0     0.0  \n",
      "batch1_samp1_chan1_AAACCTGGTGTCGCTG-1    0.0      0.0      0.0     0.0     0.0  \n",
      "batch1_samp1_chan1_AAACCTGGTTGTCGCG-1    0.0      0.0      0.0     0.0     0.0  \n"
     ]
    }
   ],
   "source": [
    "print(adata.to_df().iloc[:10, :10])\n"
   ]
  },
  {
   "cell_type": "code",
   "execution_count": 34,
   "id": "64039bdf",
   "metadata": {},
   "outputs": [
    {
     "name": "stdout",
     "output_type": "stream",
     "text": [
      "Log2FC for Tafa1 in L6 CT CTX: 3.310690559195603\n"
     ]
    }
   ],
   "source": [
    "import numpy as np\n",
    "\n",
    "gene_name = 'Tafa1'  # replace with your gene of interest\n",
    "cell_type = 'L6 CT CTX'  # your cell type of interest\n",
    "\n",
    "# Get gene index\n",
    "gene_idx = adata.var_names.get_loc(gene_name)\n",
    "\n",
    "# Filter cells by condition AND cell type\n",
    "perturb_cells = adata[(adata.obs['Assign'] == 'Tbr1_0') & (adata.obs['predicted.subclass'] == cell_type)]\n",
    "control_cells = adata[(adata.obs['Assign'] == 'NT_0') & (adata.obs['predicted.subclass'] == cell_type)]\n",
    "\n",
    "# Calculate mean expression for the gene in each group\n",
    "mean_perturb = perturb_cells.X[:, gene_idx].mean()\n",
    "mean_control = control_cells.X[:, gene_idx].mean()\n",
    "\n",
    "# Handle sparse matrix if needed\n",
    "if hasattr(mean_perturb, \"toarray\"):\n",
    "    mean_perturb = mean_perturb.toarray().ravel()[0]\n",
    "    mean_control = mean_control.toarray().ravel()[0]\n",
    "\n",
    "# Pseudocount to avoid div by zero\n",
    "pseudocount = 1e-9\n",
    "log2fc = np.log2((mean_perturb + pseudocount) / (mean_control + pseudocount))\n",
    "\n",
    "print(f'Log2FC for {gene_name} in {cell_type}: {log2fc}')"
   ]
  },
  {
   "cell_type": "code",
   "execution_count": 36,
   "id": "120ab05c-d899-4ef6-a431-d48edd2662fa",
   "metadata": {},
   "outputs": [
    {
     "data": {
      "text/html": [
       "<div>\n",
       "<style scoped>\n",
       "    .dataframe tbody tr th:only-of-type {\n",
       "        vertical-align: middle;\n",
       "    }\n",
       "\n",
       "    .dataframe tbody tr th {\n",
       "        vertical-align: top;\n",
       "    }\n",
       "\n",
       "    .dataframe thead th {\n",
       "        text-align: right;\n",
       "    }\n",
       "</style>\n",
       "<table border=\"1\" class=\"dataframe\">\n",
       "  <thead>\n",
       "    <tr style=\"text-align: right;\">\n",
       "      <th></th>\n",
       "      <th>variable_gene</th>\n",
       "    </tr>\n",
       "  </thead>\n",
       "  <tbody>\n",
       "    <tr>\n",
       "      <th>Xkr4</th>\n",
       "      <td>False</td>\n",
       "    </tr>\n",
       "    <tr>\n",
       "      <th>Gm1992</th>\n",
       "      <td>False</td>\n",
       "    </tr>\n",
       "  </tbody>\n",
       "</table>\n",
       "</div>"
      ],
      "text/plain": [
       "        variable_gene\n",
       "Xkr4            False\n",
       "Gm1992          False"
      ]
     },
     "execution_count": 36,
     "metadata": {},
     "output_type": "execute_result"
    }
   ],
   "source": [
    "adata.var.head(2)"
   ]
  },
  {
   "cell_type": "code",
   "execution_count": 48,
   "id": "9310c1ba-caee-417d-8da1-2e5ebd36b27e",
   "metadata": {},
   "outputs": [],
   "source": [
    "# Store the current index (gene names) into a new column called 'gene_name'\n",
    "adata.var['gene_name'] = adata.var.index\n",
    "\n",
    "# Optionally reset the index if you want to replace it with default integers\n",
    "adata.var.reset_index(drop=True, inplace=True)"
   ]
  },
  {
   "cell_type": "code",
   "execution_count": 8,
   "id": "61af28dd-1639-4c45-94b7-f777be60bca8",
   "metadata": {},
   "outputs": [
    {
     "data": {
      "text/plain": [
       "Assign\n",
       "Bcl11b_0    5367\n",
       "Trio_0      4274\n",
       "Dab1_0      4123\n",
       "Tbr1_0      3466\n",
       "NT_0        2735\n",
       "Rb1cc1_0    2534\n",
       "Satb2_0     2320\n",
       "Herc1_0     2165\n",
       "NT_1        1979\n",
       "Ank3_0      1763\n",
       "Xpo7_0      1602\n",
       "Cx3cl1_0    1392\n",
       "Cul1_0      1297\n",
       "ST_0         307\n",
       "ST_1         203\n",
       "Name: count, dtype: int64"
      ]
     },
     "execution_count": 8,
     "metadata": {},
     "output_type": "execute_result"
    }
   ],
   "source": [
    "# Show the unique cell types\n",
    "adata.obs['Assign'].value_counts()"
   ]
  },
  {
   "cell_type": "code",
   "execution_count": 9,
   "id": "2040c69a-0b8f-4e54-bef1-e2bb5b254dee",
   "metadata": {},
   "outputs": [],
   "source": [
    "def clean_assign(val):\n",
    "    if val in {'NT_0', 'NT_1', 'ST_0', 'ST_1'}:\n",
    "        return 'ctrl'\n",
    "    else:\n",
    "        return val.replace('_0', '').capitalize()\n",
    "\n",
    "adata.obs['Assign_clean'] = adata.obs['Assign'].apply(clean_assign)"
   ]
  },
  {
   "cell_type": "code",
   "execution_count": 50,
   "id": "9ef8e4cc",
   "metadata": {},
   "outputs": [],
   "source": [
    "def clean_assign(val):\n",
    "    if val in {'NT_0'}:\n",
    "        return 'ctrl'\n",
    "    else:\n",
    "        return val.replace('_0', '').capitalize()\n",
    "\n",
    "adata.obs['Assign_clean'] = adata.obs['Assign'].apply(clean_assign)\n",
    "\n",
    "to_remove = ['Nt_1', 'St', 'St_1']\n",
    "adata = adata[~adata.obs['Assign_clean'].isin(to_remove)].copy()"
   ]
  },
  {
   "cell_type": "code",
   "execution_count": 10,
   "id": "6d7fdc58-4dad-4472-847a-5038183ad043",
   "metadata": {},
   "outputs": [
    {
     "data": {
      "text/plain": [
       "Assign_clean\n",
       "Bcl11b    5367\n",
       "ctrl      5224\n",
       "Trio      4274\n",
       "Dab1      4123\n",
       "Tbr1      3466\n",
       "Rb1cc1    2534\n",
       "Satb2     2320\n",
       "Herc1     2165\n",
       "Ank3      1763\n",
       "Xpo7      1602\n",
       "Cx3cl1    1392\n",
       "Cul1      1297\n",
       "Name: count, dtype: int64"
      ]
     },
     "execution_count": 10,
     "metadata": {},
     "output_type": "execute_result"
    }
   ],
   "source": [
    "# Show the unique cell types\n",
    "adata.obs['Assign_clean'].value_counts()"
   ]
  },
  {
   "cell_type": "code",
   "execution_count": 52,
   "id": "767c20b8-fe1d-4be7-9d11-5a42fdc22be8",
   "metadata": {},
   "outputs": [],
   "source": [
    "adata.obs['condition'] = adata.obs['Assign_clean'].apply(\n",
    "    lambda x: x if x == 'ctrl' else f\"{x.split('+')[0].upper()}+ctrl\"\n",
    ")"
   ]
  },
  {
   "cell_type": "code",
   "execution_count": 4,
   "id": "75062da0-67f9-4a87-8996-6af941d67037",
   "metadata": {},
   "outputs": [
    {
     "data": {
      "text/plain": [
       "condition\n",
       "ctrl           5379\n",
       "BCL11B+ctrl    2561\n",
       "XPO7+ctrl      1376\n",
       "RB1CC1+ctrl    1332\n",
       "TBR1+ctrl      1084\n",
       "HERC1+ctrl      801\n",
       "CUL1+ctrl       776\n",
       "ANK3+ctrl       685\n",
       "SATB2+ctrl      517\n",
       "Name: count, dtype: int64"
      ]
     },
     "execution_count": 4,
     "metadata": {},
     "output_type": "execute_result"
    }
   ],
   "source": [
    "adata.obs['condition'].value_counts()"
   ]
  },
  {
   "cell_type": "code",
   "execution_count": 14,
   "id": "97d66c5a-5e97-4701-8b80-6876c7e8e2e2",
   "metadata": {},
   "outputs": [
    {
     "data": {
      "text/html": [
       "<div>\n",
       "<style scoped>\n",
       "    .dataframe tbody tr th:only-of-type {\n",
       "        vertical-align: middle;\n",
       "    }\n",
       "\n",
       "    .dataframe tbody tr th {\n",
       "        vertical-align: top;\n",
       "    }\n",
       "\n",
       "    .dataframe thead th {\n",
       "        text-align: right;\n",
       "    }\n",
       "</style>\n",
       "<table border=\"1\" class=\"dataframe\">\n",
       "  <thead>\n",
       "    <tr style=\"text-align: right;\">\n",
       "      <th></th>\n",
       "      <th>orig.ident</th>\n",
       "      <th>nCount_RNA</th>\n",
       "      <th>nFeature_RNA</th>\n",
       "      <th>seurat_clusters</th>\n",
       "      <th>Assign</th>\n",
       "      <th>scds</th>\n",
       "      <th>cxds</th>\n",
       "      <th>bcds</th>\n",
       "      <th>Sample</th>\n",
       "      <th>nCount_refAssay</th>\n",
       "      <th>...</th>\n",
       "      <th>predicted.subclass</th>\n",
       "      <th>CT</th>\n",
       "      <th>mito</th>\n",
       "      <th>BioSamp</th>\n",
       "      <th>CT2</th>\n",
       "      <th>ForPlot</th>\n",
       "      <th>Remove</th>\n",
       "      <th>active_ident</th>\n",
       "      <th>Assign_clean</th>\n",
       "      <th>condition</th>\n",
       "    </tr>\n",
       "  </thead>\n",
       "  <tbody>\n",
       "    <tr>\n",
       "      <th>batch1_samp1_chan1_AAACCTGAGACAAAGG-1</th>\n",
       "      <td>batch1</td>\n",
       "      <td>6831</td>\n",
       "      <td>2953</td>\n",
       "      <td>7</td>\n",
       "      <td>Bcl11b_0</td>\n",
       "      <td>1.323674</td>\n",
       "      <td>28996.749458</td>\n",
       "      <td>0.880423</td>\n",
       "      <td>batch1_samp1_chan1</td>\n",
       "      <td>6831</td>\n",
       "      <td>...</td>\n",
       "      <td>L5 PT CTX</td>\n",
       "      <td>L6 CT CTX</td>\n",
       "      <td>0.029278</td>\n",
       "      <td>batch1_samp1</td>\n",
       "      <td>030 L6 CT CTX Glut</td>\n",
       "      <td>batch1_samp1_Bcl11b_0</td>\n",
       "      <td>False</td>\n",
       "      <td>7</td>\n",
       "      <td>Bcl11b</td>\n",
       "      <td>BCL11B+ctrl</td>\n",
       "    </tr>\n",
       "    <tr>\n",
       "      <th>batch1_samp1_chan1_AAACCTGAGGCCGAAT-1</th>\n",
       "      <td>batch1</td>\n",
       "      <td>6016</td>\n",
       "      <td>2767</td>\n",
       "      <td>21</td>\n",
       "      <td>Bcl11b_0</td>\n",
       "      <td>0.487555</td>\n",
       "      <td>9829.195327</td>\n",
       "      <td>0.337222</td>\n",
       "      <td>batch1_samp1_chan1</td>\n",
       "      <td>6016</td>\n",
       "      <td>...</td>\n",
       "      <td>L6b CTX</td>\n",
       "      <td>L6b CTX</td>\n",
       "      <td>0.016622</td>\n",
       "      <td>batch1_samp1</td>\n",
       "      <td>029 L6b CTX Glut</td>\n",
       "      <td>batch1_samp1_Bcl11b_0</td>\n",
       "      <td>False</td>\n",
       "      <td>21</td>\n",
       "      <td>Bcl11b</td>\n",
       "      <td>BCL11B+ctrl</td>\n",
       "    </tr>\n",
       "  </tbody>\n",
       "</table>\n",
       "<p>2 rows × 22 columns</p>\n",
       "</div>"
      ],
      "text/plain": [
       "                                      orig.ident  nCount_RNA  nFeature_RNA  \\\n",
       "batch1_samp1_chan1_AAACCTGAGACAAAGG-1     batch1        6831          2953   \n",
       "batch1_samp1_chan1_AAACCTGAGGCCGAAT-1     batch1        6016          2767   \n",
       "\n",
       "                                      seurat_clusters    Assign      scds  \\\n",
       "batch1_samp1_chan1_AAACCTGAGACAAAGG-1               7  Bcl11b_0  1.323674   \n",
       "batch1_samp1_chan1_AAACCTGAGGCCGAAT-1              21  Bcl11b_0  0.487555   \n",
       "\n",
       "                                               cxds      bcds  \\\n",
       "batch1_samp1_chan1_AAACCTGAGACAAAGG-1  28996.749458  0.880423   \n",
       "batch1_samp1_chan1_AAACCTGAGGCCGAAT-1   9829.195327  0.337222   \n",
       "\n",
       "                                                   Sample  nCount_refAssay  \\\n",
       "batch1_samp1_chan1_AAACCTGAGACAAAGG-1  batch1_samp1_chan1             6831   \n",
       "batch1_samp1_chan1_AAACCTGAGGCCGAAT-1  batch1_samp1_chan1             6016   \n",
       "\n",
       "                                       ...  predicted.subclass         CT  \\\n",
       "batch1_samp1_chan1_AAACCTGAGACAAAGG-1  ...           L5 PT CTX  L6 CT CTX   \n",
       "batch1_samp1_chan1_AAACCTGAGGCCGAAT-1  ...             L6b CTX    L6b CTX   \n",
       "\n",
       "                                           mito       BioSamp  \\\n",
       "batch1_samp1_chan1_AAACCTGAGACAAAGG-1  0.029278  batch1_samp1   \n",
       "batch1_samp1_chan1_AAACCTGAGGCCGAAT-1  0.016622  batch1_samp1   \n",
       "\n",
       "                                                      CT2  \\\n",
       "batch1_samp1_chan1_AAACCTGAGACAAAGG-1  030 L6 CT CTX Glut   \n",
       "batch1_samp1_chan1_AAACCTGAGGCCGAAT-1    029 L6b CTX Glut   \n",
       "\n",
       "                                                     ForPlot Remove  \\\n",
       "batch1_samp1_chan1_AAACCTGAGACAAAGG-1  batch1_samp1_Bcl11b_0  False   \n",
       "batch1_samp1_chan1_AAACCTGAGGCCGAAT-1  batch1_samp1_Bcl11b_0  False   \n",
       "\n",
       "                                      active_ident  Assign_clean    condition  \n",
       "batch1_samp1_chan1_AAACCTGAGACAAAGG-1            7        Bcl11b  BCL11B+ctrl  \n",
       "batch1_samp1_chan1_AAACCTGAGGCCGAAT-1           21        Bcl11b  BCL11B+ctrl  \n",
       "\n",
       "[2 rows x 22 columns]"
      ]
     },
     "execution_count": 14,
     "metadata": {},
     "output_type": "execute_result"
    }
   ],
   "source": [
    "adata.obs.head(2)"
   ]
  },
  {
   "cell_type": "code",
   "execution_count": 11,
   "id": "40ad899c",
   "metadata": {},
   "outputs": [
    {
     "name": "stdout",
     "output_type": "stream",
     "text": [
      "predicted.subclass\n",
      "L6 CT CTX        8508\n",
      "L4/5 IT CTX      4029\n",
      "L5 PT CTX        4004\n",
      "L2/3 IT CTX-1    3379\n",
      "L5 NP CTX        2954\n",
      "L6 IT CTX        2712\n",
      "L5 IT CTX        2077\n",
      "CT SUB           1795\n",
      "Pvalb            1427\n",
      "L2/3 IT CTX-2    1192\n",
      "Sst               909\n",
      "NP SUB            498\n",
      "L6b CTX           396\n",
      "L3 RSP-ACA        386\n",
      "L2/3 IT PPP       382\n",
      "L5 IT TPE-ENT     179\n",
      "L5 PPP            165\n",
      "Vip               128\n",
      "Lamp5             122\n",
      "Oligo              53\n",
      "Sncg               53\n",
      "SUB-ProS           33\n",
      "Car3               33\n",
      "NP PPP             31\n",
      "Astro              31\n",
      "CR                 15\n",
      "Micro-PVM           9\n",
      "L2 IT RHP           7\n",
      "Endo                6\n",
      "SMC-Peri            6\n",
      "VLMC                3\n",
      "L6b/CT ENT          1\n",
      "L2 IT ENTl          1\n",
      "L6 IT ENTl          1\n",
      "V3d                 1\n",
      "CA2                 1\n",
      "Name: count, dtype: int64\n"
     ]
    }
   ],
   "source": [
    "print(adata.obs['predicted.subclass'].value_counts())"
   ]
  },
  {
   "cell_type": "code",
   "execution_count": 2,
   "id": "f227a27b",
   "metadata": {},
   "outputs": [
    {
     "name": "stdout",
     "output_type": "stream",
     "text": [
      "36\n"
     ]
    }
   ],
   "source": [
    "print(adata.obs['predicted.subclass'].nunique())"
   ]
  },
  {
   "cell_type": "code",
   "execution_count": 56,
   "id": "0778f110",
   "metadata": {},
   "outputs": [],
   "source": [
    "to_keep = ['L6 CT CTX']\n",
    "adata = adata[adata.obs['predicted.subclass'].isin(to_keep)].copy()"
   ]
  },
  {
   "cell_type": "code",
   "execution_count": 19,
   "id": "f29f964c",
   "metadata": {},
   "outputs": [
    {
     "data": {
      "text/plain": [
       "AnnData object with n_obs × n_vars = 7860 × 32285\n",
       "    obs: 'orig.ident', 'nCount_RNA', 'nFeature_RNA', 'seurat_clusters', 'Assign', 'scds', 'cxds', 'bcds', 'Sample', 'nCount_refAssay', 'nFeature_refAssay', 'predicted.subclass.score', 'predicted.subclass', 'CT', 'mito', 'BioSamp', 'CT2', 'ForPlot', 'Remove', 'active_ident', 'Assign_clean', 'condition'\n",
       "    var: 'variable_gene', 'gene_name'"
      ]
     },
     "execution_count": 19,
     "metadata": {},
     "output_type": "execute_result"
    }
   ],
   "source": [
    "adata"
   ]
  },
  {
   "cell_type": "code",
   "execution_count": 20,
   "id": "6a753736",
   "metadata": {},
   "outputs": [],
   "source": [
    "adata.obs['cell_type'] = 'L6 CT CTX'"
   ]
  },
  {
   "cell_type": "code",
   "execution_count": 29,
   "id": "455d3b01-a4f1-43d5-bc7b-7d75e1bc9de8",
   "metadata": {},
   "outputs": [],
   "source": [
    "adata.obs['cell_type'] = 'Neuron'"
   ]
  },
  {
   "cell_type": "code",
   "execution_count": null,
   "id": "7f113073-ffb7-433a-a899-82eeda305966",
   "metadata": {},
   "outputs": [],
   "source": [
    "sc.pp.normalize_total(adata)\n",
    "sc.pp.log1p(adata)\n",
    "sc.pp.highly_variable_genes(adata,n_top_genes=5000, subset=True)"
   ]
  },
  {
   "cell_type": "code",
   "execution_count": 30,
   "id": "c346821d-96fa-498e-b596-f1d17269397f",
   "metadata": {},
   "outputs": [
    {
     "data": {
      "text/plain": [
       "AnnData object with n_obs × n_vars = 35527 × 32285\n",
       "    obs: 'orig.ident', 'nCount_RNA', 'nFeature_RNA', 'seurat_clusters', 'Assign', 'scds', 'cxds', 'bcds', 'Sample', 'nCount_refAssay', 'nFeature_refAssay', 'predicted.subclass.score', 'predicted.subclass', 'CT', 'mito', 'BioSamp', 'CT2', 'ForPlot', 'Remove', 'active_ident'\n",
       "    var: 'variable_gene'\n",
       "    uns: 'log1p'"
      ]
     },
     "execution_count": 30,
     "metadata": {},
     "output_type": "execute_result"
    }
   ],
   "source": [
    "adata"
   ]
  },
  {
   "cell_type": "code",
   "execution_count": 23,
   "id": "052a2387-3684-428d-9c2d-e9bef5805076",
   "metadata": {},
   "outputs": [
    {
     "name": "stderr",
     "output_type": "stream",
     "text": [
      "Found local copy...\n"
     ]
    },
    {
     "name": "stderr",
     "output_type": "stream",
     "text": [
      "Found local copy...\n",
      "Creating pyg object for each cell in the data...\n",
      "Creating dataset file...\n",
      "  0%|          | 0/12 [00:00<?, ?it/s]"
     ]
    },
    {
     "name": "stdout",
     "output_type": "stream",
     "text": [
      "TRIO+ctrl\n"
     ]
    },
    {
     "name": "stderr",
     "output_type": "stream",
     "text": [
      " 58%|█████▊    | 7/12 [00:33<00:19,  3.84s/it]"
     ]
    },
    {
     "name": "stdout",
     "output_type": "stream",
     "text": [
      "DAB1+ctrl\n"
     ]
    },
    {
     "name": "stderr",
     "output_type": "stream",
     "text": [
      " 83%|████████▎ | 10/12 [00:48<00:08,  4.46s/it]"
     ]
    },
    {
     "name": "stdout",
     "output_type": "stream",
     "text": [
      "CX3CL1+ctrl\n"
     ]
    },
    {
     "name": "stderr",
     "output_type": "stream",
     "text": [
      "100%|██████████| 12/12 [00:56<00:00,  4.68s/it]\n",
      "Done!\n",
      "Saving new dataset pyg object at ./data/boli_l6_ct/data_pyg/cell_graphs.pkl\n",
      "Done!\n",
      "Found local copy...\n",
      "These perturbations are not in the GO graph and their perturbation can thus not be predicted\n",
      "['TRIO+ctrl' 'DAB1+ctrl' 'CX3CL1+ctrl']\n",
      "Local copy of pyg dataset is detected. Loading...\n",
      "Done!\n",
      "Creating new splits....\n",
      "Saving new splits at ./data/boli_l6_ct/splits/boli_l6_ct_simulation_single_1_0.75.pkl\n",
      "Done!\n",
      "Creating dataloaders....\n",
      "Done!\n"
     ]
    }
   ],
   "source": [
    "import sys\n",
    "sys.path.append('../')\n",
    "\n",
    "from gears import PertData\n",
    "\n",
    "pert_data = PertData('./data') # specific saved folder\n",
    "pert_data.new_data_process(dataset_name = 'boli_l6_ct', adata = adata) # specific dataset name and adata object\n",
    "pert_data.load(data_path = './data/boli_l6_ct') # load the processed data, the path is saved folder + dataset_name\n",
    "pert_data.prepare_split(split = 'simulation_single', seed = 1) # get data split with seed\n",
    "pert_data.get_dataloader(batch_size = 32, test_batch_size = 128) # prepare data loader"
   ]
  },
  {
   "cell_type": "code",
   "execution_count": null,
   "id": "0c48b493-666a-440d-9a5f-11a7aaafd82b",
   "metadata": {},
   "outputs": [
    {
     "name": "stdout",
     "output_type": "stream",
     "text": [
      "/gpfs/group/jin/asun/get/GEARS/demo\n"
     ]
    }
   ],
   "source": [
    "import os\n",
    "os.chdir(\"/gpfs/home/asun/jin_lab/get/GEARS/demo/\")\n",
    "print(os.getcwd())\n",
    "\n",
    "import sys\n",
    "sys.path.append(os.path.abspath('..'))\n",
    "\n",
    "from gears import PertData"
   ]
  },
  {
   "cell_type": "code",
   "execution_count": null,
   "id": "6eca7939-66fd-4951-abc1-7c37be163633",
   "metadata": {},
   "outputs": [
    {
     "name": "stderr",
     "output_type": "stream",
     "text": [
      "Found local copy...\n",
      "Found local copy...\n",
      "These perturbations are not in the GO graph and their perturbation can thus not be predicted\n",
      "['TRIO+ctrl' 'DAB1+ctrl' 'CX3CL1+ctrl']\n",
      "Local copy of pyg dataset is detected. Loading...\n",
      "Done!\n",
      "Local copy of split is detected. Loading...\n",
      "Done!\n",
      "Creating dataloaders....\n",
      "Done!\n"
     ]
    },
    {
     "name": "stdout",
     "output_type": "stream",
     "text": [
      "here1\n",
      "dict_keys(['test', 'train', 'val'])\n",
      "simulation_single\n"
     ]
    }
   ],
   "source": [
    "pert_data = PertData('./data') # specific saved folder\n",
    "#pert_data.new_data_process(dataset_name = 'boli', adata = adata) # specific dataset name and adata object\n",
    "pert_data.load(data_path = './data/boli') # load the processed data, the path is saved folder + dataset_name\n",
    "pert_data.prepare_split(split = 'simulation_single', seed = 1) # get data split with seed\n",
    "pert_data.get_dataloader(batch_size = 32, test_batch_size = 128) # prepare data loader"
   ]
  },
  {
   "cell_type": "markdown",
   "id": "16817b7f-ed42-4376-a231-32dc431e18fd",
   "metadata": {},
   "source": [
    "# checking dense vs sparse\n"
   ]
  },
  {
   "cell_type": "code",
   "execution_count": 19,
   "id": "3fc53330-137a-45a4-899a-1059b1a337d5",
   "metadata": {},
   "outputs": [],
   "source": [
    "boli_adata = sc.read_h5ad('/gpfs/home/asun/jin_lab/get/GEARS/demo/data/boli/perturb_processed.h5ad')\n"
   ]
  },
  {
   "cell_type": "code",
   "execution_count": 21,
   "id": "1a622d72-49aa-48df-a01e-5bfb5fa1ac90",
   "metadata": {},
   "outputs": [
    {
     "data": {
      "text/plain": [
       "scipy.sparse._csr.csr_matrix"
      ]
     },
     "execution_count": 21,
     "metadata": {},
     "output_type": "execute_result"
    }
   ],
   "source": [
    "type(boli_adata.X)               # Is it <class 'numpy.ndarray'> or <class 'scipy.sparse.csr.csr_matrix'>?\n",
    "adata.X[:5]                 # Try printing a few rows — is it sparse-looking?\n"
   ]
  },
  {
   "cell_type": "code",
   "execution_count": 20,
   "id": "e727541b-8863-404e-81e0-dd8f2f41348c",
   "metadata": {},
   "outputs": [],
   "source": [
    "norman_adata = sc.read_h5ad('/gpfs/home/asun/jin_lab/get/GEARS/demo/data/norman/perturb_processed.h5ad')\n"
   ]
  },
  {
   "cell_type": "code",
   "execution_count": 22,
   "id": "d0b82880-7957-4e87-b42b-6346680d8b3a",
   "metadata": {},
   "outputs": [
    {
     "data": {
      "text/plain": [
       "scipy.sparse._csr.csr_matrix"
      ]
     },
     "execution_count": 22,
     "metadata": {},
     "output_type": "execute_result"
    }
   ],
   "source": [
    "type(norman_adata.X)               # Is it <class 'numpy.ndarray'> or <class 'scipy.sparse.csr.csr_matrix'>?\n"
   ]
  },
  {
   "cell_type": "code",
   "execution_count": null,
   "id": "9cba2b9d-af6e-458c-8edc-ea762c4729d1",
   "metadata": {},
   "outputs": [],
   "source": []
  }
 ],
 "metadata": {
  "kernelspec": {
   "display_name": "gears",
   "language": "python",
   "name": "python3"
  },
  "language_info": {
   "codemirror_mode": {
    "name": "ipython",
    "version": 3
   },
   "file_extension": ".py",
   "mimetype": "text/x-python",
   "name": "python",
   "nbconvert_exporter": "python",
   "pygments_lexer": "ipython3",
   "version": "3.12.11"
  }
 },
 "nbformat": 4,
 "nbformat_minor": 5
}
