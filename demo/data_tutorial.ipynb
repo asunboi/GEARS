{
 "cells": [
  {
   "cell_type": "markdown",
   "id": "11b11c60",
   "metadata": {},
   "source": [
    "## (1) Load Processed Data in the Paper\n",
    "\n",
    "Currently, we support norman / adamson / dixit."
   ]
  },
  {
   "cell_type": "code",
   "execution_count": 2,
   "id": "a03aa10a",
   "metadata": {},
   "outputs": [
    {
     "name": "stdout",
     "output_type": "stream",
     "text": [
      "/gpfs/group/jin/asun/get/GEARS/demo\n"
     ]
    }
   ],
   "source": [
    "import os\n",
    "os.chdir(\"/gpfs/home/asun/jin_lab/get/GEARS/demo/\")\n",
    "print(os.getcwd())\n",
    "\n",
    "import sys\n",
    "sys.path.append(os.path.abspath('..'))\n",
    "\n",
    "from gears import PertData"
   ]
  },
  {
   "cell_type": "code",
   "execution_count": 2,
   "id": "1b378518",
   "metadata": {},
   "outputs": [
    {
     "name": "stderr",
     "output_type": "stream",
     "text": [
      "Found local copy...\n",
      "Found local copy...\n",
      "Found local copy...\n",
      "These perturbations are not in the GO graph and their perturbation can thus not be predicted\n",
      "['RHOXF2BB+ctrl' 'LYL1+IER5L' 'ctrl+IER5L' 'KIAA1804+ctrl' 'IER5L+ctrl'\n",
      " 'RHOXF2BB+ZBTB25' 'RHOXF2BB+SET']\n",
      "Local copy of pyg dataset is detected. Loading...\n",
      "Done!\n",
      "Local copy of split is detected. Loading...\n",
      "Simulation split test composition:\n",
      "combo_seen0:9\n",
      "combo_seen1:43\n",
      "combo_seen2:19\n",
      "unseen_single:36\n",
      "Done!\n",
      "Creating dataloaders....\n",
      "Done!\n"
     ]
    },
    {
     "name": "stdout",
     "output_type": "stream",
     "text": [
      "here1\n"
     ]
    }
   ],
   "source": [
    "import sys\n",
    "sys.path.append(os.path.abspath('..'))\n",
    "\n",
    "from gears import PertData\n",
    "\n",
    "pert_data = PertData('./data') # specific saved folder\n",
    "pert_data.load(data_name = 'norman') # specific dataset name\n",
    "pert_data.prepare_split(split = 'simulation', seed = 1) # get data split with seed\n",
    "pert_data.get_dataloader(batch_size = 32, test_batch_size = 128) # prepare data loader"
   ]
  },
  {
   "cell_type": "markdown",
   "id": "d25271ba",
   "metadata": {},
   "source": [
    "## (2) Create your own Perturb-Seq data\n",
    "Prepare a scanpy adata object with \n",
    "1. `adata.obs` dataframe has `condition` and `cell_type` columns, where `condition` is the perturbation name for each cell. Control cells have condition format of `ctrl`, single perturbation has condition format of `A+ctrl` or `ctrl+A`, combination perturbation has condition format of `A+B`.\n",
    "2. `adata.var` dataframe has `gene_name` column, where each gene name is the gene symbol.\n",
    "3. `adata.X` stores the post-perturbed gene expression. \n",
    "\n",
    "Here an example using dixit 2016 dataset."
   ]
  },
  {
   "cell_type": "code",
   "execution_count": 3,
   "id": "79df78dc-ab0f-4b1d-982b-09084a445487",
   "metadata": {},
   "outputs": [
    {
     "data": {
      "text/plain": [
       "AnnData object with n_obs × n_vars = 25738 × 5000\n",
       "    obs: 'condition', 'perturbation'\n",
       "    var: 'variable_gene', 'gene_name', 'highly_variable', 'means', 'dispersions', 'dispersions_norm'"
      ]
     },
     "execution_count": 3,
     "metadata": {},
     "output_type": "execute_result"
    }
   ],
   "source": [
    "adata_sim = sc.read_h5ad('simulated_adata.h5ad')\n",
    "adata_sim"
   ]
  },
  {
   "cell_type": "code",
   "execution_count": 7,
   "id": "a6b14676-99a6-414f-a895-0e762eb52952",
   "metadata": {},
   "outputs": [],
   "source": [
    "adata_sim.obs = adata_sim.obs.rename(columns={\"condition\": \"target_gene\"})\n"
   ]
  },
  {
   "cell_type": "code",
   "execution_count": 13,
   "id": "4a22efc2-1f94-4117-a6b8-90c730217138",
   "metadata": {},
   "outputs": [],
   "source": [
    "adata_sim.obs['target_gene'] = adata_sim.obs['target_gene'].replace('ctrl', 'non-targeting')\n"
   ]
  },
  {
   "cell_type": "code",
   "execution_count": 14,
   "id": "f373702c-0176-4650-8767-8549517d3397",
   "metadata": {},
   "outputs": [],
   "source": [
    "adata_sim.write(\"/gpfs/home/asun/jin_lab/get/cell-eval/runs/simulated_adata.h5ad\")"
   ]
  },
  {
   "cell_type": "code",
   "execution_count": 9,
   "id": "f2b99117-198c-4845-9ee7-418e59d257ea",
   "metadata": {},
   "outputs": [
    {
     "data": {
      "text/plain": [
       "AnnData object with n_obs × n_vars = 35527 × 5000\n",
       "    obs: 'orig.ident', 'nCount_RNA', 'nFeature_RNA', 'seurat_clusters', 'Assign', 'scds', 'cxds', 'bcds', 'Sample', 'nCount_refAssay', 'nFeature_refAssay', 'predicted.subclass.score', 'predicted.subclass', 'CT', 'mito', 'BioSamp', 'CT2', 'ForPlot', 'Remove', 'active_ident', 'Assign_clean', 'condition', 'cell_type', 'dose_val', 'control', 'condition_name'\n",
       "    var: 'variable_gene', 'gene_name', 'highly_variable', 'means', 'dispersions', 'dispersions_norm'\n",
       "    uns: 'hvg', 'log1p', 'non_dropout_gene_idx', 'non_zeros_gene_idx', 'rank_genes_groups_cov_all', 'top_non_dropout_de_20', 'top_non_zero_de_20'"
      ]
     },
     "execution_count": 9,
     "metadata": {},
     "output_type": "execute_result"
    }
   ],
   "source": [
    "adata_real = sc.read_h5ad('/gpfs/home/asun/jin_lab/get/GEARS/demo/data/boli/perturb_processed.h5ad')\n",
    "adata_real"
   ]
  },
  {
   "cell_type": "code",
   "execution_count": null,
   "id": "a54054e6-2d19-4433-896f-97399625c6dc",
   "metadata": {},
   "outputs": [],
   "source": [
    "adata_real.obs = adata_real.obs.rename(columns={\"condition\": \"target_gene\"})\n"
   ]
  },
  {
   "cell_type": "code",
   "execution_count": 12,
   "id": "03257140-c397-4024-8015-a9d02e508338",
   "metadata": {},
   "outputs": [],
   "source": [
    "exclude_genes = ['TRIO+ctrl', 'DAB1+ctrl', 'CX3CL1+ctrl']\n",
    "# Filter out those rows\n",
    "adata_real_filtered = adata_real[~adata_real.obs['target_gene'].isin(exclude_genes)].copy()\n",
    "adata_real_filtered.obs['target_gene'] = adata_real_filtered.obs['target_gene'].replace('ctrl', 'non-targeting')\n",
    "adata_real_filtered.write(\"/gpfs/home/asun/jin_lab/get/cell-eval/runs/real_adata.h5ad\")"
   ]
  },
  {
   "cell_type": "code",
   "execution_count": 4,
   "id": "9c55bd6a-727e-4fb7-b65f-001b75bd3bff",
   "metadata": {},
   "outputs": [],
   "source": [
    "gene_list = adata_sim.var_names.to_numpy()"
   ]
  },
  {
   "cell_type": "code",
   "execution_count": 5,
   "id": "29f5ec88-3c97-4016-8817-54fb0594de47",
   "metadata": {},
   "outputs": [
    {
     "data": {
      "text/plain": [
       "array(['4', '5', '7', ..., '32205', '32207', '32261'],\n",
       "      shape=(5000,), dtype=object)"
      ]
     },
     "execution_count": 5,
     "metadata": {},
     "output_type": "execute_result"
    }
   ],
   "source": [
    "gene_list"
   ]
  },
  {
   "cell_type": "code",
   "execution_count": 6,
   "id": "de7de170-1dd4-4a2f-905a-51dccaa35eb4",
   "metadata": {},
   "outputs": [],
   "source": [
    "import pandas as pd\n",
    "\n",
    "pd.Series(gene_list).to_csv(\"gene_list.csv\", index=False, header=False)"
   ]
  },
  {
   "cell_type": "code",
   "execution_count": 1,
   "id": "99d9f38d",
   "metadata": {},
   "outputs": [
    {
     "data": {
      "text/plain": [
       "AnnData object with n_obs × n_vars = 11471 × 32285\n",
       "    obs: 'Name', 'orig.ident', 'nCount_RNA', 'nFeature_RNA', 'scds', 'cxds', 'bcds', 'RNA_snn_res.0.8', 'seurat_clusters', 'nCount_refAssay', 'nFeature_refAssay', 'predicted.subclass.score', 'predicted.subclass', 'feature_call', 'num_features', 'num_umis', 'nCount_Crispr', 'nFeature_Crispr', 'RNA_snn_res.1.5', 'lowQC', 'CellType', 'Perc', 'CBC', 'antisense', 'intergenic', 'intronic', 'exonic', 'multi', 'unmapped', 'highConf', 'polyA', 'TSO', 'spliced', 'percent_qual_cbc', 'percent_qual_umi', 'nUMI', 'UTR', 'total', 'Rem', 'CellType_Gen', 'Mito', 'demux_type', 'assignment', 'Keep', 'Max', 'MaxVal', 'SecMaxVal', 'demuxHC', 'demuxCR', 'demuxDS', 'assignDS', 'pertgene', 'active_ident'\n",
       "    var: 'variable_gene'\n",
       "    uns: 'RNA_snn_res.0.8_colors', 'active_ident_colors', 'seurat_clusters_colors'\n",
       "    obsm: 'X_gbm', 'X_pca', 'X_umap'\n",
       "    layers: 'raw_count'"
      ]
     },
     "execution_count": 1,
     "metadata": {},
     "output_type": "execute_result"
    }
   ],
   "source": [
    "import scanpy as sc\n",
    "adata = sc.read_h5ad('/gpfs/home/asun/jin_lab/get/raw_data/ctxobj.h5ad')\n",
    "adata"
   ]
  },
  {
   "cell_type": "code",
   "execution_count": 6,
   "id": "7824638d-0fd0-4f23-8b21-447ae65c8545",
   "metadata": {},
   "outputs": [
    {
     "data": {
      "text/html": [
       "<div>\n",
       "<style scoped>\n",
       "    .dataframe tbody tr th:only-of-type {\n",
       "        vertical-align: middle;\n",
       "    }\n",
       "\n",
       "    .dataframe tbody tr th {\n",
       "        vertical-align: top;\n",
       "    }\n",
       "\n",
       "    .dataframe thead th {\n",
       "        text-align: right;\n",
       "    }\n",
       "</style>\n",
       "<table border=\"1\" class=\"dataframe\">\n",
       "  <thead>\n",
       "    <tr style=\"text-align: right;\">\n",
       "      <th></th>\n",
       "      <th>variable_gene</th>\n",
       "      <th>gene_name</th>\n",
       "    </tr>\n",
       "  </thead>\n",
       "  <tbody>\n",
       "    <tr>\n",
       "      <th>0</th>\n",
       "      <td>True</td>\n",
       "      <td>Xkr4</td>\n",
       "    </tr>\n",
       "    <tr>\n",
       "      <th>1</th>\n",
       "      <td>False</td>\n",
       "      <td>Gm1992</td>\n",
       "    </tr>\n",
       "  </tbody>\n",
       "</table>\n",
       "</div>"
      ],
      "text/plain": [
       "   variable_gene gene_name\n",
       "0           True      Xkr4\n",
       "1          False    Gm1992"
      ]
     },
     "execution_count": 6,
     "metadata": {},
     "output_type": "execute_result"
    }
   ],
   "source": [
    "adata.var.head(2)"
   ]
  },
  {
   "cell_type": "code",
   "execution_count": 4,
   "id": "753069f4",
   "metadata": {},
   "outputs": [],
   "source": [
    "# Store the current index (gene names) into a new column called 'gene_name'\n",
    "adata.var['gene_name'] = adata.var.index\n",
    "\n",
    "# Optionally reset the index if you want to replace it with default integers\n",
    "adata.var.reset_index(drop=True, inplace=True)"
   ]
  },
  {
   "cell_type": "code",
   "execution_count": 7,
   "id": "0335aaaa",
   "metadata": {},
   "outputs": [
    {
     "data": {
      "text/plain": [
       "pertgene\n",
       "ctrl                     2770\n",
       "Tcf4                     2276\n",
       "Foxg1                    1982\n",
       "Nr2f1                    1885\n",
       "Tbr1                     1448\n",
       "                         ... \n",
       "Tcf4_2,Tbr1_3,Tbr1_1        1\n",
       "Tcf4_3,Tcf4_1,Foxg1_1       1\n",
       "Foxg1_1,GFP,Tcf4_2          1\n",
       "Tcf4_3,Tcf4_2,Tbr1_1        1\n",
       "Foxg1_1,GFP,Tcf4_1          1\n",
       "Name: count, Length: 283, dtype: int64"
      ]
     },
     "execution_count": 7,
     "metadata": {},
     "output_type": "execute_result"
    }
   ],
   "source": [
    "adata.obs['pertgene'].value_counts()"
   ]
  },
  {
   "cell_type": "code",
   "execution_count": 8,
   "id": "530a3134-6115-4174-8b10-0754f067db8a",
   "metadata": {},
   "outputs": [],
   "source": [
    "adata = adata[~adata.obs['pertgene'].str.contains(',')]"
   ]
  },
  {
   "cell_type": "code",
   "execution_count": 9,
   "id": "39f888b4-26e4-4d80-b93e-60c72005f051",
   "metadata": {},
   "outputs": [
    {
     "data": {
      "text/plain": [
       "pertgene\n",
       "ctrl     2770\n",
       "Tcf4     2276\n",
       "Foxg1    1982\n",
       "Nr2f1    1885\n",
       "Tbr1     1448\n",
       "Name: count, dtype: int64"
      ]
     },
     "execution_count": 9,
     "metadata": {},
     "output_type": "execute_result"
    }
   ],
   "source": [
    "adata.obs['pertgene'].value_counts()"
   ]
  },
  {
   "cell_type": "code",
   "execution_count": 10,
   "id": "02060f68-07d3-4e6f-8a17-0c63b7271825",
   "metadata": {},
   "outputs": [],
   "source": [
    "adata.obs['condition'] = adata.obs['pertgene'].apply(\n",
    "    lambda x: x if x == 'ctrl' else f\"{x.split('+')[0].upper()}+ctrl\"\n",
    ")"
   ]
  },
  {
   "cell_type": "code",
   "execution_count": 11,
   "id": "c039ccbb-8445-4131-8ff5-a0cb7c3d6088",
   "metadata": {},
   "outputs": [
    {
     "data": {
      "text/plain": [
       "condition\n",
       "ctrl          2770\n",
       "TCF4+ctrl     2276\n",
       "FOXG1+ctrl    1982\n",
       "NR2F1+ctrl    1885\n",
       "TBR1+ctrl     1448\n",
       "Name: count, dtype: int64"
      ]
     },
     "execution_count": 11,
     "metadata": {},
     "output_type": "execute_result"
    }
   ],
   "source": [
    "adata.obs['condition'].value_counts()"
   ]
  },
  {
   "cell_type": "code",
   "execution_count": 12,
   "id": "87214aa0",
   "metadata": {},
   "outputs": [
    {
     "data": {
      "text/plain": [
       "CellType\n",
       "Excit_L6CT_CTX      2918\n",
       "Excit_L5IT          1103\n",
       "CR                  1029\n",
       "Excit_Upper          983\n",
       "Excit_L6IT           948\n",
       "Excit_L5NP_CTX       899\n",
       "Excit_L2 IT ENTl     498\n",
       "Excit_L5 PT CTX      470\n",
       "Inhib_Lhx6+Sst-      435\n",
       "Inhib_Sst            387\n",
       "Excit_L6b/CT ENT     247\n",
       "Excit_L6b CTX        226\n",
       "Excit_Car3           131\n",
       "Inhib_Id2             87\n",
       "Name: count, dtype: int64"
      ]
     },
     "execution_count": 12,
     "metadata": {},
     "output_type": "execute_result"
    }
   ],
   "source": [
    "adata.obs['CellType'].value_counts()"
   ]
  },
  {
   "cell_type": "code",
   "execution_count": 13,
   "id": "e0a23c46",
   "metadata": {},
   "outputs": [],
   "source": [
    "#adata.obs.rename(columns={'CellType': 'cell_type'}, inplace=True)"
   ]
  },
  {
   "cell_type": "code",
   "execution_count": 14,
   "id": "44003f9b",
   "metadata": {},
   "outputs": [
    {
     "data": {
      "text/plain": [
       "cell_type\n",
       "Excit_L6CT_CTX      2918\n",
       "Excit_L5IT          1103\n",
       "CR                  1029\n",
       "Excit_Upper          983\n",
       "Excit_L6IT           948\n",
       "Excit_L5NP_CTX       899\n",
       "Excit_L2 IT ENTl     498\n",
       "Excit_L5 PT CTX      470\n",
       "Inhib_Lhx6+Sst-      435\n",
       "Inhib_Sst            387\n",
       "Excit_L6b/CT ENT     247\n",
       "Excit_L6b CTX        226\n",
       "Excit_Car3           131\n",
       "Inhib_Id2             87\n",
       "Name: count, dtype: int64"
      ]
     },
     "execution_count": 14,
     "metadata": {},
     "output_type": "execute_result"
    }
   ],
   "source": [
    "adata.obs['cell_type'].value_counts()"
   ]
  },
  {
   "cell_type": "code",
   "execution_count": 15,
   "id": "91a64784-efde-4ce8-889c-8e8c42bd8a6f",
   "metadata": {},
   "outputs": [],
   "source": [
    "# test to see if the cell type split is the issue\n",
    "adata.obs['cell_type'] = 'Neuron'"
   ]
  },
  {
   "cell_type": "code",
   "execution_count": 22,
   "id": "e7354d4a",
   "metadata": {},
   "outputs": [
    {
     "data": {
      "text/html": [
       "<div>\n",
       "<style scoped>\n",
       "    .dataframe tbody tr th:only-of-type {\n",
       "        vertical-align: middle;\n",
       "    }\n",
       "\n",
       "    .dataframe tbody tr th {\n",
       "        vertical-align: top;\n",
       "    }\n",
       "\n",
       "    .dataframe thead th {\n",
       "        text-align: right;\n",
       "    }\n",
       "</style>\n",
       "<table border=\"1\" class=\"dataframe\">\n",
       "  <thead>\n",
       "    <tr style=\"text-align: right;\">\n",
       "      <th></th>\n",
       "      <th>orig.ident</th>\n",
       "      <th>nCount_RNA</th>\n",
       "      <th>nFeature_RNA</th>\n",
       "      <th>seurat_clusters</th>\n",
       "      <th>Assign</th>\n",
       "      <th>scds</th>\n",
       "      <th>cxds</th>\n",
       "      <th>bcds</th>\n",
       "      <th>Sample</th>\n",
       "      <th>nCount_refAssay</th>\n",
       "      <th>...</th>\n",
       "      <th>CT</th>\n",
       "      <th>mito</th>\n",
       "      <th>BioSamp</th>\n",
       "      <th>CT2</th>\n",
       "      <th>ForPlot</th>\n",
       "      <th>Remove</th>\n",
       "      <th>active_ident</th>\n",
       "      <th>Assign_clean</th>\n",
       "      <th>condition</th>\n",
       "      <th>cell_type</th>\n",
       "    </tr>\n",
       "  </thead>\n",
       "  <tbody>\n",
       "    <tr>\n",
       "      <th>batch1_samp1_chan1_AAACCTGAGACAAAGG-1</th>\n",
       "      <td>batch1</td>\n",
       "      <td>6831</td>\n",
       "      <td>2953</td>\n",
       "      <td>7</td>\n",
       "      <td>Bcl11b_0</td>\n",
       "      <td>1.323674</td>\n",
       "      <td>28996.749458</td>\n",
       "      <td>0.880423</td>\n",
       "      <td>batch1_samp1_chan1</td>\n",
       "      <td>6831</td>\n",
       "      <td>...</td>\n",
       "      <td>L6 CT CTX</td>\n",
       "      <td>0.029278</td>\n",
       "      <td>batch1_samp1</td>\n",
       "      <td>030 L6 CT CTX Glut</td>\n",
       "      <td>batch1_samp1_Bcl11b_0</td>\n",
       "      <td>False</td>\n",
       "      <td>7</td>\n",
       "      <td>Bcl11b</td>\n",
       "      <td>BCL11B+ctrl</td>\n",
       "      <td>Neuron</td>\n",
       "    </tr>\n",
       "    <tr>\n",
       "      <th>batch1_samp1_chan1_AAACCTGAGGCCGAAT-1</th>\n",
       "      <td>batch1</td>\n",
       "      <td>6016</td>\n",
       "      <td>2767</td>\n",
       "      <td>21</td>\n",
       "      <td>Bcl11b_0</td>\n",
       "      <td>0.487555</td>\n",
       "      <td>9829.195327</td>\n",
       "      <td>0.337222</td>\n",
       "      <td>batch1_samp1_chan1</td>\n",
       "      <td>6016</td>\n",
       "      <td>...</td>\n",
       "      <td>L6b CTX</td>\n",
       "      <td>0.016622</td>\n",
       "      <td>batch1_samp1</td>\n",
       "      <td>029 L6b CTX Glut</td>\n",
       "      <td>batch1_samp1_Bcl11b_0</td>\n",
       "      <td>False</td>\n",
       "      <td>21</td>\n",
       "      <td>Bcl11b</td>\n",
       "      <td>BCL11B+ctrl</td>\n",
       "      <td>Neuron</td>\n",
       "    </tr>\n",
       "  </tbody>\n",
       "</table>\n",
       "<p>2 rows × 23 columns</p>\n",
       "</div>"
      ],
      "text/plain": [
       "                                      orig.ident  nCount_RNA  nFeature_RNA  \\\n",
       "batch1_samp1_chan1_AAACCTGAGACAAAGG-1     batch1        6831          2953   \n",
       "batch1_samp1_chan1_AAACCTGAGGCCGAAT-1     batch1        6016          2767   \n",
       "\n",
       "                                      seurat_clusters    Assign      scds  \\\n",
       "batch1_samp1_chan1_AAACCTGAGACAAAGG-1               7  Bcl11b_0  1.323674   \n",
       "batch1_samp1_chan1_AAACCTGAGGCCGAAT-1              21  Bcl11b_0  0.487555   \n",
       "\n",
       "                                               cxds      bcds  \\\n",
       "batch1_samp1_chan1_AAACCTGAGACAAAGG-1  28996.749458  0.880423   \n",
       "batch1_samp1_chan1_AAACCTGAGGCCGAAT-1   9829.195327  0.337222   \n",
       "\n",
       "                                                   Sample  nCount_refAssay  \\\n",
       "batch1_samp1_chan1_AAACCTGAGACAAAGG-1  batch1_samp1_chan1             6831   \n",
       "batch1_samp1_chan1_AAACCTGAGGCCGAAT-1  batch1_samp1_chan1             6016   \n",
       "\n",
       "                                       ...         CT      mito       BioSamp  \\\n",
       "batch1_samp1_chan1_AAACCTGAGACAAAGG-1  ...  L6 CT CTX  0.029278  batch1_samp1   \n",
       "batch1_samp1_chan1_AAACCTGAGGCCGAAT-1  ...    L6b CTX  0.016622  batch1_samp1   \n",
       "\n",
       "                                                      CT2  \\\n",
       "batch1_samp1_chan1_AAACCTGAGACAAAGG-1  030 L6 CT CTX Glut   \n",
       "batch1_samp1_chan1_AAACCTGAGGCCGAAT-1    029 L6b CTX Glut   \n",
       "\n",
       "                                                     ForPlot Remove  \\\n",
       "batch1_samp1_chan1_AAACCTGAGACAAAGG-1  batch1_samp1_Bcl11b_0  False   \n",
       "batch1_samp1_chan1_AAACCTGAGGCCGAAT-1  batch1_samp1_Bcl11b_0  False   \n",
       "\n",
       "                                      active_ident Assign_clean    condition  \\\n",
       "batch1_samp1_chan1_AAACCTGAGACAAAGG-1            7       Bcl11b  BCL11B+ctrl   \n",
       "batch1_samp1_chan1_AAACCTGAGGCCGAAT-1           21       Bcl11b  BCL11B+ctrl   \n",
       "\n",
       "                                      cell_type  \n",
       "batch1_samp1_chan1_AAACCTGAGACAAAGG-1    Neuron  \n",
       "batch1_samp1_chan1_AAACCTGAGGCCGAAT-1    Neuron  \n",
       "\n",
       "[2 rows x 23 columns]"
      ]
     },
     "execution_count": 22,
     "metadata": {},
     "output_type": "execute_result"
    }
   ],
   "source": [
    "adata.obs.head(2)"
   ]
  },
  {
   "cell_type": "markdown",
   "id": "2b3a8a97",
   "metadata": {},
   "source": [
    "### Suggested normalization\n",
    "\n",
    "For raw count data we recommend the following normalization and subsetting to the top 5000 most variable genes"
   ]
  },
  {
   "cell_type": "code",
   "execution_count": 16,
   "id": "6de6b536",
   "metadata": {},
   "outputs": [],
   "source": [
    "sc.pp.normalize_total(adata)\n",
    "sc.pp.log1p(adata)\n",
    "sc.pp.highly_variable_genes(adata,n_top_genes=5000, subset=True)"
   ]
  },
  {
   "cell_type": "markdown",
   "id": "3369c77f",
   "metadata": {},
   "source": [
    "### Create dataloader\n",
    "\n",
    "GEARS will take it from here. The new data processing takes around 15 minutes for 5K genes and 100K cells. "
   ]
  },
  {
   "cell_type": "code",
   "execution_count": 18,
   "id": "a2f58777",
   "metadata": {},
   "outputs": [
    {
     "name": "stderr",
     "output_type": "stream",
     "text": [
      "Found local copy...\n",
      "Found local copy...\n",
      "Creating pyg object for each cell in the data...\n",
      "Creating dataset file...\n",
      "100%|████████████████████████████████████████████████████████████████████████| 5/5 [01:01<00:00, 12.27s/it]\n",
      "Done!\n",
      "Saving new dataset pyg object at ./data/zheng/data_pyg/cell_graphs.pkl\n",
      "Done!\n",
      "Found local copy...\n",
      "These perturbations are not in the GO graph and their perturbation can thus not be predicted\n",
      "[]\n",
      "Local copy of pyg dataset is detected. Loading...\n",
      "Done!\n",
      "Creating new splits....\n",
      "Saving new splits at ./data/zheng/splits/zheng_simulation_single_1_0.75.pkl\n",
      "Done!\n",
      "Creating dataloaders....\n",
      "Done!\n"
     ]
    },
    {
     "name": "stdout",
     "output_type": "stream",
     "text": [
      "simulation_single\n",
      "split_data returns: (AnnData object with n_obs × n_vars = 10361 × 5000\n",
      "    obs: 'Name', 'orig.ident', 'nCount_RNA', 'nFeature_RNA', 'scds', 'cxds', 'bcds', 'RNA_snn_res.0.8', 'seurat_clusters', 'nCount_refAssay', 'nFeature_refAssay', 'predicted.subclass.score', 'predicted.subclass', 'feature_call', 'num_features', 'num_umis', 'nCount_Crispr', 'nFeature_Crispr', 'RNA_snn_res.1.5', 'lowQC', 'cell_type', 'Perc', 'CBC', 'antisense', 'intergenic', 'intronic', 'exonic', 'multi', 'unmapped', 'highConf', 'polyA', 'TSO', 'spliced', 'percent_qual_cbc', 'percent_qual_umi', 'nUMI', 'UTR', 'total', 'Rem', 'CellType_Gen', 'Mito', 'demux_type', 'assignment', 'Keep', 'Max', 'MaxVal', 'SecMaxVal', 'demuxHC', 'demuxCR', 'demuxDS', 'assignDS', 'pertgene', 'active_ident', 'condition', 'dose_val', 'control', 'condition_name', 'split'\n",
      "    var: 'variable_gene', 'gene_name', 'highly_variable', 'means', 'dispersions', 'dispersions_norm'\n",
      "    uns: 'RNA_snn_res.0.8_colors', 'active_ident_colors', 'hvg', 'log1p', 'non_dropout_gene_idx', 'non_zeros_gene_idx', 'rank_genes_groups_cov_all', 'seurat_clusters_colors', 'top_non_dropout_de_20', 'top_non_zero_de_20'\n",
      "    obsm: 'X_gbm', 'X_pca', 'X_umap'\n",
      "    layers: 'raw_count', {'test_subgroup': {'unseen_single': ['TBR1+ctrl']}, 'val_subgroup': {'unseen_single': ['FOXG1+ctrl']}})\n",
      "simulation_single\n",
      "dict_keys(['test', 'train', 'val'])\n",
      "simulation_single\n"
     ]
    }
   ],
   "source": [
    "import sys\n",
    "sys.path.append('../')\n",
    "\n",
    "from gears import PertData\n",
    "\n",
    "pert_data = PertData('./data') # specific saved folder\n",
    "pert_data.new_data_process(dataset_name = 'zheng', adata = adata) # specific dataset name and adata object\n",
    "pert_data.load(data_path = './data/zheng') # load the processed data, the path is saved folder + dataset_name\n",
    "pert_data.prepare_split(split = 'simulation_single', seed = 1) # get data split with seed\n",
    "pert_data.get_dataloader(batch_size = 32, test_batch_size = 128) # prepare data loader"
   ]
  },
  {
   "cell_type": "markdown",
   "id": "d6ca6d58-6c76-40f0-a154-f042debeb048",
   "metadata": {},
   "source": [
    "# processing boli"
   ]
  },
  {
   "cell_type": "code",
   "execution_count": 9,
   "id": "3f0e0a3b-2910-4a15-8bed-e110e48d44b9",
   "metadata": {},
   "outputs": [
    {
     "data": {
      "text/plain": [
       "AnnData object with n_obs × n_vars = 35527 × 32285\n",
       "    obs: 'orig.ident', 'nCount_RNA', 'nFeature_RNA', 'seurat_clusters', 'Assign', 'scds', 'cxds', 'bcds', 'Sample', 'nCount_refAssay', 'nFeature_refAssay', 'predicted.subclass.score', 'predicted.subclass', 'CT', 'mito', 'BioSamp', 'CT2', 'ForPlot', 'Remove', 'active_ident'\n",
       "    var: 'variable_gene'"
      ]
     },
     "execution_count": 9,
     "metadata": {},
     "output_type": "execute_result"
    }
   ],
   "source": [
    "import scanpy as sc\n",
    "adata = sc.read_h5ad('/gpfs/home/asun/jin_lab/get/raw_data/seur.cur.h5ad')\n",
    "adata"
   ]
  },
  {
   "cell_type": "code",
   "execution_count": 21,
   "id": "120ab05c-d899-4ef6-a431-d48edd2662fa",
   "metadata": {},
   "outputs": [
    {
     "data": {
      "text/html": [
       "<div>\n",
       "<style scoped>\n",
       "    .dataframe tbody tr th:only-of-type {\n",
       "        vertical-align: middle;\n",
       "    }\n",
       "\n",
       "    .dataframe tbody tr th {\n",
       "        vertical-align: top;\n",
       "    }\n",
       "\n",
       "    .dataframe thead th {\n",
       "        text-align: right;\n",
       "    }\n",
       "</style>\n",
       "<table border=\"1\" class=\"dataframe\">\n",
       "  <thead>\n",
       "    <tr style=\"text-align: right;\">\n",
       "      <th></th>\n",
       "      <th>variable_gene</th>\n",
       "      <th>gene_name</th>\n",
       "    </tr>\n",
       "  </thead>\n",
       "  <tbody>\n",
       "    <tr>\n",
       "      <th>0</th>\n",
       "      <td>False</td>\n",
       "      <td>Xkr4</td>\n",
       "    </tr>\n",
       "    <tr>\n",
       "      <th>1</th>\n",
       "      <td>False</td>\n",
       "      <td>Gm1992</td>\n",
       "    </tr>\n",
       "  </tbody>\n",
       "</table>\n",
       "</div>"
      ],
      "text/plain": [
       "   variable_gene gene_name\n",
       "0          False      Xkr4\n",
       "1          False    Gm1992"
      ]
     },
     "execution_count": 21,
     "metadata": {},
     "output_type": "execute_result"
    }
   ],
   "source": [
    "adata.var.head(2)"
   ]
  },
  {
   "cell_type": "code",
   "execution_count": 12,
   "id": "9310c1ba-caee-417d-8da1-2e5ebd36b27e",
   "metadata": {},
   "outputs": [],
   "source": [
    "# Store the current index (gene names) into a new column called 'gene_name'\n",
    "adata.var['gene_name'] = adata.var.index\n",
    "\n",
    "# Optionally reset the index if you want to replace it with default integers\n",
    "adata.var.reset_index(drop=True, inplace=True)"
   ]
  },
  {
   "cell_type": "code",
   "execution_count": 14,
   "id": "61af28dd-1639-4c45-94b7-f777be60bca8",
   "metadata": {},
   "outputs": [
    {
     "data": {
      "text/plain": [
       "Assign\n",
       "Bcl11b_0    5367\n",
       "Trio_0      4274\n",
       "Dab1_0      4123\n",
       "Tbr1_0      3466\n",
       "NT_0        2735\n",
       "Rb1cc1_0    2534\n",
       "Satb2_0     2320\n",
       "Herc1_0     2165\n",
       "NT_1        1979\n",
       "Ank3_0      1763\n",
       "Xpo7_0      1602\n",
       "Cx3cl1_0    1392\n",
       "Cul1_0      1297\n",
       "ST_0         307\n",
       "ST_1         203\n",
       "Name: count, dtype: int64"
      ]
     },
     "execution_count": 14,
     "metadata": {},
     "output_type": "execute_result"
    }
   ],
   "source": [
    "# Show the unique cell types\n",
    "adata.obs['Assign'].value_counts()"
   ]
  },
  {
   "cell_type": "code",
   "execution_count": 15,
   "id": "2040c69a-0b8f-4e54-bef1-e2bb5b254dee",
   "metadata": {},
   "outputs": [],
   "source": [
    "def clean_assign(val):\n",
    "    if val in {'NT_0', 'NT_1', 'ST_0', 'ST_1'}:\n",
    "        return 'ctrl'\n",
    "    else:\n",
    "        return val.replace('_0', '').capitalize()\n",
    "\n",
    "adata.obs['Assign_clean'] = adata.obs['Assign'].apply(clean_assign)"
   ]
  },
  {
   "cell_type": "code",
   "execution_count": 16,
   "id": "6d7fdc58-4dad-4472-847a-5038183ad043",
   "metadata": {},
   "outputs": [
    {
     "data": {
      "text/plain": [
       "Assign_clean\n",
       "Bcl11b    5367\n",
       "ctrl      5224\n",
       "Trio      4274\n",
       "Dab1      4123\n",
       "Tbr1      3466\n",
       "Rb1cc1    2534\n",
       "Satb2     2320\n",
       "Herc1     2165\n",
       "Ank3      1763\n",
       "Xpo7      1602\n",
       "Cx3cl1    1392\n",
       "Cul1      1297\n",
       "Name: count, dtype: int64"
      ]
     },
     "execution_count": 16,
     "metadata": {},
     "output_type": "execute_result"
    }
   ],
   "source": [
    "# Show the unique cell types\n",
    "adata.obs['Assign_clean'].value_counts()"
   ]
  },
  {
   "cell_type": "code",
   "execution_count": 17,
   "id": "767c20b8-fe1d-4be7-9d11-5a42fdc22be8",
   "metadata": {},
   "outputs": [],
   "source": [
    "adata.obs['condition'] = adata.obs['Assign_clean'].apply(\n",
    "    lambda x: x if x == 'ctrl' else f\"{x.split('+')[0].upper()}+ctrl\"\n",
    ")"
   ]
  },
  {
   "cell_type": "code",
   "execution_count": 18,
   "id": "75062da0-67f9-4a87-8996-6af941d67037",
   "metadata": {},
   "outputs": [
    {
     "data": {
      "text/plain": [
       "condition\n",
       "BCL11B+ctrl    5367\n",
       "ctrl           5224\n",
       "TRIO+ctrl      4274\n",
       "DAB1+ctrl      4123\n",
       "TBR1+ctrl      3466\n",
       "RB1CC1+ctrl    2534\n",
       "SATB2+ctrl     2320\n",
       "HERC1+ctrl     2165\n",
       "ANK3+ctrl      1763\n",
       "XPO7+ctrl      1602\n",
       "CX3CL1+ctrl    1392\n",
       "CUL1+ctrl      1297\n",
       "Name: count, dtype: int64"
      ]
     },
     "execution_count": 18,
     "metadata": {},
     "output_type": "execute_result"
    }
   ],
   "source": [
    "adata.obs['condition'].value_counts()"
   ]
  },
  {
   "cell_type": "code",
   "execution_count": 19,
   "id": "97d66c5a-5e97-4701-8b80-6876c7e8e2e2",
   "metadata": {},
   "outputs": [
    {
     "data": {
      "text/html": [
       "<div>\n",
       "<style scoped>\n",
       "    .dataframe tbody tr th:only-of-type {\n",
       "        vertical-align: middle;\n",
       "    }\n",
       "\n",
       "    .dataframe tbody tr th {\n",
       "        vertical-align: top;\n",
       "    }\n",
       "\n",
       "    .dataframe thead th {\n",
       "        text-align: right;\n",
       "    }\n",
       "</style>\n",
       "<table border=\"1\" class=\"dataframe\">\n",
       "  <thead>\n",
       "    <tr style=\"text-align: right;\">\n",
       "      <th></th>\n",
       "      <th>orig.ident</th>\n",
       "      <th>nCount_RNA</th>\n",
       "      <th>nFeature_RNA</th>\n",
       "      <th>seurat_clusters</th>\n",
       "      <th>Assign</th>\n",
       "      <th>scds</th>\n",
       "      <th>cxds</th>\n",
       "      <th>bcds</th>\n",
       "      <th>Sample</th>\n",
       "      <th>nCount_refAssay</th>\n",
       "      <th>...</th>\n",
       "      <th>predicted.subclass</th>\n",
       "      <th>CT</th>\n",
       "      <th>mito</th>\n",
       "      <th>BioSamp</th>\n",
       "      <th>CT2</th>\n",
       "      <th>ForPlot</th>\n",
       "      <th>Remove</th>\n",
       "      <th>active_ident</th>\n",
       "      <th>Assign_clean</th>\n",
       "      <th>condition</th>\n",
       "    </tr>\n",
       "  </thead>\n",
       "  <tbody>\n",
       "    <tr>\n",
       "      <th>batch1_samp1_chan1_AAACCTGAGACAAAGG-1</th>\n",
       "      <td>batch1</td>\n",
       "      <td>6831</td>\n",
       "      <td>2953</td>\n",
       "      <td>7</td>\n",
       "      <td>Bcl11b_0</td>\n",
       "      <td>1.323674</td>\n",
       "      <td>28996.749458</td>\n",
       "      <td>0.880423</td>\n",
       "      <td>batch1_samp1_chan1</td>\n",
       "      <td>6831</td>\n",
       "      <td>...</td>\n",
       "      <td>L5 PT CTX</td>\n",
       "      <td>L6 CT CTX</td>\n",
       "      <td>0.029278</td>\n",
       "      <td>batch1_samp1</td>\n",
       "      <td>030 L6 CT CTX Glut</td>\n",
       "      <td>batch1_samp1_Bcl11b_0</td>\n",
       "      <td>False</td>\n",
       "      <td>7</td>\n",
       "      <td>Bcl11b</td>\n",
       "      <td>BCL11B+ctrl</td>\n",
       "    </tr>\n",
       "    <tr>\n",
       "      <th>batch1_samp1_chan1_AAACCTGAGGCCGAAT-1</th>\n",
       "      <td>batch1</td>\n",
       "      <td>6016</td>\n",
       "      <td>2767</td>\n",
       "      <td>21</td>\n",
       "      <td>Bcl11b_0</td>\n",
       "      <td>0.487555</td>\n",
       "      <td>9829.195327</td>\n",
       "      <td>0.337222</td>\n",
       "      <td>batch1_samp1_chan1</td>\n",
       "      <td>6016</td>\n",
       "      <td>...</td>\n",
       "      <td>L6b CTX</td>\n",
       "      <td>L6b CTX</td>\n",
       "      <td>0.016622</td>\n",
       "      <td>batch1_samp1</td>\n",
       "      <td>029 L6b CTX Glut</td>\n",
       "      <td>batch1_samp1_Bcl11b_0</td>\n",
       "      <td>False</td>\n",
       "      <td>21</td>\n",
       "      <td>Bcl11b</td>\n",
       "      <td>BCL11B+ctrl</td>\n",
       "    </tr>\n",
       "  </tbody>\n",
       "</table>\n",
       "<p>2 rows × 22 columns</p>\n",
       "</div>"
      ],
      "text/plain": [
       "                                      orig.ident  nCount_RNA  nFeature_RNA  \\\n",
       "batch1_samp1_chan1_AAACCTGAGACAAAGG-1     batch1        6831          2953   \n",
       "batch1_samp1_chan1_AAACCTGAGGCCGAAT-1     batch1        6016          2767   \n",
       "\n",
       "                                      seurat_clusters    Assign      scds  \\\n",
       "batch1_samp1_chan1_AAACCTGAGACAAAGG-1               7  Bcl11b_0  1.323674   \n",
       "batch1_samp1_chan1_AAACCTGAGGCCGAAT-1              21  Bcl11b_0  0.487555   \n",
       "\n",
       "                                               cxds      bcds  \\\n",
       "batch1_samp1_chan1_AAACCTGAGACAAAGG-1  28996.749458  0.880423   \n",
       "batch1_samp1_chan1_AAACCTGAGGCCGAAT-1   9829.195327  0.337222   \n",
       "\n",
       "                                                   Sample  nCount_refAssay  \\\n",
       "batch1_samp1_chan1_AAACCTGAGACAAAGG-1  batch1_samp1_chan1             6831   \n",
       "batch1_samp1_chan1_AAACCTGAGGCCGAAT-1  batch1_samp1_chan1             6016   \n",
       "\n",
       "                                       ...  predicted.subclass         CT  \\\n",
       "batch1_samp1_chan1_AAACCTGAGACAAAGG-1  ...           L5 PT CTX  L6 CT CTX   \n",
       "batch1_samp1_chan1_AAACCTGAGGCCGAAT-1  ...             L6b CTX    L6b CTX   \n",
       "\n",
       "                                           mito       BioSamp  \\\n",
       "batch1_samp1_chan1_AAACCTGAGACAAAGG-1  0.029278  batch1_samp1   \n",
       "batch1_samp1_chan1_AAACCTGAGGCCGAAT-1  0.016622  batch1_samp1   \n",
       "\n",
       "                                                      CT2  \\\n",
       "batch1_samp1_chan1_AAACCTGAGACAAAGG-1  030 L6 CT CTX Glut   \n",
       "batch1_samp1_chan1_AAACCTGAGGCCGAAT-1    029 L6b CTX Glut   \n",
       "\n",
       "                                                     ForPlot Remove  \\\n",
       "batch1_samp1_chan1_AAACCTGAGACAAAGG-1  batch1_samp1_Bcl11b_0  False   \n",
       "batch1_samp1_chan1_AAACCTGAGGCCGAAT-1  batch1_samp1_Bcl11b_0  False   \n",
       "\n",
       "                                      active_ident  Assign_clean    condition  \n",
       "batch1_samp1_chan1_AAACCTGAGACAAAGG-1            7        Bcl11b  BCL11B+ctrl  \n",
       "batch1_samp1_chan1_AAACCTGAGGCCGAAT-1           21        Bcl11b  BCL11B+ctrl  \n",
       "\n",
       "[2 rows x 22 columns]"
      ]
     },
     "execution_count": 19,
     "metadata": {},
     "output_type": "execute_result"
    }
   ],
   "source": [
    "adata.obs.head(2)"
   ]
  },
  {
   "cell_type": "code",
   "execution_count": 20,
   "id": "455d3b01-a4f1-43d5-bc7b-7d75e1bc9de8",
   "metadata": {},
   "outputs": [],
   "source": [
    "adata.obs['cell_type'] = 'Neuron'"
   ]
  },
  {
   "cell_type": "code",
   "execution_count": 23,
   "id": "7f113073-ffb7-433a-a899-82eeda305966",
   "metadata": {},
   "outputs": [],
   "source": [
    "sc.pp.normalize_total(adata)\n",
    "sc.pp.log1p(adata)\n",
    "sc.pp.highly_variable_genes(adata,n_top_genes=5000, subset=True)"
   ]
  },
  {
   "cell_type": "code",
   "execution_count": 25,
   "id": "c346821d-96fa-498e-b596-f1d17269397f",
   "metadata": {},
   "outputs": [
    {
     "data": {
      "text/plain": [
       "AnnData object with n_obs × n_vars = 35527 × 5000\n",
       "    obs: 'orig.ident', 'nCount_RNA', 'nFeature_RNA', 'seurat_clusters', 'Assign', 'scds', 'cxds', 'bcds', 'Sample', 'nCount_refAssay', 'nFeature_refAssay', 'predicted.subclass.score', 'predicted.subclass', 'CT', 'mito', 'BioSamp', 'CT2', 'ForPlot', 'Remove', 'active_ident', 'Assign_clean', 'condition', 'cell_type', 'dose_val', 'control', 'condition_name'\n",
       "    var: 'variable_gene', 'gene_name', 'highly_variable', 'means', 'dispersions', 'dispersions_norm'\n",
       "    uns: 'log1p', 'hvg', 'rank_genes_groups_cov_all', 'top_non_dropout_de_20', 'non_dropout_gene_idx', 'non_zeros_gene_idx', 'top_non_zero_de_20'"
      ]
     },
     "execution_count": 25,
     "metadata": {},
     "output_type": "execute_result"
    }
   ],
   "source": [
    "adata"
   ]
  },
  {
   "cell_type": "code",
   "execution_count": 28,
   "id": "052a2387-3684-428d-9c2d-e9bef5805076",
   "metadata": {},
   "outputs": [
    {
     "name": "stderr",
     "output_type": "stream",
     "text": [
      "Found local copy...\n",
      "Found local copy...\n",
      "Creating pyg object for each cell in the data...\n",
      "Creating dataset file...\n",
      " 17%|███████████▊                                                           | 2/12 [00:28<02:08, 12.82s/it]"
     ]
    },
    {
     "name": "stdout",
     "output_type": "stream",
     "text": [
      "TRIO+ctrl\n"
     ]
    },
    {
     "name": "stderr",
     "output_type": "stream",
     "text": [
      " 58%|█████████████████████████████████████████▍                             | 7/12 [01:14<00:42,  8.41s/it]"
     ]
    },
    {
     "name": "stdout",
     "output_type": "stream",
     "text": [
      "DAB1+ctrl\n"
     ]
    },
    {
     "name": "stderr",
     "output_type": "stream",
     "text": [
      " 75%|█████████████████████████████████████████████████████▎                 | 9/12 [01:35<00:27,  9.07s/it]"
     ]
    },
    {
     "name": "stdout",
     "output_type": "stream",
     "text": [
      "CX3CL1+ctrl\n"
     ]
    },
    {
     "name": "stderr",
     "output_type": "stream",
     "text": [
      "100%|██████████████████████████████████████████████████████████████████████| 12/12 [01:59<00:00,  9.96s/it]\n",
      "Done!\n",
      "Saving new dataset pyg object at ./data/boli/data_pyg/cell_graphs.pkl\n",
      "Done!\n",
      "Found local copy...\n",
      "These perturbations are not in the GO graph and their perturbation can thus not be predicted\n",
      "['TRIO+ctrl' 'DAB1+ctrl' 'CX3CL1+ctrl']\n",
      "Local copy of pyg dataset is detected. Loading...\n",
      "Done!\n",
      "Creating new splits....\n"
     ]
    },
    {
     "ename": "ValueError",
     "evalue": "too many values to unpack (expected 2)",
     "output_type": "error",
     "traceback": [
      "\u001b[0;31m---------------------------------------------------------------------------\u001b[0m",
      "\u001b[0;31mValueError\u001b[0m                                Traceback (most recent call last)",
      "Cell \u001b[0;32mIn[28], line 9\u001b[0m\n\u001b[1;32m      7\u001b[0m pert_data\u001b[38;5;241m.\u001b[39mnew_data_process(dataset_name \u001b[38;5;241m=\u001b[39m \u001b[38;5;124m'\u001b[39m\u001b[38;5;124mboli\u001b[39m\u001b[38;5;124m'\u001b[39m, adata \u001b[38;5;241m=\u001b[39m adata) \u001b[38;5;66;03m# specific dataset name and adata object\u001b[39;00m\n\u001b[1;32m      8\u001b[0m pert_data\u001b[38;5;241m.\u001b[39mload(data_path \u001b[38;5;241m=\u001b[39m \u001b[38;5;124m'\u001b[39m\u001b[38;5;124m./data/boli\u001b[39m\u001b[38;5;124m'\u001b[39m) \u001b[38;5;66;03m# load the processed data, the path is saved folder + dataset_name\u001b[39;00m\n\u001b[0;32m----> 9\u001b[0m \u001b[43mpert_data\u001b[49m\u001b[38;5;241;43m.\u001b[39;49m\u001b[43mprepare_split\u001b[49m\u001b[43m(\u001b[49m\u001b[43msplit\u001b[49m\u001b[43m \u001b[49m\u001b[38;5;241;43m=\u001b[39;49m\u001b[43m \u001b[49m\u001b[38;5;124;43m'\u001b[39;49m\u001b[38;5;124;43msimulation_single\u001b[39;49m\u001b[38;5;124;43m'\u001b[39;49m\u001b[43m,\u001b[49m\u001b[43m \u001b[49m\u001b[43mseed\u001b[49m\u001b[43m \u001b[49m\u001b[38;5;241;43m=\u001b[39;49m\u001b[43m \u001b[49m\u001b[38;5;241;43m1\u001b[39;49m\u001b[43m)\u001b[49m \u001b[38;5;66;03m# get data split with seed\u001b[39;00m\n\u001b[1;32m     10\u001b[0m pert_data\u001b[38;5;241m.\u001b[39mget_dataloader(batch_size \u001b[38;5;241m=\u001b[39m \u001b[38;5;241m32\u001b[39m, test_batch_size \u001b[38;5;241m=\u001b[39m \u001b[38;5;241m128\u001b[39m) \u001b[38;5;66;03m# prepare data loader\u001b[39;00m\n",
      "File \u001b[0;32m~/miniforge3/envs/get/lib/python3.12/site-packages/gears/pertdata.py:355\u001b[0m, in \u001b[0;36mPertData.prepare_split\u001b[0;34m(self, split, seed, train_gene_set_size, combo_seen2_train_frac, combo_single_split_test_set_fraction, test_perts, only_test_set_perts, test_pert_genes, split_dict_path)\u001b[0m\n\u001b[1;32m    351\u001b[0m \u001b[38;5;28;01mif\u001b[39;00m split \u001b[38;5;129;01min\u001b[39;00m [\u001b[38;5;124m'\u001b[39m\u001b[38;5;124msimulation\u001b[39m\u001b[38;5;124m'\u001b[39m, \u001b[38;5;124m'\u001b[39m\u001b[38;5;124msimulation_single\u001b[39m\u001b[38;5;124m'\u001b[39m]:\n\u001b[1;32m    352\u001b[0m     \u001b[38;5;66;03m# simulation split\u001b[39;00m\n\u001b[1;32m    353\u001b[0m     DS \u001b[38;5;241m=\u001b[39m DataSplitter(\u001b[38;5;28mself\u001b[39m\u001b[38;5;241m.\u001b[39madata, split_type\u001b[38;5;241m=\u001b[39msplit)\n\u001b[0;32m--> 355\u001b[0m     adata, subgroup \u001b[38;5;241m=\u001b[39m DS\u001b[38;5;241m.\u001b[39msplit_data(train_gene_set_size \u001b[38;5;241m=\u001b[39m train_gene_set_size, \n\u001b[1;32m    356\u001b[0m                                     combo_seen2_train_frac \u001b[38;5;241m=\u001b[39m combo_seen2_train_frac,\n\u001b[1;32m    357\u001b[0m                                     seed\u001b[38;5;241m=\u001b[39mseed,\n\u001b[1;32m    358\u001b[0m                                     test_perts \u001b[38;5;241m=\u001b[39m test_perts,\n\u001b[1;32m    359\u001b[0m                                     only_test_set_perts \u001b[38;5;241m=\u001b[39m only_test_set_perts\n\u001b[1;32m    360\u001b[0m                                    )\n\u001b[1;32m    361\u001b[0m     subgroup_path \u001b[38;5;241m=\u001b[39m split_path[:\u001b[38;5;241m-\u001b[39m\u001b[38;5;241m4\u001b[39m] \u001b[38;5;241m+\u001b[39m \u001b[38;5;124m'\u001b[39m\u001b[38;5;124m_subgroup.pkl\u001b[39m\u001b[38;5;124m'\u001b[39m\n\u001b[1;32m    362\u001b[0m     pickle\u001b[38;5;241m.\u001b[39mdump(subgroup, \u001b[38;5;28mopen\u001b[39m(subgroup_path, \u001b[38;5;124m\"\u001b[39m\u001b[38;5;124mwb\u001b[39m\u001b[38;5;124m\"\u001b[39m))\n",
      "\u001b[0;31mValueError\u001b[0m: too many values to unpack (expected 2)"
     ]
    }
   ],
   "source": [
    "import sys\n",
    "sys.path.append('../')\n",
    "\n",
    "from gears import PertData\n",
    "\n",
    "pert_data = PertData('./data') # specific saved folder\n",
    "pert_data.new_data_process(dataset_name = 'boli', adata = adata) # specific dataset name and adata object\n",
    "pert_data.load(data_path = './data/boli') # load the processed data, the path is saved folder + dataset_name\n",
    "pert_data.prepare_split(split = 'simulation_single', seed = 1) # get data split with seed\n",
    "pert_data.get_dataloader(batch_size = 32, test_batch_size = 128) # prepare data loader"
   ]
  },
  {
   "cell_type": "code",
   "execution_count": 1,
   "id": "0c48b493-666a-440d-9a5f-11a7aaafd82b",
   "metadata": {},
   "outputs": [
    {
     "name": "stdout",
     "output_type": "stream",
     "text": [
      "/gpfs/group/jin/asun/get/GEARS/demo\n"
     ]
    }
   ],
   "source": [
    "import os\n",
    "os.chdir(\"/gpfs/home/asun/jin_lab/get/GEARS/demo/\")\n",
    "print(os.getcwd())\n",
    "\n",
    "import sys\n",
    "sys.path.append(os.path.abspath('..'))\n",
    "\n",
    "from gears import PertData"
   ]
  },
  {
   "cell_type": "code",
   "execution_count": 2,
   "id": "6eca7939-66fd-4951-abc1-7c37be163633",
   "metadata": {},
   "outputs": [
    {
     "name": "stderr",
     "output_type": "stream",
     "text": [
      "Found local copy...\n",
      "Found local copy...\n",
      "These perturbations are not in the GO graph and their perturbation can thus not be predicted\n",
      "['TRIO+ctrl' 'DAB1+ctrl' 'CX3CL1+ctrl']\n",
      "Local copy of pyg dataset is detected. Loading...\n",
      "Done!\n",
      "Local copy of split is detected. Loading...\n",
      "Done!\n",
      "Creating dataloaders....\n",
      "Done!\n"
     ]
    },
    {
     "name": "stdout",
     "output_type": "stream",
     "text": [
      "here1\n",
      "dict_keys(['test', 'train', 'val'])\n",
      "simulation_single\n"
     ]
    }
   ],
   "source": [
    "pert_data = PertData('./data') # specific saved folder\n",
    "#pert_data.new_data_process(dataset_name = 'boli', adata = adata) # specific dataset name and adata object\n",
    "pert_data.load(data_path = './data/boli') # load the processed data, the path is saved folder + dataset_name\n",
    "pert_data.prepare_split(split = 'simulation_single', seed = 1) # get data split with seed\n",
    "pert_data.get_dataloader(batch_size = 32, test_batch_size = 128) # prepare data loader"
   ]
  },
  {
   "cell_type": "markdown",
   "id": "16817b7f-ed42-4376-a231-32dc431e18fd",
   "metadata": {},
   "source": [
    "# checking dense vs sparse\n"
   ]
  },
  {
   "cell_type": "code",
   "execution_count": 19,
   "id": "3fc53330-137a-45a4-899a-1059b1a337d5",
   "metadata": {},
   "outputs": [],
   "source": [
    "boli_adata = sc.read_h5ad('/gpfs/home/asun/jin_lab/get/GEARS/demo/data/boli/perturb_processed.h5ad')\n"
   ]
  },
  {
   "cell_type": "code",
   "execution_count": 21,
   "id": "1a622d72-49aa-48df-a01e-5bfb5fa1ac90",
   "metadata": {},
   "outputs": [
    {
     "data": {
      "text/plain": [
       "scipy.sparse._csr.csr_matrix"
      ]
     },
     "execution_count": 21,
     "metadata": {},
     "output_type": "execute_result"
    }
   ],
   "source": [
    "type(boli_adata.X)               # Is it <class 'numpy.ndarray'> or <class 'scipy.sparse.csr.csr_matrix'>?\n",
    "adata.X[:5]                 # Try printing a few rows — is it sparse-looking?\n"
   ]
  },
  {
   "cell_type": "code",
   "execution_count": 20,
   "id": "e727541b-8863-404e-81e0-dd8f2f41348c",
   "metadata": {},
   "outputs": [],
   "source": [
    "norman_adata = sc.read_h5ad('/gpfs/home/asun/jin_lab/get/GEARS/demo/data/norman/perturb_processed.h5ad')\n"
   ]
  },
  {
   "cell_type": "code",
   "execution_count": 22,
   "id": "d0b82880-7957-4e87-b42b-6346680d8b3a",
   "metadata": {},
   "outputs": [
    {
     "data": {
      "text/plain": [
       "scipy.sparse._csr.csr_matrix"
      ]
     },
     "execution_count": 22,
     "metadata": {},
     "output_type": "execute_result"
    }
   ],
   "source": [
    "type(norman_adata.X)               # Is it <class 'numpy.ndarray'> or <class 'scipy.sparse.csr.csr_matrix'>?\n"
   ]
  },
  {
   "cell_type": "code",
   "execution_count": null,
   "id": "9cba2b9d-af6e-458c-8edc-ea762c4729d1",
   "metadata": {},
   "outputs": [],
   "source": []
  }
 ],
 "metadata": {
  "kernelspec": {
   "display_name": "get",
   "language": "python",
   "name": "python3"
  },
  "language_info": {
   "codemirror_mode": {
    "name": "ipython",
    "version": 3
   },
   "file_extension": ".py",
   "mimetype": "text/x-python",
   "name": "python",
   "nbconvert_exporter": "python",
   "pygments_lexer": "ipython3",
   "version": "3.12.9"
  }
 },
 "nbformat": 4,
 "nbformat_minor": 5
}
