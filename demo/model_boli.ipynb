{
 "cells": [
  {
   "cell_type": "code",
   "execution_count": 3,
   "id": "589c89d3",
   "metadata": {},
   "outputs": [
    {
     "name": "stdout",
     "output_type": "stream",
     "text": [
      "/gpfs/group/jin/asun/get/GEARS/demo\n"
     ]
    },
    {
     "name": "stderr",
     "output_type": "stream",
     "text": [
      "/gpfs/home/asun/miniforge3/envs/gears/lib/python3.12/site-packages/anndata/utils.py:434: FutureWarning: Importing read_csv from `anndata` is deprecated. Import anndata.io.read_csv instead.\n",
      "  warnings.warn(msg, FutureWarning)\n",
      "/gpfs/home/asun/miniforge3/envs/gears/lib/python3.12/site-packages/anndata/utils.py:434: FutureWarning: Importing read_excel from `anndata` is deprecated. Import anndata.io.read_excel instead.\n",
      "  warnings.warn(msg, FutureWarning)\n",
      "/gpfs/home/asun/miniforge3/envs/gears/lib/python3.12/site-packages/anndata/utils.py:434: FutureWarning: Importing read_hdf from `anndata` is deprecated. Import anndata.io.read_hdf instead.\n",
      "  warnings.warn(msg, FutureWarning)\n",
      "/gpfs/home/asun/miniforge3/envs/gears/lib/python3.12/site-packages/anndata/utils.py:434: FutureWarning: Importing read_loom from `anndata` is deprecated. Import anndata.io.read_loom instead.\n",
      "  warnings.warn(msg, FutureWarning)\n",
      "/gpfs/home/asun/miniforge3/envs/gears/lib/python3.12/site-packages/anndata/utils.py:434: FutureWarning: Importing read_mtx from `anndata` is deprecated. Import anndata.io.read_mtx instead.\n",
      "  warnings.warn(msg, FutureWarning)\n",
      "/gpfs/home/asun/miniforge3/envs/gears/lib/python3.12/site-packages/anndata/utils.py:434: FutureWarning: Importing read_text from `anndata` is deprecated. Import anndata.io.read_text instead.\n",
      "  warnings.warn(msg, FutureWarning)\n",
      "/gpfs/home/asun/miniforge3/envs/gears/lib/python3.12/site-packages/anndata/utils.py:434: FutureWarning: Importing read_umi_tools from `anndata` is deprecated. Import anndata.io.read_umi_tools instead.\n",
      "  warnings.warn(msg, FutureWarning)\n"
     ]
    }
   ],
   "source": [
    "import os\n",
    "os.chdir(\"/gpfs/home/asun/jin_lab/get/GEARS/demo/\")\n",
    "print(os.getcwd())\n",
    "import sys\n",
    "sys.path.append(os.path.abspath('..'))\n",
    "\n",
    "from gears import PertData, GEARS"
   ]
  },
  {
   "cell_type": "code",
   "execution_count": 5,
   "id": "8f3cc5fa-0109-4550-8369-4956576d8263",
   "metadata": {},
   "outputs": [
    {
     "name": "stdout",
     "output_type": "stream",
     "text": [
      "/gpfs/home/asun/miniforge3/envs/gears/lib/python3.12/site-packages/gears/__init__.py\n"
     ]
    }
   ],
   "source": [
    "import gears\n",
    "print(gears.__file__)"
   ]
  },
  {
   "cell_type": "markdown",
   "id": "987aa47d",
   "metadata": {},
   "source": [
    "Load data. We use norman as an example."
   ]
  },
  {
   "cell_type": "code",
   "execution_count": 5,
   "id": "9bbb1ede-cfed-470f-a2a2-c7716fbce4c5",
   "metadata": {},
   "outputs": [
    {
     "name": "stderr",
     "output_type": "stream",
     "text": [
      "Found local copy...\n",
      "Found local copy...\n",
      "These perturbations are not in the GO graph and their perturbation can thus not be predicted\n",
      "['TRIO+ctrl' 'DAB1+ctrl' 'CX3CL1+ctrl']\n",
      "Local copy of pyg dataset is detected. Loading...\n",
      "Done!\n",
      "Local copy of split is detected. Loading...\n",
      "Done!\n",
      "Creating dataloaders....\n",
      "Done!\n"
     ]
    },
    {
     "name": "stdout",
     "output_type": "stream",
     "text": [
      "here1\n"
     ]
    }
   ],
   "source": [
    "pert_data = PertData('./data') # specific saved folder\n",
    "pert_data.load(data_path = './data/boli') # load the processed data, the path is saved folder + dataset_name\n",
    "pert_data.prepare_split(split = 'simulation_single', seed = 1) # get data split with seed\n",
    "pert_data.get_dataloader(batch_size = 32, test_batch_size = 128) # prepare data loader"
   ]
  },
  {
   "cell_type": "markdown",
   "id": "3537fe68",
   "metadata": {},
   "source": [
    "Create a model object; if you use [wandb](https://wandb.ai), you can easily track model training and evaluation by setting `weight_bias_track` to true, and specify the `proj_name` and `exp_name` that you like."
   ]
  },
  {
   "cell_type": "code",
   "execution_count": 3,
   "id": "24e0a095",
   "metadata": {},
   "outputs": [
    {
     "name": "stderr",
     "output_type": "stream",
     "text": [
      "\u001b[34m\u001b[1mwandb\u001b[0m: W&B API key is configured. Use \u001b[1m`wandb login --relogin`\u001b[0m to force relogin\n"
     ]
    },
    {
     "data": {
      "text/html": [
       "creating run (0.0s)"
      ],
      "text/plain": [
       "<IPython.core.display.HTML object>"
      ]
     },
     "metadata": {},
     "output_type": "display_data"
    },
    {
     "data": {
      "text/html": [
       "Tracking run with wandb version 0.21.0"
      ],
      "text/plain": [
       "<IPython.core.display.HTML object>"
      ]
     },
     "metadata": {},
     "output_type": "display_data"
    },
    {
     "data": {
      "text/html": [
       "Run data is saved locally in <code>/gpfs/group/jin/asun/get/GEARS/demo/wandb/run-20250713_223805-oyura0jf</code>"
      ],
      "text/plain": [
       "<IPython.core.display.HTML object>"
      ]
     },
     "metadata": {},
     "output_type": "display_data"
    },
    {
     "data": {
      "text/html": [
       "Syncing run <strong><a href='https://wandb.ai/asunboi-scripps-research/gears/runs/oyura0jf' target=\"_blank\">boli</a></strong> to <a href='https://wandb.ai/asunboi-scripps-research/gears' target=\"_blank\">Weights & Biases</a> (<a href='https://wandb.me/developer-guide' target=\"_blank\">docs</a>)<br>"
      ],
      "text/plain": [
       "<IPython.core.display.HTML object>"
      ]
     },
     "metadata": {},
     "output_type": "display_data"
    },
    {
     "data": {
      "text/html": [
       " View project at <a href='https://wandb.ai/asunboi-scripps-research/gears' target=\"_blank\">https://wandb.ai/asunboi-scripps-research/gears</a>"
      ],
      "text/plain": [
       "<IPython.core.display.HTML object>"
      ]
     },
     "metadata": {},
     "output_type": "display_data"
    },
    {
     "data": {
      "text/html": [
       " View run at <a href='https://wandb.ai/asunboi-scripps-research/gears/runs/oyura0jf' target=\"_blank\">https://wandb.ai/asunboi-scripps-research/gears/runs/oyura0jf</a>"
      ],
      "text/plain": [
       "<IPython.core.display.HTML object>"
      ]
     },
     "metadata": {},
     "output_type": "display_data"
    },
    {
     "name": "stderr",
     "output_type": "stream",
     "text": [
      "Found local copy...\n"
     ]
    }
   ],
   "source": [
    "gears_model = GEARS(pert_data, device = 'cuda:0', \n",
    "                        weight_bias_track = True, \n",
    "                        proj_name = 'gears', \n",
    "                        exp_name = 'boli')\n",
    "gears_model.model_initialize(hidden_size = 64)"
   ]
  },
  {
   "cell_type": "markdown",
   "id": "92ba61bd",
   "metadata": {},
   "source": [
    "You can find available tunable parameters in model_initialize via"
   ]
  },
  {
   "cell_type": "code",
   "execution_count": 7,
   "id": "a306177d",
   "metadata": {},
   "outputs": [
    {
     "data": {
      "text/plain": [
       "{'hidden_size': 'hidden dimension, default 64',\n",
       " 'num_go_gnn_layers': 'number of GNN layers for GO graph, default 1',\n",
       " 'num_gene_gnn_layers': 'number of GNN layers for co-expression gene graph, default 1',\n",
       " 'decoder_hidden_size': 'hidden dimension for gene-specific decoder, default 16',\n",
       " 'num_similar_genes_go_graph': 'number of maximum similar K genes in the GO graph, default 20',\n",
       " 'num_similar_genes_co_express_graph': 'number of maximum similar K genes in the co expression graph, default 20',\n",
       " 'coexpress_threshold': 'pearson correlation threshold when constructing coexpression graph, default 0.4',\n",
       " 'uncertainty': 'whether or not to turn on uncertainty mode, default False',\n",
       " 'uncertainty_reg': 'regularization term to balance uncertainty loss and prediction loss, default 1',\n",
       " 'direction_lambda': 'regularization term to balance direction loss and prediction loss, default 1'}"
      ]
     },
     "execution_count": 7,
     "metadata": {},
     "output_type": "execute_result"
    }
   ],
   "source": [
    "gears_model.tunable_parameters()"
   ]
  },
  {
   "cell_type": "markdown",
   "id": "ffc78335",
   "metadata": {},
   "source": [
    "Train your model:\n",
    "\n",
    "Note: For the sake of demo, we set epoch size to 1. To get full model, set `epochs = 20`."
   ]
  },
  {
   "cell_type": "code",
   "execution_count": 4,
   "id": "d4f005a8",
   "metadata": {
    "scrolled": true
   },
   "outputs": [
    {
     "name": "stderr",
     "output_type": "stream",
     "text": [
      "Start Training...\n",
      "Epoch 1 Step 1 Train Loss: 0.5101\n",
      "Epoch 1 Step 51 Train Loss: 0.4597\n",
      "Epoch 1 Step 101 Train Loss: 0.5592\n",
      "Epoch 1 Step 151 Train Loss: 0.5271\n",
      "Epoch 1 Step 201 Train Loss: 0.6413\n",
      "Epoch 1 Step 251 Train Loss: 0.4412\n",
      "Epoch 1 Step 301 Train Loss: 0.5655\n",
      "Epoch 1 Step 351 Train Loss: 0.5139\n",
      "Epoch 1 Step 401 Train Loss: 0.5006\n",
      "Epoch 1 Step 451 Train Loss: 0.5515\n",
      "Epoch 1 Step 501 Train Loss: 0.6199\n",
      "Epoch 1 Step 551 Train Loss: 0.4908\n",
      "Epoch 1 Step 601 Train Loss: 0.5507\n",
      "Epoch 1: Train Overall MSE: 0.0025 Validation Overall MSE: 0.0021. \n",
      "Train Top 20 DE MSE: 0.0174 Validation Top 20 DE MSE: 0.0178. \n",
      "Epoch 2 Step 1 Train Loss: 0.6395\n",
      "Epoch 2 Step 51 Train Loss: 0.4665\n",
      "Epoch 2 Step 101 Train Loss: 0.5214\n",
      "Epoch 2 Step 151 Train Loss: 0.5280\n",
      "Epoch 2 Step 201 Train Loss: 0.5297\n",
      "Epoch 2 Step 251 Train Loss: 0.4918\n",
      "Epoch 2 Step 301 Train Loss: 0.4611\n",
      "Epoch 2 Step 351 Train Loss: 0.4084\n",
      "Epoch 2 Step 401 Train Loss: 0.4683\n",
      "Epoch 2 Step 451 Train Loss: 0.5021\n",
      "Epoch 2 Step 501 Train Loss: 0.5097\n",
      "Epoch 2 Step 551 Train Loss: 0.5424\n",
      "Epoch 2 Step 601 Train Loss: 0.5620\n",
      "Epoch 2: Train Overall MSE: 0.0008 Validation Overall MSE: 0.0005. \n",
      "Train Top 20 DE MSE: 0.0151 Validation Top 20 DE MSE: 0.0122. \n",
      "Epoch 3 Step 1 Train Loss: 0.4633\n",
      "Epoch 3 Step 51 Train Loss: 0.4803\n",
      "Epoch 3 Step 101 Train Loss: 0.5776\n",
      "Epoch 3 Step 151 Train Loss: 0.5000\n",
      "Epoch 3 Step 201 Train Loss: 0.5891\n",
      "Epoch 3 Step 251 Train Loss: 0.4326\n",
      "Epoch 3 Step 301 Train Loss: 0.4816\n",
      "Epoch 3 Step 351 Train Loss: 0.4738\n",
      "Epoch 3 Step 401 Train Loss: 0.5589\n",
      "Epoch 3 Step 451 Train Loss: 0.4760\n",
      "Epoch 3 Step 501 Train Loss: 0.4399\n",
      "Epoch 3 Step 551 Train Loss: 0.5195\n",
      "Epoch 3 Step 601 Train Loss: 0.4953\n",
      "Epoch 3: Train Overall MSE: 0.0005 Validation Overall MSE: 0.0006. \n",
      "Train Top 20 DE MSE: 0.0145 Validation Top 20 DE MSE: 0.0111. \n",
      "Epoch 4 Step 1 Train Loss: 0.4312\n",
      "Epoch 4 Step 51 Train Loss: 0.5254\n",
      "Epoch 4 Step 101 Train Loss: 0.6232\n",
      "Epoch 4 Step 151 Train Loss: 0.4435\n",
      "Epoch 4 Step 201 Train Loss: 0.4775\n",
      "Epoch 4 Step 251 Train Loss: 0.5170\n",
      "Epoch 4 Step 301 Train Loss: 0.6161\n",
      "Epoch 4 Step 351 Train Loss: 0.4821\n",
      "Epoch 4 Step 401 Train Loss: 0.4468\n",
      "Epoch 4 Step 451 Train Loss: 0.6110\n",
      "Epoch 4 Step 501 Train Loss: 0.4361\n",
      "Epoch 4 Step 551 Train Loss: 0.4776\n",
      "Epoch 4 Step 601 Train Loss: 0.5107\n",
      "Epoch 4: Train Overall MSE: 0.0004 Validation Overall MSE: 0.0003. \n",
      "Train Top 20 DE MSE: 0.0111 Validation Top 20 DE MSE: 0.0099. \n",
      "Epoch 5 Step 1 Train Loss: 0.4446\n",
      "Epoch 5 Step 51 Train Loss: 0.4444\n",
      "Epoch 5 Step 101 Train Loss: 0.5520\n",
      "Epoch 5 Step 151 Train Loss: 0.4739\n",
      "Epoch 5 Step 201 Train Loss: 0.5080\n",
      "Epoch 5 Step 251 Train Loss: 0.4380\n",
      "Epoch 5 Step 301 Train Loss: 0.5572\n",
      "Epoch 5 Step 351 Train Loss: 0.4741\n",
      "Epoch 5 Step 401 Train Loss: 0.4937\n",
      "Epoch 5 Step 451 Train Loss: 0.5245\n",
      "Epoch 5 Step 501 Train Loss: 0.5690\n",
      "Epoch 5 Step 551 Train Loss: 0.4566\n",
      "Epoch 5 Step 601 Train Loss: 0.3994\n",
      "Epoch 5: Train Overall MSE: 0.0004 Validation Overall MSE: 0.0011. \n",
      "Train Top 20 DE MSE: 0.0087 Validation Top 20 DE MSE: 0.0190. \n",
      "Epoch 6 Step 1 Train Loss: 0.4963\n",
      "Epoch 6 Step 51 Train Loss: 0.5430\n",
      "Epoch 6 Step 101 Train Loss: 0.5442\n",
      "Epoch 6 Step 151 Train Loss: 0.4697\n",
      "Epoch 6 Step 201 Train Loss: 0.5227\n",
      "Epoch 6 Step 251 Train Loss: 0.5387\n",
      "Epoch 6 Step 301 Train Loss: 0.5266\n",
      "Epoch 6 Step 351 Train Loss: 0.4943\n",
      "Epoch 6 Step 401 Train Loss: 0.4725\n",
      "Epoch 6 Step 451 Train Loss: 0.5168\n",
      "Epoch 6 Step 501 Train Loss: 0.5431\n",
      "Epoch 6 Step 551 Train Loss: 0.5388\n",
      "Epoch 6 Step 601 Train Loss: 0.5542\n",
      "Epoch 6: Train Overall MSE: 0.0003 Validation Overall MSE: 0.0011. \n",
      "Train Top 20 DE MSE: 0.0077 Validation Top 20 DE MSE: 0.0200. \n",
      "Epoch 7 Step 1 Train Loss: 0.5265\n",
      "Epoch 7 Step 51 Train Loss: 0.5596\n",
      "Epoch 7 Step 101 Train Loss: 0.5377\n",
      "Epoch 7 Step 151 Train Loss: 0.5271\n",
      "Epoch 7 Step 201 Train Loss: 0.4989\n",
      "Epoch 7 Step 251 Train Loss: 0.4659\n",
      "Epoch 7 Step 301 Train Loss: 0.4540\n",
      "Epoch 7 Step 351 Train Loss: 0.4322\n",
      "Epoch 7 Step 401 Train Loss: 0.5441\n",
      "Epoch 7 Step 451 Train Loss: 0.5558\n",
      "Epoch 7 Step 501 Train Loss: 0.5303\n",
      "Epoch 7 Step 551 Train Loss: 0.5248\n",
      "Epoch 7 Step 601 Train Loss: 0.4439\n",
      "Epoch 7: Train Overall MSE: 0.0003 Validation Overall MSE: 0.0011. \n",
      "Train Top 20 DE MSE: 0.0077 Validation Top 20 DE MSE: 0.0198. \n",
      "Epoch 8 Step 1 Train Loss: 0.6521\n",
      "Epoch 8 Step 51 Train Loss: 0.5111\n",
      "Epoch 8 Step 101 Train Loss: 0.4554\n",
      "Epoch 8 Step 151 Train Loss: 0.4071\n",
      "Epoch 8 Step 201 Train Loss: 0.5182\n",
      "Epoch 8 Step 251 Train Loss: 0.5599\n",
      "Epoch 8 Step 301 Train Loss: 0.4707\n",
      "Epoch 8 Step 351 Train Loss: 0.5055\n",
      "Epoch 8 Step 401 Train Loss: 0.4801\n",
      "Epoch 8 Step 451 Train Loss: 0.4139\n",
      "Epoch 8 Step 501 Train Loss: 0.5271\n",
      "Epoch 8 Step 551 Train Loss: 0.3951\n",
      "Epoch 8 Step 601 Train Loss: 0.4657\n",
      "Epoch 8: Train Overall MSE: 0.0003 Validation Overall MSE: 0.0011. \n",
      "Train Top 20 DE MSE: 0.0061 Validation Top 20 DE MSE: 0.0201. \n",
      "Epoch 9 Step 1 Train Loss: 0.5979\n",
      "Epoch 9 Step 51 Train Loss: 0.5498\n",
      "Epoch 9 Step 101 Train Loss: 0.5259\n",
      "Epoch 9 Step 151 Train Loss: 0.4531\n",
      "Epoch 9 Step 201 Train Loss: 0.5571\n",
      "Epoch 9 Step 251 Train Loss: 0.4772\n",
      "Epoch 9 Step 301 Train Loss: 0.5193\n",
      "Epoch 9 Step 351 Train Loss: 0.5554\n",
      "Epoch 9 Step 401 Train Loss: 0.4744\n",
      "Epoch 9 Step 451 Train Loss: 0.5262\n",
      "Epoch 9 Step 501 Train Loss: 0.4794\n",
      "Epoch 9 Step 551 Train Loss: 0.6142\n",
      "Epoch 9 Step 601 Train Loss: 0.4411\n",
      "Epoch 9: Train Overall MSE: 0.0003 Validation Overall MSE: 0.0011. \n",
      "Train Top 20 DE MSE: 0.0060 Validation Top 20 DE MSE: 0.0198. \n",
      "Epoch 10 Step 1 Train Loss: 0.4883\n",
      "Epoch 10 Step 51 Train Loss: 0.4548\n",
      "Epoch 10 Step 101 Train Loss: 0.5010\n",
      "Epoch 10 Step 151 Train Loss: 0.5349\n",
      "Epoch 10 Step 201 Train Loss: 0.5283\n",
      "Epoch 10 Step 251 Train Loss: 0.4929\n",
      "Epoch 10 Step 301 Train Loss: 0.5284\n",
      "Epoch 10 Step 351 Train Loss: 0.5406\n",
      "Epoch 10 Step 401 Train Loss: 0.4535\n",
      "Epoch 10 Step 451 Train Loss: 0.5279\n",
      "Epoch 10 Step 501 Train Loss: 0.5105\n",
      "Epoch 10 Step 551 Train Loss: 0.5003\n",
      "Epoch 10 Step 601 Train Loss: 0.4609\n",
      "Epoch 10: Train Overall MSE: 0.0003 Validation Overall MSE: 0.0009. \n",
      "Train Top 20 DE MSE: 0.0068 Validation Top 20 DE MSE: 0.0180. \n",
      "Epoch 11 Step 1 Train Loss: 0.4917\n",
      "Epoch 11 Step 51 Train Loss: 0.4223\n",
      "Epoch 11 Step 101 Train Loss: 0.5323\n",
      "Epoch 11 Step 151 Train Loss: 0.4914\n",
      "Epoch 11 Step 201 Train Loss: 0.6073\n",
      "Epoch 11 Step 251 Train Loss: 0.5328\n",
      "Epoch 11 Step 301 Train Loss: 0.5589\n",
      "Epoch 11 Step 351 Train Loss: 0.4487\n",
      "Epoch 11 Step 401 Train Loss: 0.5576\n",
      "Epoch 11 Step 451 Train Loss: 0.4037\n",
      "Epoch 11 Step 501 Train Loss: 0.4230\n",
      "Epoch 11 Step 551 Train Loss: 0.5646\n",
      "Epoch 11 Step 601 Train Loss: 0.4422\n",
      "Epoch 11: Train Overall MSE: 0.0003 Validation Overall MSE: 0.0012. \n",
      "Train Top 20 DE MSE: 0.0062 Validation Top 20 DE MSE: 0.0212. \n",
      "Epoch 12 Step 1 Train Loss: 0.5064\n",
      "Epoch 12 Step 51 Train Loss: 0.5636\n",
      "Epoch 12 Step 101 Train Loss: 0.4083\n",
      "Epoch 12 Step 151 Train Loss: 0.4293\n",
      "Epoch 12 Step 201 Train Loss: 0.4686\n",
      "Epoch 12 Step 251 Train Loss: 0.4073\n",
      "Epoch 12 Step 301 Train Loss: 0.5623\n",
      "Epoch 12 Step 351 Train Loss: 0.5655\n",
      "Epoch 12 Step 401 Train Loss: 0.5281\n",
      "Epoch 12 Step 451 Train Loss: 0.5323\n",
      "Epoch 12 Step 501 Train Loss: 0.5055\n",
      "Epoch 12 Step 551 Train Loss: 0.5243\n",
      "Epoch 12 Step 601 Train Loss: 0.5728\n",
      "Epoch 12: Train Overall MSE: 0.0003 Validation Overall MSE: 0.0007. \n",
      "Train Top 20 DE MSE: 0.0069 Validation Top 20 DE MSE: 0.0157. \n",
      "Epoch 13 Step 1 Train Loss: 0.4583\n",
      "Epoch 13 Step 51 Train Loss: 0.4710\n",
      "Epoch 13 Step 101 Train Loss: 0.5142\n",
      "Epoch 13 Step 151 Train Loss: 0.4467\n",
      "Epoch 13 Step 201 Train Loss: 0.5907\n",
      "Epoch 13 Step 251 Train Loss: 0.4232\n",
      "Epoch 13 Step 301 Train Loss: 0.5967\n",
      "Epoch 13 Step 351 Train Loss: 0.4953\n",
      "Epoch 13 Step 401 Train Loss: 0.4357\n",
      "Epoch 13 Step 451 Train Loss: 0.4731\n",
      "Epoch 13 Step 501 Train Loss: 0.4420\n",
      "Epoch 13 Step 551 Train Loss: 0.4211\n",
      "Epoch 13 Step 601 Train Loss: 0.6203\n",
      "Epoch 13: Train Overall MSE: 0.0003 Validation Overall MSE: 0.0010. \n",
      "Train Top 20 DE MSE: 0.0061 Validation Top 20 DE MSE: 0.0184. \n",
      "Epoch 14 Step 1 Train Loss: 0.5289\n",
      "Epoch 14 Step 51 Train Loss: 0.5779\n",
      "Epoch 14 Step 101 Train Loss: 0.4838\n",
      "Epoch 14 Step 151 Train Loss: 0.4311\n",
      "Epoch 14 Step 201 Train Loss: 0.4801\n",
      "Epoch 14 Step 251 Train Loss: 0.6150\n",
      "Epoch 14 Step 301 Train Loss: 0.5068\n",
      "Epoch 14 Step 351 Train Loss: 0.4851\n",
      "Epoch 14 Step 401 Train Loss: 0.4945\n",
      "Epoch 14 Step 451 Train Loss: 0.5114\n",
      "Epoch 14 Step 501 Train Loss: 0.4753\n",
      "Epoch 14 Step 551 Train Loss: 0.4496\n",
      "Epoch 14 Step 601 Train Loss: 0.3975\n",
      "Epoch 14: Train Overall MSE: 0.0003 Validation Overall MSE: 0.0011. \n",
      "Train Top 20 DE MSE: 0.0059 Validation Top 20 DE MSE: 0.0201. \n",
      "Epoch 15 Step 1 Train Loss: 0.5408\n",
      "Epoch 15 Step 51 Train Loss: 0.4266\n",
      "Epoch 15 Step 101 Train Loss: 0.4905\n",
      "Epoch 15 Step 151 Train Loss: 0.4308\n",
      "Epoch 15 Step 201 Train Loss: 0.5143\n",
      "Epoch 15 Step 251 Train Loss: 0.4443\n",
      "Epoch 15 Step 301 Train Loss: 0.5061\n",
      "Epoch 15 Step 351 Train Loss: 0.4566\n",
      "Epoch 15 Step 401 Train Loss: 0.4551\n",
      "Epoch 15 Step 451 Train Loss: 0.4871\n",
      "Epoch 15 Step 501 Train Loss: 0.4964\n",
      "Epoch 15 Step 551 Train Loss: 0.5300\n",
      "Epoch 15 Step 601 Train Loss: 0.5035\n",
      "Epoch 15: Train Overall MSE: 0.0003 Validation Overall MSE: 0.0011. \n",
      "Train Top 20 DE MSE: 0.0065 Validation Top 20 DE MSE: 0.0194. \n",
      "Epoch 16 Step 1 Train Loss: 0.5422\n",
      "Epoch 16 Step 51 Train Loss: 0.4671\n",
      "Epoch 16 Step 101 Train Loss: 0.5085\n",
      "Epoch 16 Step 151 Train Loss: 0.4918\n",
      "Epoch 16 Step 201 Train Loss: 0.4594\n",
      "Epoch 16 Step 251 Train Loss: 0.4293\n",
      "Epoch 16 Step 301 Train Loss: 0.4844\n",
      "Epoch 16 Step 351 Train Loss: 0.4135\n",
      "Epoch 16 Step 401 Train Loss: 0.4896\n",
      "Epoch 16 Step 451 Train Loss: 0.5760\n",
      "Epoch 16 Step 501 Train Loss: 0.4873\n",
      "Epoch 16 Step 551 Train Loss: 0.5619\n",
      "Epoch 16 Step 601 Train Loss: 0.4541\n",
      "Epoch 16: Train Overall MSE: 0.0003 Validation Overall MSE: 0.0008. \n",
      "Train Top 20 DE MSE: 0.0059 Validation Top 20 DE MSE: 0.0170. \n",
      "Epoch 17 Step 1 Train Loss: 0.5276\n",
      "Epoch 17 Step 51 Train Loss: 0.4242\n",
      "Epoch 17 Step 101 Train Loss: 0.4881\n",
      "Epoch 17 Step 151 Train Loss: 0.5029\n",
      "Epoch 17 Step 201 Train Loss: 0.4234\n",
      "Epoch 17 Step 251 Train Loss: 0.4499\n",
      "Epoch 17 Step 301 Train Loss: 0.8238\n",
      "Epoch 17 Step 351 Train Loss: 0.5750\n",
      "Epoch 17 Step 401 Train Loss: 0.5222\n",
      "Epoch 17 Step 451 Train Loss: 0.4682\n",
      "Epoch 17 Step 501 Train Loss: 0.5303\n",
      "Epoch 17 Step 551 Train Loss: 0.5359\n",
      "Epoch 17 Step 601 Train Loss: 0.5200\n",
      "Epoch 17: Train Overall MSE: 0.0003 Validation Overall MSE: 0.0010. \n",
      "Train Top 20 DE MSE: 0.0061 Validation Top 20 DE MSE: 0.0193. \n",
      "Epoch 18 Step 1 Train Loss: 0.5510\n",
      "Epoch 18 Step 51 Train Loss: 0.4330\n",
      "Epoch 18 Step 101 Train Loss: 0.4626\n",
      "Epoch 18 Step 151 Train Loss: 0.4870\n",
      "Epoch 18 Step 201 Train Loss: 0.4788\n",
      "Epoch 18 Step 251 Train Loss: 0.5089\n",
      "Epoch 18 Step 301 Train Loss: 0.4435\n",
      "Epoch 18 Step 351 Train Loss: 0.4575\n",
      "Epoch 18 Step 401 Train Loss: 0.4084\n",
      "Epoch 18 Step 451 Train Loss: 0.4453\n",
      "Epoch 18 Step 501 Train Loss: 0.4788\n",
      "Epoch 18 Step 551 Train Loss: 0.4124\n",
      "Epoch 18 Step 601 Train Loss: 0.5139\n",
      "Epoch 18: Train Overall MSE: 0.0003 Validation Overall MSE: 0.0010. \n",
      "Train Top 20 DE MSE: 0.0058 Validation Top 20 DE MSE: 0.0190. \n",
      "Epoch 19 Step 1 Train Loss: 0.5806\n",
      "Epoch 19 Step 51 Train Loss: 0.5011\n",
      "Epoch 19 Step 101 Train Loss: 0.4529\n",
      "Epoch 19 Step 151 Train Loss: 0.5440\n",
      "Epoch 19 Step 201 Train Loss: 0.5428\n",
      "Epoch 19 Step 251 Train Loss: 0.4692\n",
      "Epoch 19 Step 301 Train Loss: 0.5937\n",
      "Epoch 19 Step 351 Train Loss: 0.5431\n",
      "Epoch 19 Step 401 Train Loss: 0.4686\n",
      "Epoch 19 Step 451 Train Loss: 0.5144\n",
      "Epoch 19 Step 501 Train Loss: 0.4379\n",
      "Epoch 19 Step 551 Train Loss: 0.4688\n",
      "Epoch 19 Step 601 Train Loss: 0.5357\n",
      "Epoch 19: Train Overall MSE: 0.0003 Validation Overall MSE: 0.0008. \n",
      "Train Top 20 DE MSE: 0.0066 Validation Top 20 DE MSE: 0.0171. \n",
      "Epoch 20 Step 1 Train Loss: 0.5659\n",
      "Epoch 20 Step 51 Train Loss: 0.4618\n",
      "Epoch 20 Step 101 Train Loss: 0.6007\n",
      "Epoch 20 Step 151 Train Loss: 0.6211\n",
      "Epoch 20 Step 201 Train Loss: 0.5361\n",
      "Epoch 20 Step 251 Train Loss: 0.4887\n",
      "Epoch 20 Step 301 Train Loss: 0.5322\n",
      "Epoch 20 Step 351 Train Loss: 0.4696\n",
      "Epoch 20 Step 401 Train Loss: 0.4721\n",
      "Epoch 20 Step 451 Train Loss: 0.5465\n",
      "Epoch 20 Step 501 Train Loss: 0.4846\n",
      "Epoch 20 Step 551 Train Loss: 0.5531\n",
      "Epoch 20 Step 601 Train Loss: 0.5582\n",
      "Epoch 20: Train Overall MSE: 0.0003 Validation Overall MSE: 0.0008. \n",
      "Train Top 20 DE MSE: 0.0064 Validation Top 20 DE MSE: 0.0166. \n",
      "Done!\n",
      "Start Testing...\n",
      "Best performing model: Test Top 20 DE MSE: 0.0188\n",
      "Done!\n"
     ]
    },
    {
     "name": "stderr",
     "output_type": "stream",
     "text": [
      "Epoch 1 Step 1 Train Loss: 0.5626\n",
      "Epoch 1 Step 51 Train Loss: 0.4361\n",
      "Epoch 1 Step 101 Train Loss: 0.4368\n",
      "Epoch 1 Step 151 Train Loss: 0.4140\n",
      "Epoch 1 Step 201 Train Loss: 0.4180\n",
      "Epoch 1 Step 251 Train Loss: 0.4792\n",
      "Epoch 1 Step 301 Train Loss: 0.5223\n",
      "Epoch 1 Step 351 Train Loss: 0.4383\n",
      "Epoch 1 Step 401 Train Loss: 0.4672\n",
      "Epoch 1 Step 451 Train Loss: 0.5511\n",
      "Epoch 1 Step 501 Train Loss: 0.4343\n",
      "Epoch 1 Step 551 Train Loss: 0.5042\n",
      "Epoch 1 Step 601 Train Loss: 0.5136\n",
      "Epoch 1 Step 651 Train Loss: 0.4401\n",
      "Epoch 1 Step 701 Train Loss: 0.5244\n",
      "Epoch 1 Step 751 Train Loss: 0.4747\n",
      "Epoch 1 Step 801 Train Loss: 0.4465\n",
      "Epoch 1 Step 851 Train Loss: 0.4545\n",
      "Epoch 1 Step 901 Train Loss: 0.5126\n",
      "Epoch 1 Step 951 Train Loss: 0.5011\n",
      "Epoch 1 Step 1001 Train Loss: 0.4591\n",
      "Epoch 1 Step 1051 Train Loss: 0.4627\n",
      "Epoch 1 Step 1101 Train Loss: 0.6890\n",
      "Epoch 1 Step 1151 Train Loss: 0.4552\n",
      "Epoch 1 Step 1201 Train Loss: 0.4636\n",
      "Epoch 1 Step 1251 Train Loss: 0.4276\n",
      "Epoch 1 Step 1301 Train Loss: 0.4147\n",
      "Epoch 1 Step 1351 Train Loss: 0.4341\n",
      "Epoch 1 Step 1401 Train Loss: 0.4658\n",
      "Epoch 1 Step 1451 Train Loss: 0.4684\n",
      "Epoch 1 Step 1501 Train Loss: 0.5119\n",
      "Epoch 1 Step 1551 Train Loss: 0.4086\n",
      "Epoch 1: Train Overall MSE: 0.0054 Validation Overall MSE: 0.0056. \n",
      "Train Top 20 DE MSE: 0.1365 Validation Top 20 DE MSE: 0.2466. \n",
      "Done!\n",
      "Start Testing...\n",
      "Best performing model: Test Top 20 DE MSE: 0.2120\n",
      "Start doing subgroup analysis for simulation split...\n",
      "test_combo_seen0_mse: 0.0072175395\n",
      "test_combo_seen0_pearson: 0.9794717162655309\n",
      "test_combo_seen0_mse_de: 0.19183938\n",
      "test_combo_seen0_pearson_de: 0.7352173809986334\n",
      "test_combo_seen1_mse: 0.0087472005\n",
      "test_combo_seen1_pearson: 0.9764783200366359\n",
      "test_combo_seen1_mse_de: 0.22656994\n",
      "test_combo_seen1_pearson_de: 0.8511895703616132\n",
      "test_combo_seen2_mse: 0.006038659\n",
      "test_combo_seen2_pearson: 0.9830501386546191\n",
      "test_combo_seen2_mse_de: 0.23038097\n",
      "test_combo_seen2_pearson_de: 0.9111355878827205\n",
      "test_unseen_single_mse: 0.005308328\n",
      "test_unseen_single_pearson: 0.9850050683320052\n",
      "test_unseen_single_mse_de: 0.18998322\n",
      "test_unseen_single_pearson_de: 0.8726011159223537\n",
      "test_combo_seen0_pearson_delta: 0.5205973096109335\n",
      "test_combo_seen0_frac_opposite_direction_top20_non_dropout: 0.14444444444444446\n",
      "test_combo_seen0_frac_sigma_below_1_non_dropout: 0.8\n",
      "test_combo_seen0_mse_top20_de_non_dropout: 0.28866377\n",
      "test_combo_seen1_pearson_delta: 0.5126535454871024\n",
      "test_combo_seen1_frac_opposite_direction_top20_non_dropout: 0.16627906976744186\n",
      "test_combo_seen1_frac_sigma_below_1_non_dropout: 0.736046511627907\n",
      "test_combo_seen1_mse_top20_de_non_dropout: 0.2952728\n",
      "test_combo_seen2_pearson_delta: 0.5506515026785755\n",
      "test_combo_seen2_frac_opposite_direction_top20_non_dropout: 0.1131578947368421\n",
      "test_combo_seen2_frac_sigma_below_1_non_dropout: 0.8210526315789474\n",
      "test_combo_seen2_mse_top20_de_non_dropout: 0.24729146\n",
      "test_unseen_single_pearson_delta: 0.4097766294958418\n",
      "test_unseen_single_frac_opposite_direction_top20_non_dropout: 0.22361111111111112\n",
      "test_unseen_single_frac_sigma_below_1_non_dropout: 0.8291666666666666\n",
      "test_unseen_single_mse_top20_de_non_dropout: 0.20819786\n",
      "Done!\n"
     ]
    }
   ],
   "source": [
    "gears_model.train(epochs = 20, lr = 1e-3)"
   ]
  },
  {
   "cell_type": "markdown",
   "id": "3db41f36",
   "metadata": {},
   "source": [
    "Save and load pretrained models:"
   ]
  },
  {
   "cell_type": "code",
   "execution_count": 5,
   "id": "76063309",
   "metadata": {},
   "outputs": [],
   "source": [
    "gears_model.save_model('boli_model')\n",
    "gears_model.load_pretrained('boli_model')"
   ]
  },
  {
   "cell_type": "markdown",
   "id": "9cbc729a",
   "metadata": {},
   "source": [
    "Make prediction for new perturbation:"
   ]
  },
  {
   "cell_type": "code",
   "execution_count": 6,
   "id": "e001ba4f-f692-438e-8757-552ef231e6c8",
   "metadata": {},
   "outputs": [],
   "source": [
    "gears_model = GEARS(pert_data, device = 'cuda:0')\n",
    "gears_model.load_pretrained('boli_model')"
   ]
  },
  {
   "cell_type": "code",
   "execution_count": 4,
   "id": "f4e4e206-c732-44ba-a7e9-ddd1b5f34d01",
   "metadata": {},
   "outputs": [
    {
     "data": {
      "image/png": "[encoded data removed]",
      "text/plain": [
       "<Figure size 1650x450 with 1 Axes>"
      ]
     },
     "metadata": {},
     "output_type": "display_data"
    }
   ],
   "source": [
    "gears_model.plot_perturbation('BCL11B+ctrl')"
   ]
  },
  {
   "cell_type": "code",
   "execution_count": 5,
   "id": "f205e1af-4082-4c3d-b42e-17e092536ef9",
   "metadata": {},
   "outputs": [
    {
     "data": {
      "image/png": "[encoded data removed]",
      "text/plain": [
       "<Figure size 1650x450 with 1 Axes>"
      ]
     },
     "metadata": {},
     "output_type": "display_data"
    }
   ],
   "source": [
    "gears_model.plot_perturbation('XPO7+ctrl')"
   ]
  },
  {
   "cell_type": "code",
   "execution_count": 14,
   "id": "4b654a1a-b7ac-4b1a-9d78-2f0a4c41132d",
   "metadata": {
    "scrolled": true
   },
   "outputs": [
    {
     "name": "stdout",
     "output_type": "stream",
     "text": [
      "['Neuron_ANK3+ctrl_1+1', 'Neuron_BCL11B+ctrl_1+1', 'Neuron_CUL1+ctrl_1+1', 'Neuron_CX3CL1+ctrl_1+1', 'Neuron_DAB1+ctrl_1+1', 'Neuron_HERC1+ctrl_1+1', 'Neuron_RB1CC1+ctrl_1+1', 'Neuron_SATB2+ctrl_1+1', 'Neuron_TBR1+ctrl_1+1', 'Neuron_TRIO+ctrl_1+1', 'Neuron_XPO7+ctrl_1+1']\n",
      "['BCL11B+ctrl', 'XPO7+ctrl', 'ANK3+ctrl', 'TBR1+ctrl', 'ctrl', 'SATB2+ctrl', 'CUL1+ctrl', 'RB1CC1+ctrl', 'HERC1+ctrl']\n"
     ]
    }
   ],
   "source": [
    "adata = gears_model.adata\n",
    "cond2name = dict(adata.obs[['condition', 'condition_name']].values)\n",
    "\n",
    "print(list(adata.uns['top_non_dropout_de_20'].keys()))\n",
    "print(list(cond2name.keys()))"
   ]
  },
  {
   "cell_type": "code",
   "execution_count": null,
   "id": "9eab8c2a-c7ef-4ac0-b0c0-00321ec2aeb3",
   "metadata": {},
   "outputs": [],
   "source": [
    "print(gears_model.pert_data.perturbations)"
   ]
  },
  {
   "cell_type": "code",
   "execution_count": 10,
   "id": "7e5ba5f8",
   "metadata": {},
   "outputs": [],
   "source": [
    "result = gears_model.predict([['BCL11B']])"
   ]
  },
  {
   "cell_type": "code",
   "execution_count": 13,
   "id": "7404bfda-f686-410b-9928-e766b899fc81",
   "metadata": {},
   "outputs": [
    {
     "data": {
      "text/plain": [
       "5000"
      ]
     },
     "execution_count": 13,
     "metadata": {},
     "output_type": "execute_result"
    }
   ],
   "source": [
    "len(result['BCL11B'])"
   ]
  },
  {
   "cell_type": "markdown",
   "id": "fe22e425",
   "metadata": {},
   "source": [
    "Gene list can be found here:"
   ]
  },
  {
   "cell_type": "code",
   "execution_count": 8,
   "id": "2604cd56",
   "metadata": {},
   "outputs": [
    {
     "data": {
      "text/plain": [
       "5000"
      ]
     },
     "execution_count": 8,
     "metadata": {},
     "output_type": "execute_result"
    }
   ],
   "source": [
    "len(gears_model.gene_list)"
   ]
  },
  {
   "cell_type": "markdown",
   "id": "8a20b111-28e7-47e6-9da9-51bb1669ec6e",
   "metadata": {},
   "source": [
    "# Predict for celleval?"
   ]
  },
  {
   "cell_type": "code",
   "execution_count": 20,
   "id": "dd1c7066-b1bd-4bde-b78a-16f8d40a98f0",
   "metadata": {},
   "outputs": [],
   "source": [
    "import numpy as np\n",
    "import pandas as pd\n",
    "import anndata as ad"
   ]
  },
  {
   "cell_type": "code",
   "execution_count": 14,
   "id": "01303811-1ba0-499e-b128-a31b588aba5d",
   "metadata": {},
   "outputs": [],
   "source": [
    "perturbations = ['BCL11B', 'XPO7', 'ANK3', 'TBR1', 'SATB2', 'CUL1', 'RB1CC1', 'HERC1']  # or any from your dataset\n",
    "pred = gears_model.predict([[p] for p in perturbations])"
   ]
  },
  {
   "cell_type": "code",
   "execution_count": 17,
   "id": "e882a8c8-c156-44af-a888-695a5fc02676",
   "metadata": {},
   "outputs": [],
   "source": [
    "X_pred = np.stack([pred[p] for p in perturbations])  # shape: (n_perturbations, n_genes)"
   ]
  },
  {
   "cell_type": "code",
   "execution_count": 21,
   "id": "12b429a0-3038-48f9-90b0-890e93d299b3",
   "metadata": {},
   "outputs": [],
   "source": [
    "obs_df = pd.DataFrame({\n",
    "    'condition': perturbations,\n",
    "    'cell_type': ['Neuron'] * len(perturbations),  # or whatever your cell type is\n",
    "    'batch': ['GEARS'] * len(perturbations)        # optional but useful\n",
    "}, index=perturbations)"
   ]
  },
  {
   "cell_type": "code",
   "execution_count": 23,
   "id": "9b8f4628-0f0b-4091-aa03-4254c28a8f54",
   "metadata": {},
   "outputs": [],
   "source": [
    "var_df = gears_model.adata.var.copy()\n",
    "if 'gene_name' not in var_df.columns:\n",
    "    var_df['gene_name'] = var_df.index"
   ]
  },
  {
   "cell_type": "code",
   "execution_count": 22,
   "id": "db195d1e-8591-48b7-bba4-d99b118d51c9",
   "metadata": {},
   "outputs": [
    {
     "data": {
      "text/html": [
       "<div>\n",
       "<style scoped>\n",
       "    .dataframe tbody tr th:only-of-type {\n",
       "        vertical-align: middle;\n",
       "    }\n",
       "\n",
       "    .dataframe tbody tr th {\n",
       "        vertical-align: top;\n",
       "    }\n",
       "\n",
       "    .dataframe thead th {\n",
       "        text-align: right;\n",
       "    }\n",
       "</style>\n",
       "<table border=\"1\" class=\"dataframe\">\n",
       "  <thead>\n",
       "    <tr style=\"text-align: right;\">\n",
       "      <th></th>\n",
       "      <th>condition</th>\n",
       "      <th>cell_type</th>\n",
       "      <th>batch</th>\n",
       "    </tr>\n",
       "  </thead>\n",
       "  <tbody>\n",
       "    <tr>\n",
       "      <th>BCL11B</th>\n",
       "      <td>BCL11B</td>\n",
       "      <td>Neuron</td>\n",
       "      <td>GEARS</td>\n",
       "    </tr>\n",
       "    <tr>\n",
       "      <th>XPO7</th>\n",
       "      <td>XPO7</td>\n",
       "      <td>Neuron</td>\n",
       "      <td>GEARS</td>\n",
       "    </tr>\n",
       "    <tr>\n",
       "      <th>ANK3</th>\n",
       "      <td>ANK3</td>\n",
       "      <td>Neuron</td>\n",
       "      <td>GEARS</td>\n",
       "    </tr>\n",
       "    <tr>\n",
       "      <th>TBR1</th>\n",
       "      <td>TBR1</td>\n",
       "      <td>Neuron</td>\n",
       "      <td>GEARS</td>\n",
       "    </tr>\n",
       "    <tr>\n",
       "      <th>SATB2</th>\n",
       "      <td>SATB2</td>\n",
       "      <td>Neuron</td>\n",
       "      <td>GEARS</td>\n",
       "    </tr>\n",
       "    <tr>\n",
       "      <th>CUL1</th>\n",
       "      <td>CUL1</td>\n",
       "      <td>Neuron</td>\n",
       "      <td>GEARS</td>\n",
       "    </tr>\n",
       "    <tr>\n",
       "      <th>RB1CC1</th>\n",
       "      <td>RB1CC1</td>\n",
       "      <td>Neuron</td>\n",
       "      <td>GEARS</td>\n",
       "    </tr>\n",
       "    <tr>\n",
       "      <th>HERC1</th>\n",
       "      <td>HERC1</td>\n",
       "      <td>Neuron</td>\n",
       "      <td>GEARS</td>\n",
       "    </tr>\n",
       "  </tbody>\n",
       "</table>\n",
       "</div>"
      ],
      "text/plain": [
       "       condition cell_type  batch\n",
       "BCL11B    BCL11B    Neuron  GEARS\n",
       "XPO7        XPO7    Neuron  GEARS\n",
       "ANK3        ANK3    Neuron  GEARS\n",
       "TBR1        TBR1    Neuron  GEARS\n",
       "SATB2      SATB2    Neuron  GEARS\n",
       "CUL1        CUL1    Neuron  GEARS\n",
       "RB1CC1    RB1CC1    Neuron  GEARS\n",
       "HERC1      HERC1    Neuron  GEARS"
      ]
     },
     "execution_count": 22,
     "metadata": {},
     "output_type": "execute_result"
    }
   ],
   "source": [
    "adata_pred = ad.AnnData(\n",
    "    X=X_pred,\n",
    "    obs=obs_df,\n",
    "    var=var_df\n",
    ")"
   ]
  },
  {
   "cell_type": "code",
   "execution_count": 30,
   "id": "6054ffb0-d4ea-40c3-aa40-6bcfb80b5d2a",
   "metadata": {},
   "outputs": [
    {
     "data": {
      "text/plain": [
       "condition\n",
       "BCL11B+ctrl    5367\n",
       "ctrl           5224\n",
       "TBR1+ctrl      3466\n",
       "RB1CC1+ctrl    2534\n",
       "SATB2+ctrl     2320\n",
       "HERC1+ctrl     2165\n",
       "ANK3+ctrl      1763\n",
       "XPO7+ctrl      1602\n",
       "CUL1+ctrl      1297\n",
       "Name: count, dtype: int64"
      ]
     },
     "execution_count": 30,
     "metadata": {},
     "output_type": "execute_result"
    }
   ],
   "source": [
    "gears_model.adata.obs['condition'].value_counts()\n"
   ]
  },
  {
   "cell_type": "code",
   "execution_count": 35,
   "id": "06f5e984-9851-4a99-8b1d-730e1645366f",
   "metadata": {},
   "outputs": [],
   "source": [
    "import numpy as np\n",
    "import pandas as pd\n",
    "import anndata as ad\n",
    "\n",
    "def simulate_deterministic_anndata(gears_model, pert_counts):\n",
    "    all_X = []\n",
    "    all_obs = []\n",
    "\n",
    "    gene_names = gears_model.adata.var['gene_name'].values\n",
    "    var_df = gears_model.adata.var.copy()\n",
    "\n",
    "    for cond, n_cells in pert_counts.items():\n",
    "        if cond == \"ctrl\":\n",
    "            # Use control expression vector\n",
    "            expr = gears_model.ctrl_expression.cpu().numpy()\n",
    "        else:\n",
    "            pert = cond.split('+')[0]  # Use only gene name\n",
    "            pred = gears_model.predict([[pert]])[pert]\n",
    "            expr = pred  # shape: (n_genes,)\n",
    "\n",
    "        # Repeat predicted expression n_cells times\n",
    "        mat = np.tile(expr, (n_cells, 1))\n",
    "        all_X.append(mat)\n",
    "\n",
    "        obs_df = pd.DataFrame({\n",
    "            'condition': [cond] * n_cells,\n",
    "            'perturbation': [cond.split('+')[0] if cond != \"ctrl\" else \"ctrl\"] * n_cells,\n",
    "        })\n",
    "        all_obs.append(obs_df)\n",
    "\n",
    "    # Combine\n",
    "    X = np.vstack(all_X)\n",
    "    obs = pd.concat(all_obs, ignore_index=True)\n",
    "\n",
    "    var_df = gears_model.adata.var.copy()\n",
    "    if 'gene_name' not in var_df.columns:\n",
    "        var_df['gene_name'] = var_df.index\n",
    "    \n",
    "    adata_sim = ad.AnnData(\n",
    "        X=X,\n",
    "        obs=obs,\n",
    "        var=var_df\n",
    "    )\n",
    "\n",
    "    return adata_sim"
   ]
  },
  {
   "cell_type": "code",
   "execution_count": 36,
   "id": "eeca60f3-f622-4167-8e5c-98fc1740fc7b",
   "metadata": {},
   "outputs": [],
   "source": [
    "adata_sim = simulate_deterministic_anndata(gears_model, gears_model.adata.obs['condition'].value_counts())"
   ]
  },
  {
   "cell_type": "code",
   "execution_count": 39,
   "id": "7c6c0195-be0e-4420-93ca-6c27bf4375c6",
   "metadata": {},
   "outputs": [
    {
     "data": {
      "text/html": [
       "<div>\n",
       "<style scoped>\n",
       "    .dataframe tbody tr th:only-of-type {\n",
       "        vertical-align: middle;\n",
       "    }\n",
       "\n",
       "    .dataframe tbody tr th {\n",
       "        vertical-align: top;\n",
       "    }\n",
       "\n",
       "    .dataframe thead th {\n",
       "        text-align: right;\n",
       "    }\n",
       "</style>\n",
       "<table border=\"1\" class=\"dataframe\">\n",
       "  <thead>\n",
       "    <tr style=\"text-align: right;\">\n",
       "      <th></th>\n",
       "      <th>condition</th>\n",
       "      <th>perturbation</th>\n",
       "    </tr>\n",
       "  </thead>\n",
       "  <tbody>\n",
       "    <tr>\n",
       "      <th>0</th>\n",
       "      <td>BCL11B+ctrl</td>\n",
       "      <td>BCL11B</td>\n",
       "    </tr>\n",
       "    <tr>\n",
       "      <th>1</th>\n",
       "      <td>BCL11B+ctrl</td>\n",
       "      <td>BCL11B</td>\n",
       "    </tr>\n",
       "  </tbody>\n",
       "</table>\n",
       "</div>"
      ],
      "text/plain": [
       "     condition perturbation\n",
       "0  BCL11B+ctrl       BCL11B\n",
       "1  BCL11B+ctrl       BCL11B"
      ]
     },
     "execution_count": 39,
     "metadata": {},
     "output_type": "execute_result"
    }
   ],
   "source": [
    "adata_sim..head(2)"
   ]
  },
  {
   "cell_type": "code",
   "execution_count": 42,
   "id": "80794e38-eaa4-4a77-9335-a6bbc09bd00d",
   "metadata": {},
   "outputs": [
    {
     "data": {
      "text/html": [
       "<div>\n",
       "<style scoped>\n",
       "    .dataframe tbody tr th:only-of-type {\n",
       "        vertical-align: middle;\n",
       "    }\n",
       "\n",
       "    .dataframe tbody tr th {\n",
       "        vertical-align: top;\n",
       "    }\n",
       "\n",
       "    .dataframe thead th {\n",
       "        text-align: right;\n",
       "    }\n",
       "</style>\n",
       "<table border=\"1\" class=\"dataframe\">\n",
       "  <thead>\n",
       "    <tr style=\"text-align: right;\">\n",
       "      <th></th>\n",
       "      <th>4</th>\n",
       "      <th>5</th>\n",
       "      <th>7</th>\n",
       "      <th>11</th>\n",
       "      <th>14</th>\n",
       "      <th>18</th>\n",
       "      <th>19</th>\n",
       "      <th>27</th>\n",
       "      <th>41</th>\n",
       "      <th>42</th>\n",
       "      <th>...</th>\n",
       "      <th>32197</th>\n",
       "      <th>32198</th>\n",
       "      <th>32199</th>\n",
       "      <th>32200</th>\n",
       "      <th>32201</th>\n",
       "      <th>32203</th>\n",
       "      <th>32204</th>\n",
       "      <th>32205</th>\n",
       "      <th>32207</th>\n",
       "      <th>32261</th>\n",
       "    </tr>\n",
       "  </thead>\n",
       "  <tbody>\n",
       "    <tr>\n",
       "      <th>batch1_samp1_chan1_AAACCTGAGACAAAGG-1</th>\n",
       "      <td>0.000000</td>\n",
       "      <td>0.0</td>\n",
       "      <td>0.0</td>\n",
       "      <td>0.0</td>\n",
       "      <td>0.0</td>\n",
       "      <td>0.666819</td>\n",
       "      <td>0.0</td>\n",
       "      <td>0.666819</td>\n",
       "      <td>0.0</td>\n",
       "      <td>0.0</td>\n",
       "      <td>...</td>\n",
       "      <td>0.0</td>\n",
       "      <td>0.666819</td>\n",
       "      <td>0.0</td>\n",
       "      <td>0.0</td>\n",
       "      <td>0.666819</td>\n",
       "      <td>0.0</td>\n",
       "      <td>0.0</td>\n",
       "      <td>0.0</td>\n",
       "      <td>0.0</td>\n",
       "      <td>0.0</td>\n",
       "    </tr>\n",
       "    <tr>\n",
       "      <th>batch1_samp1_chan1_AAACCTGAGGCCGAAT-1</th>\n",
       "      <td>0.730666</td>\n",
       "      <td>0.0</td>\n",
       "      <td>0.0</td>\n",
       "      <td>0.0</td>\n",
       "      <td>0.0</td>\n",
       "      <td>0.000000</td>\n",
       "      <td>0.0</td>\n",
       "      <td>1.148331</td>\n",
       "      <td>0.0</td>\n",
       "      <td>0.0</td>\n",
       "      <td>...</td>\n",
       "      <td>0.0</td>\n",
       "      <td>0.730666</td>\n",
       "      <td>0.0</td>\n",
       "      <td>0.0</td>\n",
       "      <td>0.000000</td>\n",
       "      <td>0.0</td>\n",
       "      <td>0.0</td>\n",
       "      <td>0.0</td>\n",
       "      <td>0.0</td>\n",
       "      <td>0.0</td>\n",
       "    </tr>\n",
       "  </tbody>\n",
       "</table>\n",
       "<p>2 rows × 5000 columns</p>\n",
       "</div>"
      ],
      "text/plain": [
       "                                              4    5    7   11   14        18  \\\n",
       "batch1_samp1_chan1_AAACCTGAGACAAAGG-1  0.000000  0.0  0.0  0.0  0.0  0.666819   \n",
       "batch1_samp1_chan1_AAACCTGAGGCCGAAT-1  0.730666  0.0  0.0  0.0  0.0  0.000000   \n",
       "\n",
       "                                        19        27   41   42  ...  32197  \\\n",
       "batch1_samp1_chan1_AAACCTGAGACAAAGG-1  0.0  0.666819  0.0  0.0  ...    0.0   \n",
       "batch1_samp1_chan1_AAACCTGAGGCCGAAT-1  0.0  1.148331  0.0  0.0  ...    0.0   \n",
       "\n",
       "                                          32198  32199  32200     32201  \\\n",
       "batch1_samp1_chan1_AAACCTGAGACAAAGG-1  0.666819    0.0    0.0  0.666819   \n",
       "batch1_samp1_chan1_AAACCTGAGGCCGAAT-1  0.730666    0.0    0.0  0.000000   \n",
       "\n",
       "                                       32203  32204  32205  32207  32261  \n",
       "batch1_samp1_chan1_AAACCTGAGACAAAGG-1    0.0    0.0    0.0    0.0    0.0  \n",
       "batch1_samp1_chan1_AAACCTGAGGCCGAAT-1    0.0    0.0    0.0    0.0    0.0  \n",
       "\n",
       "[2 rows x 5000 columns]"
      ]
     },
     "execution_count": 42,
     "metadata": {},
     "output_type": "execute_result"
    }
   ],
   "source": [
    "gears_model.adata.to_df().head(2)"
   ]
  },
  {
   "cell_type": "code",
   "execution_count": 43,
   "id": "1ec03747-f86e-4dc5-8d52-540dc0f0b431",
   "metadata": {},
   "outputs": [],
   "source": [
    "adata_sim.write(\"simulated_adata.h5ad\")"
   ]
  }
 ],
 "metadata": {
  "kernelspec": {
   "display_name": "Python 3 (ipykernel)",
   "language": "python",
   "name": "python3"
  },
  "language_info": {
   "codemirror_mode": {
    "name": "ipython",
    "version": 3
   },
   "file_extension": ".py",
   "mimetype": "text/x-python",
   "name": "python",
   "nbconvert_exporter": "python",
   "pygments_lexer": "ipython3",
   "version": "3.12.11"
  }
 },
 "nbformat": 4,
 "nbformat_minor": 5
}
