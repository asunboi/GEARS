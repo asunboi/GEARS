{
 "cells": [
  {
   "cell_type": "markdown",
   "metadata": {},
   "source": [
    "## This notebook runs inference on a GEARS model trained on Norman\n",
    "\n",
    "- Download trained GEARS model and Dataloader from Dataverse\n",
    "- Model is trained on Norman et al. 2019 (Science) dataset\n",
    "- Example below showing how to make perturbation outcome prediction and GI prediction"
   ]
  },
  {
   "cell_type": "code",
   "execution_count": 1,
   "metadata": {},
   "outputs": [],
   "source": [
    "import sys\n",
    "sys.path.append('../')\n",
    "\n",
    "from gears import PertData, GEARS\n",
    "from gears.utils import dataverse_download\n",
    "from zipfile import ZipFile "
   ]
  },
  {
   "cell_type": "markdown",
   "metadata": {},
   "source": [
    "### Download saved model and dataloader"
   ]
  },
  {
   "cell_type": "code",
   "execution_count": 2,
   "metadata": {},
   "outputs": [
    {
     "name": "stderr",
     "output_type": "stream",
     "text": [
      "Downloading...\n",
      "100%|█████████████████████████████████████| 1.10G/1.10G [01:18<00:00, 13.9MiB/s]\n"
     ]
    }
   ],
   "source": [
    "## Download dataloader from dataverse\n",
    "dataverse_download('https://dataverse.harvard.edu/api/access/datafile/6979957', 'norman_umi_go.tar.gz')\n",
    "\n",
    "## Extract and set up dataloader directory\n",
    "import tarfile\n",
    "with tarfile.open('norman_umi_go.tar.gz', 'r:gz') as tar:\n",
    "    tar.extractall()"
   ]
  },
  {
   "cell_type": "code",
   "execution_count": 3,
   "metadata": {},
   "outputs": [
    {
     "name": "stderr",
     "output_type": "stream",
     "text": [
      "Downloading...\n",
      "100%|█████████████████████████████████████| 8.50M/8.50M [00:01<00:00, 6.60MiB/s]\n"
     ]
    }
   ],
   "source": [
    "## Download model from dataverse\n",
    "dataverse_download('https://dataverse.harvard.edu/api/access/datafile/10457098', 'model.zip')\n",
    "\n",
    "## Extract and set up model directory\n",
    "with ZipFile(('model.zip'), 'r') as zip:\n",
    "    zip.extractall(path = './')"
   ]
  },
  {
   "cell_type": "markdown",
   "metadata": {},
   "source": [
    "### Load model and dataloader"
   ]
  },
  {
   "cell_type": "code",
   "execution_count": 4,
   "metadata": {},
   "outputs": [
    {
     "name": "stderr",
     "output_type": "stream",
     "text": [
      "Downloading...\n",
      "100%|█████████████████████████████████████| 9.46M/9.46M [00:01<00:00, 8.81MiB/s]\n",
      "Downloading...\n",
      "100%|███████████████████████████████████████| 559k/559k [00:00<00:00, 2.05MiB/s]\n",
      "These perturbations are not in the GO graph and their perturbation can thus not be predicted\n",
      "['RHOXF2BB+ctrl' 'LYL1+IER5L' 'ctrl+IER5L' 'KIAA1804+ctrl' 'IER5L+ctrl'\n",
      " 'RHOXF2BB+ZBTB25' 'RHOXF2BB+SET']\n",
      "Local copy of pyg dataset is detected. Loading...\n",
      "Done!\n",
      "Creating new splits....\n",
      "Saving new splits at ./norman_umi_go/splits/norman_umi_go_no_test_1_0.75.pkl\n",
      "Done!\n",
      "Creating dataloaders....\n",
      "Done!\n"
     ]
    }
   ],
   "source": [
    "data_path = './'\n",
    "data_name = 'norman_umi_go'\n",
    "model_name = 'gears_misc_umi_no_test'\n",
    "\n",
    "pert_data = PertData(data_path)\n",
    "pert_data.load(data_path = data_path + data_name)\n",
    "pert_data.prepare_split(split = 'no_test', seed = 1)\n",
    "pert_data.get_dataloader(batch_size = 32, test_batch_size = 128)\n",
    "\n",
    "gears_model = GEARS(pert_data, device = 'cuda:5', \n",
    "                        weight_bias_track = False, \n",
    "                        proj_name = 'gears', \n",
    "                        exp_name = model_name)\n",
    "gears_model.load_pretrained('./model_ckpt')"
   ]
  },
  {
   "cell_type": "code",
   "execution_count": 5,
   "metadata": {},
   "outputs": [],
   "source": [
    "gears_model = GEARS(pert_data, device = 'cuda:5', \n",
    "                        weight_bias_track = False, \n",
    "                        proj_name = 'gears', \n",
    "                        exp_name = model_name)\n",
    "gears_model.load_pretrained('./model_ckpt')"
   ]
  },
  {
   "cell_type": "markdown",
   "metadata": {},
   "source": [
    "### Make transcriptional outcome predictions"
   ]
  },
  {
   "cell_type": "code",
   "execution_count": 6,
   "metadata": {},
   "outputs": [
    {
     "data": {
      "text/plain": [
       "{'CNN1_CBL': array([3.9031005e-03, 4.6599126e-01, 9.3744494e-02, ..., 3.5035353e+00,\n",
       "        1.6265536e-08, 3.7898731e-01], dtype=float32)}"
      ]
     },
     "execution_count": 6,
     "metadata": {},
     "output_type": "execute_result"
    }
   ],
   "source": [
    "gears_model.predict([['CNN1', 'CBL']])"
   ]
  },
  {
   "cell_type": "markdown",
   "metadata": {},
   "source": [
    "### Make GI outcome prediction"
   ]
  },
  {
   "cell_type": "code",
   "execution_count": null,
   "metadata": {},
   "outputs": [
    {
     "name": "stderr",
     "output_type": "stream",
     "text": [
      "Found local copy...\n"
     ]
    },
    {
     "data": {
      "text/plain": [
       "{'ts': TheilSenRegressor(fit_intercept=False, max_iter=1000,\n",
       "                   max_subpopulation=100000.0, random_state=1000),\n",
       " 'c1': 0.7503451149637692,\n",
       " 'c2': 1.0240665805483913,\n",
       " 'mag': 1.2695393467498621,\n",
       " 'dcor': 0.8333100160359697,\n",
       " 'dcor_singles': 0.743836659719548,\n",
       " 'dcor_first': 0.774246309241828,\n",
       " 'dcor_second': 0.7954046018165959,\n",
       " 'corr_fit': 0.9218557491921747,\n",
       " 'dominance': 0.13506713411872476,\n",
       " 'eq_contr': 0.9733993334631894}"
      ]
     },
     "execution_count": 9,
     "metadata": {},
     "output_type": "execute_result"
    }
   ],
   "source": [
    "## If reproducing results from paper, you can use the same gene set, \n",
    "## although the function works even if GI_genes_file is set to None\n",
    "\n",
    "dataverse_download('https://dataverse.harvard.edu/api/access/datafile/6979958', \n",
    "                   'genes_with_hi_mean.npy')\n",
    "\n",
    "gears_model.GI_predict(['CNN1', 'CBL'], GI_genes_file='./genes_with_hi_mean.npy')"
   ]
  }
 ],
 "metadata": {
  "kernelspec": {
   "display_name": "uce",
   "language": "python",
   "name": "uce"
  },
  "language_info": {
   "codemirror_mode": {
    "name": "ipython",
    "version": 3
   },
   "file_extension": ".py",
   "mimetype": "text/x-python",
   "name": "python",
   "nbconvert_exporter": "python",
   "pygments_lexer": "ipython3",
   "version": "3.10.12"
  }
 },
 "nbformat": 4,
 "nbformat_minor": 4
}
