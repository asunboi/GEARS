{
 "cells": [
  {
   "cell_type": "code",
   "execution_count": 2,
   "id": "47978f71",
   "metadata": {},
   "outputs": [
    {
     "name": "stdout",
     "output_type": "stream",
     "text": [
      "/gpfs/group/jin/asun/get/GEARS/demo\n"
     ]
    },
    {
     "name": "stderr",
     "output_type": "stream",
     "text": [
      "Found local copy...\n",
      "Found local copy...\n",
      "These perturbations are not in the GO graph and their perturbation can thus not be predicted\n",
      "['TRIO+ctrl' 'DAB1+ctrl' 'CX3CL1+ctrl']\n",
      "Local copy of pyg dataset is detected. Loading...\n",
      "Done!\n",
      "Local copy of split is detected. Loading...\n",
      "Done!\n",
      "Creating dataloaders....\n",
      "Done!\n"
     ]
    },
    {
     "name": "stdout",
     "output_type": "stream",
     "text": [
      "here1\n"
     ]
    },
    {
     "name": "stderr",
     "output_type": "stream",
     "text": [
      "\u001b[34m\u001b[1mwandb\u001b[0m: W&B API key is configured. Use \u001b[1m`wandb login --relogin`\u001b[0m to force relogin\n"
     ]
    },
    {
     "data": {
      "text/html": [
       "creating run (0.0s)"
      ],
      "text/plain": [
       "<IPython.core.display.HTML object>"
      ]
     },
     "metadata": {},
     "output_type": "display_data"
    },
    {
     "data": {
      "text/html": [
       "Tracking run with wandb version 0.21.0"
      ],
      "text/plain": [
       "<IPython.core.display.HTML object>"
      ]
     },
     "metadata": {},
     "output_type": "display_data"
    },
    {
     "data": {
      "text/html": [
       "Run data is saved locally in <code>/gpfs/group/jin/asun/get/GEARS/demo/wandb/run-20250714_011034-rq7iujai</code>"
      ],
      "text/plain": [
       "<IPython.core.display.HTML object>"
      ]
     },
     "metadata": {},
     "output_type": "display_data"
    },
    {
     "data": {
      "text/html": [
       "Syncing run <strong><a href='https://wandb.ai/asunboi-scripps-research/gears/runs/rq7iujai' target=\"_blank\">boli_uncertain</a></strong> to <a href='https://wandb.ai/asunboi-scripps-research/gears' target=\"_blank\">Weights & Biases</a> (<a href='https://wandb.me/developer-guide' target=\"_blank\">docs</a>)<br>"
      ],
      "text/plain": [
       "<IPython.core.display.HTML object>"
      ]
     },
     "metadata": {},
     "output_type": "display_data"
    },
    {
     "data": {
      "text/html": [
       " View project at <a href='https://wandb.ai/asunboi-scripps-research/gears' target=\"_blank\">https://wandb.ai/asunboi-scripps-research/gears</a>"
      ],
      "text/plain": [
       "<IPython.core.display.HTML object>"
      ]
     },
     "metadata": {},
     "output_type": "display_data"
    },
    {
     "data": {
      "text/html": [
       " View run at <a href='https://wandb.ai/asunboi-scripps-research/gears/runs/rq7iujai' target=\"_blank\">https://wandb.ai/asunboi-scripps-research/gears/runs/rq7iujai</a>"
      ],
      "text/plain": [
       "<IPython.core.display.HTML object>"
      ]
     },
     "metadata": {},
     "output_type": "display_data"
    },
    {
     "name": "stderr",
     "output_type": "stream",
     "text": [
      "Found local copy...\n",
      "Start Training...\n",
      "Epoch 1 Step 1 Train Loss: 1.7223\n",
      "Epoch 1 Step 51 Train Loss: 0.5845\n",
      "Epoch 1 Step 101 Train Loss: 0.6418\n",
      "Epoch 1 Step 151 Train Loss: 0.5924\n",
      "Epoch 1 Step 201 Train Loss: 0.5198\n",
      "Epoch 1 Step 251 Train Loss: 0.4784\n",
      "Epoch 1 Step 301 Train Loss: 0.5865\n",
      "Epoch 1 Step 351 Train Loss: 0.5926\n",
      "Epoch 1 Step 401 Train Loss: 0.6236\n",
      "Epoch 1 Step 451 Train Loss: 0.5001\n",
      "Epoch 1 Step 501 Train Loss: 0.5246\n",
      "Epoch 1 Step 551 Train Loss: 0.6100\n",
      "Epoch 1 Step 601 Train Loss: 0.4758\n",
      "Epoch 1: Train Overall MSE: 0.0021 Validation Overall MSE: 0.0012. \n",
      "Train Top 20 DE MSE: 0.0146 Validation Top 20 DE MSE: 0.0131. \n",
      "Epoch 2 Step 1 Train Loss: 0.4762\n",
      "Epoch 2 Step 51 Train Loss: 0.4993\n",
      "Epoch 2 Step 101 Train Loss: 0.5923\n",
      "Epoch 2 Step 151 Train Loss: 0.6383\n",
      "Epoch 2 Step 201 Train Loss: 0.5578\n",
      "Epoch 2 Step 251 Train Loss: 0.5375\n",
      "Epoch 2 Step 301 Train Loss: 0.4135\n",
      "Epoch 2 Step 351 Train Loss: 0.4576\n",
      "Epoch 2 Step 401 Train Loss: 0.5708\n",
      "Epoch 2 Step 451 Train Loss: 0.4965\n",
      "Epoch 2 Step 501 Train Loss: 0.4638\n",
      "Epoch 2 Step 551 Train Loss: 0.4852\n",
      "Epoch 2 Step 601 Train Loss: 0.5625\n",
      "Epoch 2: Train Overall MSE: 0.0007 Validation Overall MSE: 0.0006. \n",
      "Train Top 20 DE MSE: 0.0165 Validation Top 20 DE MSE: 0.0113. \n",
      "Epoch 3 Step 1 Train Loss: 0.4743\n",
      "Epoch 3 Step 51 Train Loss: 0.5828\n",
      "Epoch 3 Step 101 Train Loss: 0.4907\n",
      "Epoch 3 Step 151 Train Loss: 0.5411\n",
      "Epoch 3 Step 201 Train Loss: 0.4925\n",
      "Epoch 3 Step 251 Train Loss: 0.5709\n",
      "Epoch 3 Step 301 Train Loss: 0.5717\n",
      "Epoch 3 Step 351 Train Loss: 0.5598\n",
      "Epoch 3 Step 401 Train Loss: 0.4956\n",
      "Epoch 3 Step 451 Train Loss: 0.4802\n",
      "Epoch 3 Step 501 Train Loss: 0.5335\n",
      "Epoch 3 Step 551 Train Loss: 0.4696\n",
      "Epoch 3 Step 601 Train Loss: 0.4841\n",
      "Epoch 3: Train Overall MSE: 0.0006 Validation Overall MSE: 0.0006. \n",
      "Train Top 20 DE MSE: 0.0101 Validation Top 20 DE MSE: 0.0124. \n",
      "Epoch 4 Step 1 Train Loss: 0.5592\n",
      "Epoch 4 Step 51 Train Loss: 0.4429\n",
      "Epoch 4 Step 101 Train Loss: 0.4277\n",
      "Epoch 4 Step 151 Train Loss: 0.5432\n",
      "Epoch 4 Step 201 Train Loss: 0.5544\n",
      "Epoch 4 Step 251 Train Loss: 0.5229\n",
      "Epoch 4 Step 301 Train Loss: 0.5539\n",
      "Epoch 4 Step 351 Train Loss: 0.5664\n",
      "Epoch 4 Step 401 Train Loss: 0.4862\n",
      "Epoch 4 Step 451 Train Loss: 0.5185\n",
      "Epoch 4 Step 501 Train Loss: 0.4603\n",
      "Epoch 4 Step 551 Train Loss: 0.5655\n",
      "Epoch 4 Step 601 Train Loss: 0.5489\n",
      "Epoch 4: Train Overall MSE: 0.0004 Validation Overall MSE: 0.0004. \n",
      "Train Top 20 DE MSE: 0.0049 Validation Top 20 DE MSE: 0.0106. \n",
      "Epoch 5 Step 1 Train Loss: 0.4506\n",
      "Epoch 5 Step 51 Train Loss: 0.4827\n",
      "Epoch 5 Step 101 Train Loss: 0.5444\n",
      "Epoch 5 Step 151 Train Loss: 0.4357\n",
      "Epoch 5 Step 201 Train Loss: 0.5629\n",
      "Epoch 5 Step 251 Train Loss: 0.5641\n",
      "Epoch 5 Step 301 Train Loss: 0.4590\n",
      "Epoch 5 Step 351 Train Loss: 0.5208\n",
      "Epoch 5 Step 401 Train Loss: 0.5703\n",
      "Epoch 5 Step 451 Train Loss: 0.5349\n",
      "Epoch 5 Step 501 Train Loss: 0.4881\n",
      "Epoch 5 Step 551 Train Loss: 0.6211\n",
      "Epoch 5 Step 601 Train Loss: 0.4805\n",
      "Epoch 5: Train Overall MSE: 0.0003 Validation Overall MSE: 0.0004. \n",
      "Train Top 20 DE MSE: 0.0068 Validation Top 20 DE MSE: 0.0106. \n",
      "Epoch 6 Step 1 Train Loss: 0.6570\n",
      "Epoch 6 Step 51 Train Loss: 0.4735\n",
      "Epoch 6 Step 101 Train Loss: 0.5149\n",
      "Epoch 6 Step 151 Train Loss: 0.5373\n",
      "Epoch 6 Step 201 Train Loss: 0.5058\n",
      "Epoch 6 Step 251 Train Loss: 0.5338\n",
      "Epoch 6 Step 301 Train Loss: 0.5630\n",
      "Epoch 6 Step 351 Train Loss: 0.3849\n",
      "Epoch 6 Step 401 Train Loss: 0.5140\n",
      "Epoch 6 Step 451 Train Loss: 0.4896\n",
      "Epoch 6 Step 501 Train Loss: 0.5460\n",
      "Epoch 6 Step 551 Train Loss: 0.4783\n",
      "Epoch 6 Step 601 Train Loss: 0.6315\n",
      "Epoch 6: Train Overall MSE: 0.0003 Validation Overall MSE: 0.0003. \n",
      "Train Top 20 DE MSE: 0.0060 Validation Top 20 DE MSE: 0.0100. \n",
      "Epoch 7 Step 1 Train Loss: 0.4663\n",
      "Epoch 7 Step 51 Train Loss: 0.5905\n",
      "Epoch 7 Step 101 Train Loss: 0.5703\n",
      "Epoch 7 Step 151 Train Loss: 0.4985\n",
      "Epoch 7 Step 201 Train Loss: 0.4856\n",
      "Epoch 7 Step 251 Train Loss: 0.5657\n",
      "Epoch 7 Step 301 Train Loss: 0.4885\n",
      "Epoch 7 Step 351 Train Loss: 0.4515\n",
      "Epoch 7 Step 401 Train Loss: 0.5835\n",
      "Epoch 7 Step 451 Train Loss: 0.5328\n",
      "Epoch 7 Step 501 Train Loss: 0.5786\n",
      "Epoch 7 Step 551 Train Loss: 0.4952\n",
      "Epoch 7 Step 601 Train Loss: 0.4704\n",
      "Epoch 7: Train Overall MSE: 0.0003 Validation Overall MSE: 0.0004. \n",
      "Train Top 20 DE MSE: 0.0053 Validation Top 20 DE MSE: 0.0118. \n",
      "Epoch 8 Step 1 Train Loss: 0.6022\n",
      "Epoch 8 Step 51 Train Loss: 0.4435\n",
      "Epoch 8 Step 101 Train Loss: 0.5767\n",
      "Epoch 8 Step 151 Train Loss: 0.5457\n",
      "Epoch 8 Step 201 Train Loss: 0.4777\n",
      "Epoch 8 Step 251 Train Loss: 0.4990\n",
      "Epoch 8 Step 301 Train Loss: 0.4445\n",
      "Epoch 8 Step 351 Train Loss: 0.5140\n",
      "Epoch 8 Step 401 Train Loss: 0.4539\n",
      "Epoch 8 Step 451 Train Loss: 0.5941\n",
      "Epoch 8 Step 501 Train Loss: 0.5341\n",
      "Epoch 8 Step 551 Train Loss: 0.4686\n",
      "Epoch 8 Step 601 Train Loss: 0.5144\n",
      "Epoch 8: Train Overall MSE: 0.0003 Validation Overall MSE: 0.0004. \n",
      "Train Top 20 DE MSE: 0.0050 Validation Top 20 DE MSE: 0.0113. \n",
      "Epoch 9 Step 1 Train Loss: 0.5570\n",
      "Epoch 9 Step 51 Train Loss: 0.5153\n",
      "Epoch 9 Step 101 Train Loss: 0.5429\n",
      "Epoch 9 Step 151 Train Loss: 0.6096\n",
      "Epoch 9 Step 201 Train Loss: 0.4827\n",
      "Epoch 9 Step 251 Train Loss: 0.5601\n",
      "Epoch 9 Step 301 Train Loss: 0.4634\n",
      "Epoch 9 Step 351 Train Loss: 0.4510\n",
      "Epoch 9 Step 401 Train Loss: 0.6038\n",
      "Epoch 9 Step 451 Train Loss: 0.4558\n",
      "Epoch 9 Step 501 Train Loss: 0.5043\n",
      "Epoch 9 Step 551 Train Loss: 0.4518\n",
      "Epoch 9 Step 601 Train Loss: 0.5202\n",
      "Epoch 9: Train Overall MSE: 0.0003 Validation Overall MSE: 0.0004. \n",
      "Train Top 20 DE MSE: 0.0049 Validation Top 20 DE MSE: 0.0115. \n",
      "Epoch 10 Step 1 Train Loss: 0.6216\n",
      "Epoch 10 Step 51 Train Loss: 0.4607\n",
      "Epoch 10 Step 101 Train Loss: 0.5471\n",
      "Epoch 10 Step 151 Train Loss: 0.5235\n",
      "Epoch 10 Step 201 Train Loss: 0.7197\n",
      "Epoch 10 Step 251 Train Loss: 0.5219\n",
      "Epoch 10 Step 301 Train Loss: 0.6504\n",
      "Epoch 10 Step 351 Train Loss: 0.5450\n",
      "Epoch 10 Step 401 Train Loss: 0.4774\n",
      "Epoch 10 Step 451 Train Loss: 0.4952\n",
      "Epoch 10 Step 501 Train Loss: 0.6868\n",
      "Epoch 10 Step 551 Train Loss: 0.5591\n",
      "Epoch 10 Step 601 Train Loss: 0.5091\n",
      "Epoch 10: Train Overall MSE: 0.0003 Validation Overall MSE: 0.0004. \n",
      "Train Top 20 DE MSE: 0.0052 Validation Top 20 DE MSE: 0.0115. \n",
      "Epoch 11 Step 1 Train Loss: 0.5555\n",
      "Epoch 11 Step 51 Train Loss: 0.5658\n",
      "Epoch 11 Step 101 Train Loss: 0.5440\n",
      "Epoch 11 Step 151 Train Loss: 0.4855\n",
      "Epoch 11 Step 201 Train Loss: 0.5063\n",
      "Epoch 11 Step 251 Train Loss: 0.5105\n",
      "Epoch 11 Step 301 Train Loss: 0.6125\n",
      "Epoch 11 Step 351 Train Loss: 0.5229\n",
      "Epoch 11 Step 401 Train Loss: 0.5011\n",
      "Epoch 11 Step 451 Train Loss: 0.5082\n",
      "Epoch 11 Step 501 Train Loss: 0.4734\n",
      "Epoch 11 Step 551 Train Loss: 0.5407\n",
      "Epoch 11 Step 601 Train Loss: 0.5736\n",
      "Epoch 11: Train Overall MSE: 0.0003 Validation Overall MSE: 0.0004. \n",
      "Train Top 20 DE MSE: 0.0045 Validation Top 20 DE MSE: 0.0112. \n",
      "Epoch 12 Step 1 Train Loss: 0.5551\n",
      "Epoch 12 Step 51 Train Loss: 0.4806\n",
      "Epoch 12 Step 101 Train Loss: 0.5125\n",
      "Epoch 12 Step 151 Train Loss: 0.5701\n",
      "Epoch 12 Step 201 Train Loss: 0.5686\n",
      "Epoch 12 Step 251 Train Loss: 0.4299\n",
      "Epoch 12 Step 301 Train Loss: 0.5231\n",
      "Epoch 12 Step 351 Train Loss: 0.4922\n",
      "Epoch 12 Step 401 Train Loss: 0.5334\n",
      "Epoch 12 Step 451 Train Loss: 0.5101\n",
      "Epoch 12 Step 501 Train Loss: 0.5623\n",
      "Epoch 12 Step 551 Train Loss: 0.5019\n",
      "Epoch 12 Step 601 Train Loss: 0.4979\n",
      "Epoch 12: Train Overall MSE: 0.0003 Validation Overall MSE: 0.0004. \n",
      "Train Top 20 DE MSE: 0.0043 Validation Top 20 DE MSE: 0.0110. \n",
      "Epoch 13 Step 1 Train Loss: 0.4657\n",
      "Epoch 13 Step 51 Train Loss: 0.5400\n",
      "Epoch 13 Step 101 Train Loss: 0.4815\n",
      "Epoch 13 Step 151 Train Loss: 0.5882\n",
      "Epoch 13 Step 201 Train Loss: 0.5601\n",
      "Epoch 13 Step 251 Train Loss: 0.5645\n",
      "Epoch 13 Step 301 Train Loss: 0.4948\n",
      "Epoch 13 Step 351 Train Loss: 0.5399\n",
      "Epoch 13 Step 401 Train Loss: 0.5250\n",
      "Epoch 13 Step 451 Train Loss: 0.4822\n",
      "Epoch 13 Step 501 Train Loss: 0.5357\n",
      "Epoch 13 Step 551 Train Loss: 0.4924\n",
      "Epoch 13 Step 601 Train Loss: 0.5414\n",
      "Epoch 13: Train Overall MSE: 0.0003 Validation Overall MSE: 0.0004. \n",
      "Train Top 20 DE MSE: 0.0047 Validation Top 20 DE MSE: 0.0111. \n",
      "Epoch 14 Step 1 Train Loss: 0.4799\n",
      "Epoch 14 Step 51 Train Loss: 0.5371\n",
      "Epoch 14 Step 101 Train Loss: 0.4646\n",
      "Epoch 14 Step 151 Train Loss: 0.5418\n",
      "Epoch 14 Step 201 Train Loss: 0.4847\n",
      "Epoch 14 Step 251 Train Loss: 0.5240\n",
      "Epoch 14 Step 301 Train Loss: 0.4440\n",
      "Epoch 14 Step 351 Train Loss: 0.6679\n",
      "Epoch 14 Step 401 Train Loss: 0.5215\n",
      "Epoch 14 Step 451 Train Loss: 0.4313\n",
      "Epoch 14 Step 501 Train Loss: 0.5841\n",
      "Epoch 14 Step 551 Train Loss: 0.5547\n",
      "Epoch 14 Step 601 Train Loss: 0.4675\n",
      "Epoch 14: Train Overall MSE: 0.0004 Validation Overall MSE: 0.0004. \n",
      "Train Top 20 DE MSE: 0.0052 Validation Top 20 DE MSE: 0.0118. \n",
      "Epoch 15 Step 1 Train Loss: 0.5327\n",
      "Epoch 15 Step 51 Train Loss: 0.4903\n",
      "Epoch 15 Step 101 Train Loss: 0.4589\n",
      "Epoch 15 Step 151 Train Loss: 0.5083\n",
      "Epoch 15 Step 201 Train Loss: 0.5919\n",
      "Epoch 15 Step 251 Train Loss: 0.5893\n",
      "Epoch 15 Step 301 Train Loss: 0.5347\n",
      "Epoch 15 Step 351 Train Loss: 0.5019\n",
      "Epoch 15 Step 401 Train Loss: 0.5016\n",
      "Epoch 15 Step 451 Train Loss: 0.5403\n",
      "Epoch 15 Step 501 Train Loss: 0.4957\n",
      "Epoch 15 Step 551 Train Loss: 0.5709\n",
      "Epoch 15 Step 601 Train Loss: 0.5737\n",
      "Epoch 15: Train Overall MSE: 0.0003 Validation Overall MSE: 0.0004. \n",
      "Train Top 20 DE MSE: 0.0056 Validation Top 20 DE MSE: 0.0114. \n",
      "Epoch 16 Step 1 Train Loss: 0.4775\n",
      "Epoch 16 Step 51 Train Loss: 0.5802\n",
      "Epoch 16 Step 101 Train Loss: 0.5598\n",
      "Epoch 16 Step 151 Train Loss: 0.5507\n",
      "Epoch 16 Step 201 Train Loss: 0.4316\n",
      "Epoch 16 Step 251 Train Loss: 0.4085\n",
      "Epoch 16 Step 301 Train Loss: 0.5050\n",
      "Epoch 16 Step 351 Train Loss: 0.5497\n",
      "Epoch 16 Step 401 Train Loss: 0.5379\n",
      "Epoch 16 Step 451 Train Loss: 0.4917\n",
      "Epoch 16 Step 501 Train Loss: 0.5004\n",
      "Epoch 16 Step 551 Train Loss: 0.5625\n",
      "Epoch 16 Step 601 Train Loss: 0.4605\n",
      "Epoch 16: Train Overall MSE: 0.0003 Validation Overall MSE: 0.0005. \n",
      "Train Top 20 DE MSE: 0.0055 Validation Top 20 DE MSE: 0.0123. \n",
      "Epoch 17 Step 1 Train Loss: 0.6375\n",
      "Epoch 17 Step 51 Train Loss: 0.4844\n",
      "Epoch 17 Step 101 Train Loss: 0.4796\n",
      "Epoch 17 Step 151 Train Loss: 0.4949\n",
      "Epoch 17 Step 201 Train Loss: 0.5691\n",
      "Epoch 17 Step 251 Train Loss: 0.5018\n",
      "Epoch 17 Step 301 Train Loss: 0.5144\n",
      "Epoch 17 Step 351 Train Loss: 0.5865\n",
      "Epoch 17 Step 401 Train Loss: 0.5426\n",
      "Epoch 17 Step 451 Train Loss: 0.4342\n",
      "Epoch 17 Step 501 Train Loss: 0.5216\n",
      "Epoch 17 Step 551 Train Loss: 0.5050\n",
      "Epoch 17 Step 601 Train Loss: 0.5383\n",
      "Epoch 17: Train Overall MSE: 0.0003 Validation Overall MSE: 0.0004. \n",
      "Train Top 20 DE MSE: 0.0047 Validation Top 20 DE MSE: 0.0111. \n",
      "Epoch 18 Step 1 Train Loss: 0.4940\n",
      "Epoch 18 Step 51 Train Loss: 0.4418\n",
      "Epoch 18 Step 101 Train Loss: 0.4696\n",
      "Epoch 18 Step 151 Train Loss: 0.5602\n",
      "Epoch 18 Step 201 Train Loss: 0.5419\n",
      "Epoch 18 Step 251 Train Loss: 0.5768\n",
      "Epoch 18 Step 301 Train Loss: 0.5097\n",
      "Epoch 18 Step 351 Train Loss: 0.5876\n",
      "Epoch 18 Step 401 Train Loss: 0.5858\n",
      "Epoch 18 Step 451 Train Loss: 0.4862\n",
      "Epoch 18 Step 501 Train Loss: 0.5918\n",
      "Epoch 18 Step 551 Train Loss: 0.5635\n",
      "Epoch 18 Step 601 Train Loss: 0.4843\n",
      "Epoch 18: Train Overall MSE: 0.0003 Validation Overall MSE: 0.0004. \n",
      "Train Top 20 DE MSE: 0.0041 Validation Top 20 DE MSE: 0.0108. \n",
      "Epoch 19 Step 1 Train Loss: 0.5004\n",
      "Epoch 19 Step 51 Train Loss: 0.5293\n",
      "Epoch 19 Step 101 Train Loss: 0.5155\n",
      "Epoch 19 Step 151 Train Loss: 0.5337\n",
      "Epoch 19 Step 201 Train Loss: 0.5527\n",
      "Epoch 19 Step 251 Train Loss: 0.6156\n",
      "Epoch 19 Step 301 Train Loss: 0.4900\n",
      "Epoch 19 Step 351 Train Loss: 0.5584\n",
      "Epoch 19 Step 401 Train Loss: 0.5487\n",
      "Epoch 19 Step 451 Train Loss: 0.5552\n",
      "Epoch 19 Step 501 Train Loss: 0.8887\n",
      "Epoch 19 Step 551 Train Loss: 0.5886\n",
      "Epoch 19 Step 601 Train Loss: 0.4726\n",
      "Epoch 19: Train Overall MSE: 0.0003 Validation Overall MSE: 0.0004. \n",
      "Train Top 20 DE MSE: 0.0044 Validation Top 20 DE MSE: 0.0109. \n",
      "Epoch 20 Step 1 Train Loss: 0.5015\n",
      "Epoch 20 Step 51 Train Loss: 0.5254\n",
      "Epoch 20 Step 101 Train Loss: 0.5172\n",
      "Epoch 20 Step 151 Train Loss: 0.5769\n",
      "Epoch 20 Step 201 Train Loss: 0.5642\n",
      "Epoch 20 Step 251 Train Loss: 0.5214\n",
      "Epoch 20 Step 301 Train Loss: 0.5394\n",
      "Epoch 20 Step 351 Train Loss: 0.5208\n",
      "Epoch 20 Step 401 Train Loss: 0.6043\n",
      "Epoch 20 Step 451 Train Loss: 0.6044\n",
      "Epoch 20 Step 501 Train Loss: 0.5049\n",
      "Epoch 20 Step 551 Train Loss: 0.4597\n",
      "Epoch 20 Step 601 Train Loss: 0.5432\n",
      "Epoch 20: Train Overall MSE: 0.0003 Validation Overall MSE: 0.0004. \n",
      "Train Top 20 DE MSE: 0.0048 Validation Top 20 DE MSE: 0.0114. \n",
      "Done!\n",
      "Start Testing...\n",
      "Best performing model: Test Top 20 DE MSE: 0.0154\n",
      "Done!\n"
     ]
    }
   ],
   "source": [
    "import os\n",
    "os.chdir(\"/gpfs/home/asun/jin_lab/get/GEARS/demo/\")\n",
    "print(os.getcwd())\n",
    "import sys\n",
    "sys.path.append(os.path.abspath('..'))\n",
    "\n",
    "import pandas as pd\n",
    "import numpy as np\n",
    "from scipy.stats import pearsonr\n",
    "\n",
    "from gears import PertData\n",
    "from gears.inference import evaluate, compute_metrics, deeper_analysis\n",
    "\n",
    "pert_data = PertData('./data')\n",
    "pert_data.load(data_path = './data/boli')\n",
    "pert_data.prepare_split(split = 'simulation_single', seed = 1)\n",
    "pert_data.get_dataloader(batch_size = 32, test_batch_size = 128)\n",
    "\n",
    "from gears import GEARS\n",
    "gears_model = GEARS(pert_data, device = 'cuda:3',\n",
    "                    weight_bias_track = True, \n",
    "                    proj_name = 'gears', \n",
    "                    exp_name = 'boli_uncertain')\n",
    "\n",
    "## train a uncertainty-aware model, specify uncertainty to True\n",
    "gears_model.model_initialize(uncertainty = True)\n",
    "gears_model.train(epochs = 20)\n",
    "gears_model.save_model('boli_unc')\n",
    "\n",
    "## load a pretrained uncertainty model\n",
    "#gears_model.load_pretrained('pertnet_unc')"
   ]
  },
  {
   "cell_type": "code",
   "execution_count": 3,
   "id": "8d90f492",
   "metadata": {},
   "outputs": [],
   "source": [
    "test_res = evaluate(gears_model.dataloader['test_loader'], gears_model.model, gears_model.config['uncertainty'], gears_model.device)\n",
    "test_metrics, test_pert_res = compute_metrics(test_res)\n",
    "out = deeper_analysis(gears_model.adata, test_res)"
   ]
  },
  {
   "cell_type": "code",
   "execution_count": 8,
   "id": "4fdc2a97-e42e-43c0-a814-7221a14efbcd",
   "metadata": {},
   "outputs": [
    {
     "data": {
      "text/plain": [
       "{'HERC1+ctrl': {'mse': 0.00033632587,\n",
       "  'pearson': 0.9978207358797686,\n",
       "  'mse_de': 0.00613614,\n",
       "  'pearson_de': 0.9984036956661839},\n",
       " 'SATB2+ctrl': {'mse': 0.00054565625,\n",
       "  'pearson': 0.9964640239172022,\n",
       "  'mse_de': 0.0259642,\n",
       "  'pearson_de': 0.9855048482568236}}"
      ]
     },
     "execution_count": 8,
     "metadata": {},
     "output_type": "execute_result"
    }
   ],
   "source": [
    "test_pert_res"
   ]
  },
  {
   "cell_type": "code",
   "execution_count": 4,
   "id": "17f09bba",
   "metadata": {},
   "outputs": [
    {
     "name": "stdout",
     "output_type": "stream",
     "text": [
      "PearsonRResult(statistic=-1.0, pvalue=1.0)\n"
     ]
    }
   ],
   "source": [
    "pert2unc = pd.DataFrame(tuple(zip(test_res['pert_cat'], np.mean(test_res['logvar'], axis = 1)))).groupby(0).agg(np.mean)\n",
    "pert2unc = dict(zip(pert2unc.index.values, pert2unc.values))\n",
    "\n",
    "metric = 'pearson_delta'\n",
    "stats_summary = [np.exp(-pert2unc[i][0]) for i in test_pert_res.keys() if metric in out[i]]\n",
    "metric_summary = [out[i][metric] for i in test_pert_res.keys() if metric in out[i]]\n",
    "print(pearsonr(stats_summary, metric_summary))"
   ]
  },
  {
   "cell_type": "code",
   "execution_count": 7,
   "id": "8759493d-c595-4765-b3cc-0282890321f4",
   "metadata": {},
   "outputs": [
    {
     "data": {
      "text/plain": [
       "[0.70449334, 0.6702517]"
      ]
     },
     "execution_count": 7,
     "metadata": {},
     "output_type": "execute_result"
    }
   ],
   "source": [
    "stats_summary"
   ]
  },
  {
   "cell_type": "code",
   "execution_count": null,
   "id": "1c69d246-1bf0-4851-858a-934b809050be",
   "metadata": {},
   "outputs": [],
   "source": []
  },
  {
   "cell_type": "code",
   "execution_count": 17,
   "id": "94a06727",
   "metadata": {},
   "outputs": [],
   "source": [
    "import matplotlib.pyplot as plt\n",
    "import seaborn as sns\n",
    "from matplotlib import font_manager\n",
    "\n",
    "sns.set(rc={'figure.figsize':(6,6)})\n",
    "sns.set_theme(style=\"ticks\", rc={\"axes.facecolor\": (0, 0, 0, 0)})\n",
    "pal = sns.color_palette(\"Set2\").as_hex()\n",
    "\n",
    "def plot(stats_summary, metric_summary):\n",
    "\n",
    "    ax = sns.regplot(x=np.array(stats_summary),\n",
    "                    y=np.array(metric_summary), \n",
    "                    color = pal[2],\n",
    "                     ci = None\n",
    "                    )\n",
    "\n",
    "    sns.despine()\n",
    "\n",
    "    plt.ylabel(\"Pearson Correlation with True Delta \\n Expression Across All Genes\",labelpad=10)\n",
    "    plt.xlabel(\"Predicted Uncertainty\",labelpad=10)\n",
    "    plt.tick_params(axis='x', which='major', pad=10)\n",
    "    plt.tick_params(axis='y', which='major', pad=5)\n",
    "    plt.savefig('uncertainty.pdf', bbox_inches='tight')\n",
    "    \n",
    "    plt.show()\n",
    "    \n",
    "    top = np.quantile(np.array(list(pert2unc.values())), 0.95)\n",
    "\n",
    "    m = 'pearson_delta'\n",
    "    ax = sns.distplot([i[m] for k, i in out.items() if (pert2unc[k][0] < top) and (m in i)], hist = False, color = \"black\")\n",
    "    ax = sns.distplot([i[m] for k, i in out.items() if (pert2unc[k][0] > top) and (m in i)], hist = False, color = \"Red\")\n",
    "\n",
    "    print('---- ' + m + '----')\n",
    "    total_mean = np.mean([i[m] for k, i in out.items() if (pert2unc[k][0] < top) and (m in i)])\n",
    "    after_filter_mean = np.mean([i[m] for k, i in out.items() if (pert2unc[k][0] > top) and (m in i)])\n",
    "    print('Total Mean: ' + str(total_mean))\n",
    "    print('After uncertainty filter Mean: ' + str(after_filter_mean))\n",
    "    print('Enrichment: ' + str((after_filter_mean - total_mean)/total_mean))\n",
    "\n",
    "    sns.despine()\n",
    "    ax.set_xlim((-0.24,1.24))\n",
    "    plt.xlabel(\"Pearson Correlation with True Delta \\n Expression Across All Genes\",labelpad=10)\n",
    "    plt.ylabel(\"Density of Perturbations\",labelpad=10)\n",
    "    plt.tick_params(axis='x', which='major', pad=10)\n",
    "    plt.tick_params(axis='y', which='major', pad=5)\n",
    "    plt.savefig('prioritize_uncertainty.pdf', bbox_inches='tight')\n",
    "    plt.show()\n"
   ]
  },
  {
   "cell_type": "code",
   "execution_count": 18,
   "id": "097d14de-acce-4d1a-8d2e-d7732fea4170",
   "metadata": {},
   "outputs": [
    {
     "data": {
      "text/plain": [
       "{'HERC1+ctrl': {'frac_correct_direction_all': 0.5068,\n",
       "  'frac_correct_direction_20': 0.55,\n",
       "  'frac_correct_direction_50': 0.6,\n",
       "  'frac_correct_direction_100': 0.58,\n",
       "  'frac_correct_direction_200': 0.595,\n",
       "  'frac_correct_direction_20_nonzero': 0.9,\n",
       "  'frac_in_range': 1.0,\n",
       "  'frac_in_range_45_55': 0.35,\n",
       "  'frac_in_range_40_60': 0.45,\n",
       "  'frac_in_range_25_75': 0.7,\n",
       "  'mean_sigma': 0.10778216,\n",
       "  'std_sigma': 0.053027775,\n",
       "  'frac_sigma_below_1': 1.0,\n",
       "  'frac_sigma_below_2': 1.0,\n",
       "  'pearson_delta': 0.18148090796616978,\n",
       "  'pearson_delta_de': 0.6460986530291848,\n",
       "  'fold_change_gap_all': 0.046149556,\n",
       "  'pearson_delta_top200_hvg': 0.2353064687727624,\n",
       "  'pearson_top200_hvg': 0.9971374042382877,\n",
       "  'mse_top200_hvg': 0.0034020084,\n",
       "  'pearson_delta_top20_de': 0.6460986530291848,\n",
       "  'pearson_top20_de': 0.9984036167275008,\n",
       "  'mse_top20_de': 0.006136141,\n",
       "  'pearson_delta_top200_de': 0.37180018626301603,\n",
       "  'pearson_top200_de': 0.9971628634492049,\n",
       "  'mse_top200_de': 0.0018642972,\n",
       "  'pearson_delta_top100_de': 0.4557186455531337,\n",
       "  'pearson_top100_de': 0.9975737445116692,\n",
       "  'mse_top100_de': 0.0026786653,\n",
       "  'pearson_delta_top50_de': 0.5149575445575465,\n",
       "  'pearson_top50_de': 0.9978058231681644,\n",
       "  'mse_top50_de': 0.004119645},\n",
       " 'SATB2+ctrl': {'frac_correct_direction_all': 0.5162,\n",
       "  'frac_correct_direction_20': 0.8,\n",
       "  'frac_correct_direction_50': 0.72,\n",
       "  'frac_correct_direction_100': 0.68,\n",
       "  'frac_correct_direction_200': 0.67,\n",
       "  'frac_correct_direction_20_nonzero': 0.9,\n",
       "  'frac_in_range': 1.0,\n",
       "  'frac_in_range_45_55': 0.25,\n",
       "  'frac_in_range_40_60': 0.6,\n",
       "  'frac_in_range_25_75': 0.95,\n",
       "  'mean_sigma': 0.19417654,\n",
       "  'std_sigma': 0.040787097,\n",
       "  'frac_sigma_below_1': 1.0,\n",
       "  'frac_sigma_below_2': 1.0,\n",
       "  'pearson_delta': 0.18653519253560225,\n",
       "  'pearson_delta_de': 0.28906321886825026,\n",
       "  'fold_change_gap_all': 0.06863457,\n",
       "  'pearson_delta_top200_hvg': 0.22171807237214125,\n",
       "  'pearson_top200_hvg': 0.9940141556658091,\n",
       "  'mse_top200_hvg': 0.007238712,\n",
       "  'pearson_delta_top20_de': 0.28906321886825026,\n",
       "  'pearson_top20_de': 0.9855048482568236,\n",
       "  'mse_top20_de': 0.025964197,\n",
       "  'pearson_delta_top200_de': 0.3537360022461371,\n",
       "  'pearson_top200_de': 0.9898867416883661,\n",
       "  'mse_top200_de': 0.006763656,\n",
       "  'pearson_delta_top100_de': 0.3717395360872615,\n",
       "  'pearson_top100_de': 0.9851135006895504,\n",
       "  'mse_top100_de': 0.010681059,\n",
       "  'pearson_delta_top50_de': 0.4159969671454746,\n",
       "  'pearson_top50_de': 0.9830566225855364,\n",
       "  'mse_top50_de': 0.01628289}}"
      ]
     },
     "execution_count": 18,
     "metadata": {},
     "output_type": "execute_result"
    }
   ],
   "source": [
    "out"
   ]
  },
  {
   "cell_type": "code",
   "execution_count": 15,
   "id": "716630a7-6671-4b68-a0d1-51b43b85a2db",
   "metadata": {},
   "outputs": [
    {
     "data": {
      "text/plain": [
       "{'HERC1+ctrl': array([0.35027638], dtype=float32),\n",
       " 'SATB2+ctrl': array([0.4001019], dtype=float32)}"
      ]
     },
     "execution_count": 15,
     "metadata": {},
     "output_type": "execute_result"
    }
   ],
   "source": [
    "pert2unc"
   ]
  },
  {
   "cell_type": "code",
   "execution_count": 19,
   "id": "d3d4eeb0",
   "metadata": {},
   "outputs": [
    {
     "data": {
      "image/png": "[encoded data removed]",
      "text/plain": [
       "<Figure size 600x600 with 1 Axes>"
      ]
     },
     "metadata": {},
     "output_type": "display_data"
    },
    {
     "name": "stdout",
     "output_type": "stream",
     "text": [
      "---- pearson_delta----\n",
      "Total Mean: 0.18148090796616978\n",
      "After uncertainty filter Mean: 0.18653519253560225\n",
      "Enrichment: 0.027850227476130134\n"
     ]
    },
    {
     "data": {
      "image/png": "[encoded data removed]",
      "text/plain": [
       "<Figure size 600x600 with 1 Axes>"
      ]
     },
     "metadata": {},
     "output_type": "display_data"
    }
   ],
   "source": [
    "plot(stats_summary, metric_summary)"
   ]
  },
  {
   "cell_type": "code",
   "execution_count": null,
   "id": "bd30b1d8",
   "metadata": {},
   "outputs": [],
   "source": []
  }
 ],
 "metadata": {
  "kernelspec": {
   "display_name": "Python 3 (ipykernel)",
   "language": "python",
   "name": "python3"
  },
  "language_info": {
   "codemirror_mode": {
    "name": "ipython",
    "version": 3
   },
   "file_extension": ".py",
   "mimetype": "text/x-python",
   "name": "python",
   "nbconvert_exporter": "python",
   "pygments_lexer": "ipython3",
   "version": "3.12.11"
  }
 },
 "nbformat": 4,
 "nbformat_minor": 5
}
