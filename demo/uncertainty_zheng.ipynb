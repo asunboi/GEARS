{
 "cells": [
  {
   "cell_type": "code",
   "execution_count": 3,
   "id": "47978f71",
   "metadata": {},
   "outputs": [
    {
     "name": "stderr",
     "output_type": "stream",
     "text": [
      "Found local copy...\n"
     ]
    },
    {
     "name": "stdout",
     "output_type": "stream",
     "text": [
      "/gpfs/group/jin/asun/get/GEARS/demo\n"
     ]
    },
    {
     "name": "stderr",
     "output_type": "stream",
     "text": [
      "Found local copy...\n",
      "These perturbations are not in the GO graph and their perturbation can thus not be predicted\n",
      "[]\n",
      "Local copy of pyg dataset is detected. Loading...\n",
      "Done!\n",
      "Local copy of split is detected. Loading...\n",
      "Done!\n",
      "Creating dataloaders....\n",
      "Done!\n"
     ]
    },
    {
     "name": "stdout",
     "output_type": "stream",
     "text": [
      "here1\n"
     ]
    },
    {
     "name": "stderr",
     "output_type": "stream",
     "text": [
      "\u001b[34m\u001b[1mwandb\u001b[0m: W&B API key is configured. Use \u001b[1m`wandb login --relogin`\u001b[0m to force relogin\n"
     ]
    },
    {
     "data": {
      "text/html": [
       "Waiting for wandb.init()..."
      ],
      "text/plain": [
       "<IPython.core.display.HTML object>"
      ]
     },
     "metadata": {},
     "output_type": "display_data"
    },
    {
     "data": {
      "text/html": [
       "Tracking run with wandb version 0.21.0"
      ],
      "text/plain": [
       "<IPython.core.display.HTML object>"
      ]
     },
     "metadata": {},
     "output_type": "display_data"
    },
    {
     "data": {
      "text/html": [
       "Run data is saved locally in <code>/gpfs/group/jin/asun/get/GEARS/demo/wandb/run-20250714_011034-5gst8ehl</code>"
      ],
      "text/plain": [
       "<IPython.core.display.HTML object>"
      ]
     },
     "metadata": {},
     "output_type": "display_data"
    },
    {
     "data": {
      "text/html": [
       "Syncing run <strong><a href='https://wandb.ai/asunboi-scripps-research/gears/runs/5gst8ehl' target=\"_blank\">zheng_uncertain</a></strong> to <a href='https://wandb.ai/asunboi-scripps-research/gears' target=\"_blank\">Weights & Biases</a> (<a href='https://wandb.me/developer-guide' target=\"_blank\">docs</a>)<br>"
      ],
      "text/plain": [
       "<IPython.core.display.HTML object>"
      ]
     },
     "metadata": {},
     "output_type": "display_data"
    },
    {
     "data": {
      "text/html": [
       " View project at <a href='https://wandb.ai/asunboi-scripps-research/gears' target=\"_blank\">https://wandb.ai/asunboi-scripps-research/gears</a>"
      ],
      "text/plain": [
       "<IPython.core.display.HTML object>"
      ]
     },
     "metadata": {},
     "output_type": "display_data"
    },
    {
     "data": {
      "text/html": [
       " View run at <a href='https://wandb.ai/asunboi-scripps-research/gears/runs/5gst8ehl' target=\"_blank\">https://wandb.ai/asunboi-scripps-research/gears/runs/5gst8ehl</a>"
      ],
      "text/plain": [
       "<IPython.core.display.HTML object>"
      ]
     },
     "metadata": {},
     "output_type": "display_data"
    },
    {
     "name": "stderr",
     "output_type": "stream",
     "text": [
      "Found local copy...\n",
      "Start Training...\n",
      "Epoch 1 Step 1 Train Loss: 1.5496\n",
      "Epoch 1 Step 51 Train Loss: 0.6890\n",
      "Epoch 1 Step 101 Train Loss: 0.6608\n",
      "Epoch 1 Step 151 Train Loss: 0.6344\n",
      "Epoch 1 Step 201 Train Loss: 0.5999\n",
      "Epoch 1: Train Overall MSE: 0.0021 Validation Overall MSE: 0.0023. \n",
      "Train Top 20 DE MSE: 0.0113 Validation Top 20 DE MSE: 0.0365. \n",
      "Epoch 2 Step 1 Train Loss: 0.5677\n",
      "Epoch 2 Step 51 Train Loss: 0.5830\n",
      "Epoch 2 Step 101 Train Loss: 0.5932\n",
      "Epoch 2 Step 151 Train Loss: 0.5712\n",
      "Epoch 2 Step 201 Train Loss: 0.6003\n",
      "Epoch 2: Train Overall MSE: 0.0025 Validation Overall MSE: 0.0020. \n",
      "Train Top 20 DE MSE: 0.0091 Validation Top 20 DE MSE: 0.0409. \n",
      "Epoch 3 Step 1 Train Loss: 0.5472\n",
      "Epoch 3 Step 51 Train Loss: 0.6344\n",
      "Epoch 3 Step 101 Train Loss: 0.5885\n",
      "Epoch 3 Step 151 Train Loss: 0.5000\n",
      "Epoch 3 Step 201 Train Loss: 0.5607\n",
      "Epoch 3: Train Overall MSE: 0.0016 Validation Overall MSE: 0.0016. \n",
      "Train Top 20 DE MSE: 0.0062 Validation Top 20 DE MSE: 0.0405. \n",
      "Epoch 4 Step 1 Train Loss: 0.5317\n",
      "Epoch 4 Step 51 Train Loss: 0.5978\n",
      "Epoch 4 Step 101 Train Loss: 0.5288\n",
      "Epoch 4 Step 151 Train Loss: 0.5414\n",
      "Epoch 4 Step 201 Train Loss: 0.5700\n",
      "Epoch 4: Train Overall MSE: 0.0012 Validation Overall MSE: 0.0013. \n",
      "Train Top 20 DE MSE: 0.0051 Validation Top 20 DE MSE: 0.0398. \n",
      "Epoch 5 Step 1 Train Loss: 0.5986\n",
      "Epoch 5 Step 51 Train Loss: 0.5395\n",
      "Epoch 5 Step 101 Train Loss: 0.6982\n",
      "Epoch 5 Step 151 Train Loss: 0.5995\n",
      "Epoch 5 Step 201 Train Loss: 0.5802\n",
      "Epoch 5: Train Overall MSE: 0.0012 Validation Overall MSE: 0.0013. \n",
      "Train Top 20 DE MSE: 0.0056 Validation Top 20 DE MSE: 0.0394. \n",
      "Epoch 6 Step 1 Train Loss: 0.6274\n",
      "Epoch 6 Step 51 Train Loss: 0.6665\n",
      "Epoch 6 Step 101 Train Loss: 0.5471\n",
      "Epoch 6 Step 151 Train Loss: 0.6129\n",
      "Epoch 6 Step 201 Train Loss: 0.5764\n",
      "Epoch 6: Train Overall MSE: 0.0013 Validation Overall MSE: 0.0015. \n",
      "Train Top 20 DE MSE: 0.0065 Validation Top 20 DE MSE: 0.0394. \n",
      "Epoch 7 Step 1 Train Loss: 0.5172\n",
      "Epoch 7 Step 51 Train Loss: 0.6071\n",
      "Epoch 7 Step 101 Train Loss: 0.5784\n",
      "Epoch 7 Step 151 Train Loss: 0.6097\n",
      "Epoch 7 Step 201 Train Loss: 0.6062\n",
      "Epoch 7: Train Overall MSE: 0.0013 Validation Overall MSE: 0.0014. \n",
      "Train Top 20 DE MSE: 0.0058 Validation Top 20 DE MSE: 0.0397. \n",
      "Epoch 8 Step 1 Train Loss: 0.5054\n",
      "Epoch 8 Step 51 Train Loss: 0.5822\n",
      "Epoch 8 Step 101 Train Loss: 0.6496\n",
      "Epoch 8 Step 151 Train Loss: 0.7043\n",
      "Epoch 8 Step 201 Train Loss: 0.5333\n",
      "Epoch 8: Train Overall MSE: 0.0013 Validation Overall MSE: 0.0012. \n",
      "Train Top 20 DE MSE: 0.0046 Validation Top 20 DE MSE: 0.0374. \n",
      "Epoch 9 Step 1 Train Loss: 0.5421\n",
      "Epoch 9 Step 51 Train Loss: 0.5391\n",
      "Epoch 9 Step 101 Train Loss: 0.5369\n",
      "Epoch 9 Step 151 Train Loss: 0.6529\n",
      "Epoch 9 Step 201 Train Loss: 0.6406\n",
      "Epoch 9: Train Overall MSE: 0.0012 Validation Overall MSE: 0.0012. \n",
      "Train Top 20 DE MSE: 0.0049 Validation Top 20 DE MSE: 0.0376. \n",
      "Epoch 10 Step 1 Train Loss: 0.6733\n",
      "Epoch 10 Step 51 Train Loss: 0.5599\n",
      "Epoch 10 Step 101 Train Loss: 0.5344\n",
      "Epoch 10 Step 151 Train Loss: 0.6332\n",
      "Epoch 10 Step 201 Train Loss: 0.4920\n",
      "Epoch 10: Train Overall MSE: 0.0012 Validation Overall MSE: 0.0012. \n",
      "Train Top 20 DE MSE: 0.0049 Validation Top 20 DE MSE: 0.0374. \n",
      "Epoch 11 Step 1 Train Loss: 0.6086\n",
      "Epoch 11 Step 51 Train Loss: 0.6680\n",
      "Epoch 11 Step 101 Train Loss: 0.7498\n",
      "Epoch 11 Step 151 Train Loss: 0.5407\n",
      "Epoch 11 Step 201 Train Loss: 0.6440\n",
      "Epoch 11: Train Overall MSE: 0.0012 Validation Overall MSE: 0.0012. \n",
      "Train Top 20 DE MSE: 0.0052 Validation Top 20 DE MSE: 0.0380. \n",
      "Epoch 12 Step 1 Train Loss: 0.5366\n",
      "Epoch 12 Step 51 Train Loss: 0.6778\n",
      "Epoch 12 Step 101 Train Loss: 0.5033\n",
      "Epoch 12 Step 151 Train Loss: 0.7100\n",
      "Epoch 12 Step 201 Train Loss: 0.5325\n",
      "Epoch 12: Train Overall MSE: 0.0013 Validation Overall MSE: 0.0012. \n",
      "Train Top 20 DE MSE: 0.0051 Validation Top 20 DE MSE: 0.0376. \n",
      "Epoch 13 Step 1 Train Loss: 0.6623\n",
      "Epoch 13 Step 51 Train Loss: 0.6025\n",
      "Epoch 13 Step 101 Train Loss: 0.7563\n",
      "Epoch 13 Step 151 Train Loss: 0.6793\n",
      "Epoch 13 Step 201 Train Loss: 0.6433\n",
      "Epoch 13: Train Overall MSE: 0.0013 Validation Overall MSE: 0.0015. \n",
      "Train Top 20 DE MSE: 0.0040 Validation Top 20 DE MSE: 0.0362. \n",
      "Epoch 14 Step 1 Train Loss: 0.5987\n",
      "Epoch 14 Step 51 Train Loss: 0.6019\n",
      "Epoch 14 Step 101 Train Loss: 0.6202\n",
      "Epoch 14 Step 151 Train Loss: 0.6345\n",
      "Epoch 14 Step 201 Train Loss: 0.7069\n",
      "Epoch 14: Train Overall MSE: 0.0013 Validation Overall MSE: 0.0012. \n",
      "Train Top 20 DE MSE: 0.0050 Validation Top 20 DE MSE: 0.0376. \n",
      "Epoch 15 Step 1 Train Loss: 0.4826\n",
      "Epoch 15 Step 51 Train Loss: 0.6308\n",
      "Epoch 15 Step 101 Train Loss: 0.5789\n",
      "Epoch 15 Step 151 Train Loss: 0.6544\n",
      "Epoch 15 Step 201 Train Loss: 0.6178\n",
      "Epoch 15: Train Overall MSE: 0.0013 Validation Overall MSE: 0.0012. \n",
      "Train Top 20 DE MSE: 0.0051 Validation Top 20 DE MSE: 0.0378. \n",
      "Epoch 16 Step 1 Train Loss: 0.6550\n",
      "Epoch 16 Step 51 Train Loss: 0.6336\n",
      "Epoch 16 Step 101 Train Loss: 0.4591\n",
      "Epoch 16 Step 151 Train Loss: 0.6445\n",
      "Epoch 16 Step 201 Train Loss: 0.5827\n",
      "Epoch 16: Train Overall MSE: 0.0013 Validation Overall MSE: 0.0012. \n",
      "Train Top 20 DE MSE: 0.0056 Validation Top 20 DE MSE: 0.0384. \n",
      "Epoch 17 Step 1 Train Loss: 0.5108\n",
      "Epoch 17 Step 51 Train Loss: 0.5638\n",
      "Epoch 17 Step 101 Train Loss: 0.5176\n",
      "Epoch 17 Step 151 Train Loss: 0.6012\n",
      "Epoch 17 Step 201 Train Loss: 0.6502\n",
      "Epoch 17: Train Overall MSE: 0.0013 Validation Overall MSE: 0.0012. \n",
      "Train Top 20 DE MSE: 0.0051 Validation Top 20 DE MSE: 0.0377. \n",
      "Epoch 18 Step 1 Train Loss: 0.5265\n",
      "Epoch 18 Step 51 Train Loss: 0.5474\n",
      "Epoch 18 Step 101 Train Loss: 0.4749\n",
      "Epoch 18 Step 151 Train Loss: 0.6526\n",
      "Epoch 18 Step 201 Train Loss: 0.4853\n",
      "Epoch 18: Train Overall MSE: 0.0013 Validation Overall MSE: 0.0012. \n",
      "Train Top 20 DE MSE: 0.0051 Validation Top 20 DE MSE: 0.0379. \n",
      "Epoch 19 Step 1 Train Loss: 0.5917\n",
      "Epoch 19 Step 51 Train Loss: 0.6050\n",
      "Epoch 19 Step 101 Train Loss: 0.6282\n",
      "Epoch 19 Step 151 Train Loss: 0.7357\n",
      "Epoch 19 Step 201 Train Loss: 0.7074\n",
      "Epoch 19: Train Overall MSE: 0.0013 Validation Overall MSE: 0.0012. \n",
      "Train Top 20 DE MSE: 0.0047 Validation Top 20 DE MSE: 0.0372. \n",
      "Epoch 20 Step 1 Train Loss: 0.6295\n",
      "Epoch 20 Step 51 Train Loss: 0.5467\n",
      "Epoch 20 Step 101 Train Loss: 0.6152\n",
      "Epoch 20 Step 151 Train Loss: 0.5993\n",
      "Epoch 20 Step 201 Train Loss: 0.4344\n",
      "Epoch 20: Train Overall MSE: 0.0013 Validation Overall MSE: 0.0012. \n",
      "Train Top 20 DE MSE: 0.0044 Validation Top 20 DE MSE: 0.0369. \n",
      "Done!\n",
      "Start Testing...\n",
      "Best performing model: Test Top 20 DE MSE: 0.0057\n",
      "Done!\n"
     ]
    }
   ],
   "source": [
    "import os\n",
    "os.chdir(\"/gpfs/home/asun/jin_lab/get/GEARS/demo/\")\n",
    "print(os.getcwd())\n",
    "import sys\n",
    "sys.path.append(os.path.abspath('..'))\n",
    "\n",
    "import pandas as pd\n",
    "import numpy as np\n",
    "from scipy.stats import pearsonr\n",
    "\n",
    "from gears import PertData\n",
    "from gears.inference import evaluate, compute_metrics, deeper_analysis\n",
    "\n",
    "pert_data = PertData('./data')\n",
    "pert_data.load(data_path = './data/zheng')\n",
    "pert_data.prepare_split(split = 'simulation_single', seed = 1)\n",
    "pert_data.get_dataloader(batch_size = 32, test_batch_size = 128)\n",
    "\n",
    "from gears import GEARS\n",
    "gears_model = GEARS(pert_data, device = 'cuda:0',\n",
    "                    weight_bias_track = True, \n",
    "                    proj_name = 'gears', \n",
    "                    exp_name = 'zheng_uncertain')\n",
    "\n",
    "## train a uncertainty-aware model, specify uncertainty to True\n",
    "gears_model.model_initialize(uncertainty = True)\n",
    "gears_model.train(epochs = 20)\n",
    "gears_model.save_model('gears_unc')\n",
    "\n",
    "## load a pretrained uncertainty model\n",
    "#gears_model.load_pretrained('pertnet_unc')"
   ]
  },
  {
   "cell_type": "code",
   "execution_count": 4,
   "id": "8d90f492",
   "metadata": {},
   "outputs": [],
   "source": [
    "test_res = evaluate(gears_model.dataloader['test_loader'], gears_model.model, gears_model.config['uncertainty'], gears_model.device)\n",
    "test_metrics, test_pert_res = compute_metrics(test_res)\n",
    "out = deeper_analysis(gears_model.adata, test_res)"
   ]
  },
  {
   "cell_type": "code",
   "execution_count": 15,
   "id": "d8a20b31-3f39-4d61-8fce-022815b051ea",
   "metadata": {},
   "outputs": [
    {
     "data": {
      "text/plain": [
       "{'NR2F1+ctrl': {'mse': 0.00059376087,\n",
       "  'pearson': 0.9978327966244946,\n",
       "  'mse_de': 0.0067761615,\n",
       "  'pearson_de': 0.991077119622787}}"
      ]
     },
     "execution_count": 15,
     "metadata": {},
     "output_type": "execute_result"
    }
   ],
   "source": [
    "test_pert_res"
   ]
  },
  {
   "cell_type": "code",
   "execution_count": 6,
   "id": "17f09bba",
   "metadata": {},
   "outputs": [
    {
     "ename": "ValueError",
     "evalue": "`x` and `y` must have length at least 2.",
     "output_type": "error",
     "traceback": [
      "\u001b[31m---------------------------------------------------------------------------\u001b[39m",
      "\u001b[31mValueError\u001b[39m                                Traceback (most recent call last)",
      "\u001b[32m/tmp/ipykernel_9422/2613119929.py\u001b[39m in \u001b[36m?\u001b[39m\u001b[34m()\u001b[39m\n\u001b[32m      4\u001b[39m metric = \u001b[33m'pearson_delta'\u001b[39m\n\u001b[32m      5\u001b[39m stats_summary = [np.exp(-pert2unc[i][\u001b[32m0\u001b[39m]) \u001b[38;5;28;01mfor\u001b[39;00m i \u001b[38;5;28;01min\u001b[39;00m test_pert_res.keys() \u001b[38;5;28;01mif\u001b[39;00m metric \u001b[38;5;28;01min\u001b[39;00m out[i]]\n\u001b[32m      6\u001b[39m metric_summary = [out[i][metric] \u001b[38;5;28;01mfor\u001b[39;00m i \u001b[38;5;28;01min\u001b[39;00m test_pert_res.keys() \u001b[38;5;28;01mif\u001b[39;00m metric \u001b[38;5;28;01min\u001b[39;00m out[i]]\n\u001b[32m      7\u001b[39m stats_summary\n\u001b[32m----> \u001b[39m\u001b[32m8\u001b[39m print(pearsonr(stats_summary, metric_summary))\n",
      "\u001b[32m~/miniforge3/envs/gears/lib/python3.12/site-packages/scipy/stats/_stats_py.py\u001b[39m in \u001b[36m?\u001b[39m\u001b[34m(x, y, alternative, method, axis)\u001b[39m\n\u001b[32m   4812\u001b[39m     \u001b[38;5;28;01mif\u001b[39;00m n != y.shape[axis]:\n\u001b[32m   4813\u001b[39m         \u001b[38;5;28;01mraise\u001b[39;00m ValueError(\u001b[33m'`x` and `y` must have the same length along `axis`.'\u001b[39m)\n\u001b[32m   4814\u001b[39m \n\u001b[32m   4815\u001b[39m     \u001b[38;5;28;01mif\u001b[39;00m n < \u001b[32m2\u001b[39m:\n\u001b[32m-> \u001b[39m\u001b[32m4816\u001b[39m         \u001b[38;5;28;01mraise\u001b[39;00m ValueError(\u001b[33m'`x` and `y` must have length at least 2.'\u001b[39m)\n\u001b[32m   4817\u001b[39m \n\u001b[32m   4818\u001b[39m     \u001b[38;5;28;01mtry\u001b[39;00m:\n\u001b[32m   4819\u001b[39m         x, y = xp.broadcast_arrays(x, y)\n",
      "\u001b[31mValueError\u001b[39m: `x` and `y` must have length at least 2."
     ]
    }
   ],
   "source": [
    "pert2unc = pd.DataFrame(tuple(zip(test_res['pert_cat'], np.mean(test_res['logvar'], axis = 1)))).groupby(0).agg(np.mean)\n",
    "pert2unc = dict(zip(pert2unc.index.values, pert2unc.values))\n",
    "\n",
    "metric = 'pearson_delta'\n",
    "stats_summary = [np.exp(-pert2unc[i][0]) for i in test_pert_res.keys() if metric in out[i]]\n",
    "metric_summary = [out[i][metric] for i in test_pert_res.keys() if metric in out[i]]\n",
    "print(pearsonr(stats_summary, metric_summary))"
   ]
  },
  {
   "cell_type": "code",
   "execution_count": 7,
   "id": "f8810118-0c2a-4af0-98e1-794658c8fbbe",
   "metadata": {},
   "outputs": [
    {
     "data": {
      "text/plain": [
       "[1.3880764]"
      ]
     },
     "execution_count": 7,
     "metadata": {},
     "output_type": "execute_result"
    }
   ],
   "source": [
    "stats_summary"
   ]
  },
  {
   "cell_type": "code",
   "execution_count": 8,
   "id": "d3d8b9ba-2f74-4768-928a-f544b1d7d4b4",
   "metadata": {},
   "outputs": [
    {
     "data": {
      "text/plain": [
       "[0.052290800727834985]"
      ]
     },
     "execution_count": 8,
     "metadata": {},
     "output_type": "execute_result"
    }
   ],
   "source": [
    "metric_summary"
   ]
  },
  {
   "cell_type": "code",
   "execution_count": 16,
   "id": "94a06727",
   "metadata": {},
   "outputs": [],
   "source": [
    "import matplotlib.pyplot as plt\n",
    "import seaborn as sns\n",
    "from matplotlib import font_manager\n",
    "\n",
    "sns.set(rc={'figure.figsize':(6,6)})\n",
    "sns.set_theme(style=\"ticks\", rc={\"axes.facecolor\": (0, 0, 0, 0)})\n",
    "pal = sns.color_palette(\"Set2\").as_hex()\n",
    "\n",
    "def plot(stats_summary, metric_summary):\n",
    "\n",
    "    ax = sns.regplot(x=np.array(stats_summary),\n",
    "                    y=np.array(metric_summary), \n",
    "                    color = pal[2],\n",
    "                     ci = None\n",
    "                    )\n",
    "\n",
    "    sns.despine()\n",
    "\n",
    "    plt.ylabel(\"Pearson Correlation with True Delta \\n Expression Across All Genes\",labelpad=10)\n",
    "    plt.xlabel(\"Predicted Uncertainty\",labelpad=10)\n",
    "    plt.tick_params(axis='x', which='major', pad=10)\n",
    "    plt.tick_params(axis='y', which='major', pad=5)\n",
    "    plt.savefig('uncertainty.pdf', bbox_inches='tight')\n",
    "    \n",
    "    plt.show()\n",
    "    \n",
    "    top = np.quantile(np.array(list(pert2unc.values())), 0.95)\n",
    "\n",
    "    m = 'pearson_delta'\n",
    "    ax = sns.distplot([i[m] for k, i in out.items() if (pert2unc[k][0] < top) and (m in i)], hist = False, color = \"black\")\n",
    "    ax = sns.distplot([i[m] for k, i in out.items() if (pert2unc[k][0] > top) and (m in i)], hist = False, color = \"Red\")\n",
    "\n",
    "    print('---- ' + m + '----')\n",
    "    total_mean = np.mean([i[m] for k, i in out.items() if (pert2unc[k][0] < top) and (m in i)])\n",
    "    after_filter_mean = np.mean([i[m] for k, i in out.items() if (pert2unc[k][0] > top) and (m in i)])\n",
    "    print('Total Mean: ' + str(total_mean))\n",
    "    print('After uncertainty filter Mean: ' + str(after_filter_mean))\n",
    "    print('Enrichment: ' + str((after_filter_mean - total_mean)/total_mean))\n",
    "\n",
    "    sns.despine()\n",
    "    ax.set_xlim((-0.24,1.24))\n",
    "    plt.xlabel(\"Pearson Correlation with True Delta \\n Expression Across All Genes\",labelpad=10)\n",
    "    plt.ylabel(\"Density of Perturbations\",labelpad=10)\n",
    "    plt.tick_params(axis='x', which='major', pad=10)\n",
    "    plt.tick_params(axis='y', which='major', pad=5)\n",
    "    plt.savefig('prioritize_uncertainty.pdf', bbox_inches='tight')\n",
    "    plt.show()\n"
   ]
  },
  {
   "cell_type": "code",
   "execution_count": 17,
   "id": "d3d4eeb0",
   "metadata": {},
   "outputs": [
    {
     "data": {
      "image/png": "[encoded data removed]",
      "text/plain": [
       "<Figure size 600x600 with 1 Axes>"
      ]
     },
     "metadata": {},
     "output_type": "display_data"
    },
    {
     "name": "stdout",
     "output_type": "stream",
     "text": [
      "---- pearson_delta----\n",
      "Total Mean: nan\n",
      "After uncertainty filter Mean: nan\n",
      "Enrichment: nan\n"
     ]
    },
    {
     "data": {
      "image/png": "[encoded data removed]",
      "text/plain": [
       "<Figure size 600x600 with 1 Axes>"
      ]
     },
     "metadata": {},
     "output_type": "display_data"
    }
   ],
   "source": [
    "plot(stats_summary, metric_summary)"
   ]
  },
  {
   "cell_type": "code",
   "execution_count": null,
   "id": "bd30b1d8",
   "metadata": {},
   "outputs": [],
   "source": []
  }
 ],
 "metadata": {
  "kernelspec": {
   "display_name": "Python 3 (ipykernel)",
   "language": "python",
   "name": "python3"
  },
  "language_info": {
   "codemirror_mode": {
    "name": "ipython",
    "version": 3
   },
   "file_extension": ".py",
   "mimetype": "text/x-python",
   "name": "python",
   "nbconvert_exporter": "python",
   "pygments_lexer": "ipython3",
   "version": "3.12.11"
  }
 },
 "nbformat": 4,
 "nbformat_minor": 5
}
