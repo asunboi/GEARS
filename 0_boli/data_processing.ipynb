{
 "cells": [
  {
   "cell_type": "code",
   "execution_count": 2,
   "metadata": {},
   "outputs": [
    {
     "name": "stdout",
     "output_type": "stream",
     "text": [
      "/gpfs/group/jin/asun/GEARS/0_boli\n"
     ]
    }
   ],
   "source": [
    "import os\n",
    "os.chdir(\"/gpfs/home/asun/jin_lab/GEARS/0_boli/\")\n",
    "print(os.getcwd())\n",
    "\n",
    "import sys\n",
    "sys.path.append(os.path.abspath('..'))\n",
    "\n",
    "from gears import PertData"
   ]
  },
  {
   "cell_type": "code",
   "execution_count": 2,
   "metadata": {},
   "outputs": [
    {
     "data": {
      "text/plain": [
       "AnnData object with n_obs × n_vars = 35527 × 32285\n",
       "    obs: 'orig.ident', 'nCount_RNA', 'nFeature_RNA', 'seurat_clusters', 'Assign', 'scds', 'cxds', 'bcds', 'Sample', 'nCount_refAssay', 'nFeature_refAssay', 'predicted.subclass.score', 'predicted.subclass', 'CT', 'mito', 'BioSamp', 'CT2', 'ForPlot', 'Remove', 'active_ident'\n",
       "    var: 'variable_gene'"
      ]
     },
     "execution_count": 2,
     "metadata": {},
     "output_type": "execute_result"
    }
   ],
   "source": [
    "import scanpy as sc\n",
    "adata = sc.read_h5ad('/gpfs/home/asun/jin_lab/get/raw_data/seur.cur.h5ad')\n",
    "adata"
   ]
  },
  {
   "cell_type": "code",
   "execution_count": 29,
   "metadata": {},
   "outputs": [
    {
     "name": "stdout",
     "output_type": "stream",
     "text": [
      "                                            Rp1  Sox17  Gm37323  Rgs20  Oprk1\n",
      "batch1_samp1_chan1_AAACCTGAGACAAAGG-1  0.000000    0.0      0.0    0.0    0.0\n",
      "batch1_samp1_chan1_AAACCTGAGGCCGAAT-1  0.730666    0.0      0.0    0.0    0.0\n",
      "batch1_samp1_chan1_AAACCTGCAACTGGCC-1  0.000000    0.0      0.0    0.0    0.0\n",
      "batch1_samp1_chan1_AAACCTGCACGGTAAG-1  0.000000    0.0      0.0    0.0    0.0\n",
      "batch1_samp1_chan1_AAACCTGCACTATCTT-1  0.000000    0.0      0.0    0.0    0.0\n"
     ]
    }
   ],
   "source": [
    "print(adata.to_df().iloc[:5, :5])"
   ]
  },
  {
   "cell_type": "code",
   "execution_count": 17,
   "metadata": {},
   "outputs": [],
   "source": [
    "adata_raw = sc.read_h5ad('/gpfs/home/asun/jin_lab/get/raw_data/seur.cur.h5ad')\n",
    "adata.raw = adata_raw"
   ]
  },
  {
   "cell_type": "code",
   "execution_count": 28,
   "metadata": {},
   "outputs": [
    {
     "data": {
      "text/plain": [
       "AnnData object with n_obs × n_vars = 35527 × 5000\n",
       "    obs: 'orig.ident', 'nCount_RNA', 'nFeature_RNA', 'seurat_clusters', 'Assign', 'scds', 'cxds', 'bcds', 'Sample', 'nCount_refAssay', 'nFeature_refAssay', 'predicted.subclass.score', 'predicted.subclass', 'CT', 'mito', 'BioSamp', 'CT2', 'ForPlot', 'Remove', 'active_ident'\n",
       "    var: 'variable_gene', 'highly_variable', 'means', 'dispersions', 'dispersions_norm'\n",
       "    uns: 'log1p', 'hvg'"
      ]
     },
     "execution_count": 28,
     "metadata": {},
     "output_type": "execute_result"
    }
   ],
   "source": [
    "adata"
   ]
  },
  {
   "cell_type": "code",
   "execution_count": 38,
   "metadata": {},
   "outputs": [
    {
     "name": "stdout",
     "output_type": "stream",
     "text": [
      "Log2FC for Tafa1 in L6 CT CTX: 5.516055283501741\n",
      "LogFC for Tafa1 in L6 CT CTX: 3.8234381675720215\n"
     ]
    }
   ],
   "source": [
    "import numpy as np\n",
    "\n",
    "gene_name = 'Tafa1'  # replace with your gene of interest\n",
    "cell_type = 'L6 CT CTX'  # your cell type of interest\n",
    "\n",
    "# Get gene index\n",
    "gene_idx = adata.var_names.get_loc(gene_name)\n",
    "\n",
    "# Filter cells by condition AND cell type\n",
    "perturb_cells = adata[(adata.obs['Assign'] == 'Tbr1_0') & (adata.obs['predicted.subclass'] == cell_type)]\n",
    "control_cells = adata[(adata.obs['Assign'] == 'NT_0') & (adata.obs['predicted.subclass'] == cell_type)]\n",
    "\n",
    "# Calculate mean expression for the gene in each group\n",
    "mean_perturb = perturb_cells.X[:, gene_idx].mean()\n",
    "mean_control = control_cells.X[:, gene_idx].mean()\n",
    "\n",
    "# Handle sparse matrix if needed\n",
    "if hasattr(mean_perturb, \"toarray\"):\n",
    "    mean_perturb = mean_perturb.toarray().ravel()[0]\n",
    "    mean_control = mean_control.toarray().ravel()[0]\n",
    "\n",
    "# Pseudocount to avoid div by zero\n",
    "pseudocount = 1e-9\n",
    "log2fc = ((mean_perturb-mean_control)) / np.log(2)\n",
    "\n",
    "logfc = (mean_perturb) - (mean_control)\n",
    "\n",
    "print(f'Log2FC for {gene_name} in {cell_type}: {log2fc}')\n",
    "print(f'LogFC for {gene_name} in {cell_type}: {logfc}')\n"
   ]
  },
  {
   "cell_type": "code",
   "execution_count": 39,
   "metadata": {},
   "outputs": [
    {
     "name": "stdout",
     "output_type": "stream",
     "text": [
      "Log2FC for Tafa1 in L6 CT CTX: 3.497027812574385\n",
      "LogFC for Tafa1 in L6 CT CTX: 2.423954968625648\n"
     ]
    }
   ],
   "source": [
    "import numpy as np\n",
    "\n",
    "gene_name = 'Tafa1'  # replace with your gene of interest\n",
    "cell_type = 'L6 CT CTX'  # your cell type of interest\n",
    "\n",
    "# Get gene index\n",
    "gene_idx = adata.var_names.get_loc(gene_name)\n",
    "\n",
    "# Filter cells by condition AND cell type\n",
    "perturb_cells = adata[(adata.obs['Assign'] == 'Tbr1_0') & (adata.obs['predicted.subclass'] == cell_type)]\n",
    "control_cells = adata[(adata.obs['Assign'] == 'NT_0') & (adata.obs['predicted.subclass'] == cell_type)]\n",
    "\n",
    "# Calculate mean expression for the gene in each group\n",
    "mean_perturb = perturb_cells.X[:, gene_idx].mean()\n",
    "mean_control = control_cells.X[:, gene_idx].mean()\n",
    "\n",
    "# Handle sparse matrix if needed\n",
    "if hasattr(mean_perturb, \"toarray\"):\n",
    "    mean_perturb = mean_perturb.toarray().ravel()[0]\n",
    "    mean_control = mean_control.toarray().ravel()[0]\n",
    "\n",
    "# Pseudocount to avoid div by zero\n",
    "pseudocount = 1e-9\n",
    "log2fc = np.log2((mean_perturb + pseudocount) / (mean_control + pseudocount))\n",
    "\n",
    "logfc = np.log((mean_perturb + pseudocount) / (mean_control + pseudocount))\n",
    "\n",
    "print(f'Log2FC for {gene_name} in {cell_type}: {log2fc}')\n",
    "print(f'LogFC for {gene_name} in {cell_type}: {logfc}')"
   ]
  },
  {
   "cell_type": "code",
   "execution_count": 3,
   "metadata": {},
   "outputs": [],
   "source": [
    "sc.pp.normalize_total(adata)\n",
    "sc.pp.log1p(adata)\n"
   ]
  },
  {
   "cell_type": "code",
   "execution_count": 4,
   "metadata": {},
   "outputs": [],
   "source": [
    "sc.pp.highly_variable_genes(adata,n_top_genes=5000, subset=True)"
   ]
  },
  {
   "cell_type": "code",
   "execution_count": 5,
   "metadata": {},
   "outputs": [
    {
     "data": {
      "text/html": [
       "<div>\n",
       "<style scoped>\n",
       "    .dataframe tbody tr th:only-of-type {\n",
       "        vertical-align: middle;\n",
       "    }\n",
       "\n",
       "    .dataframe tbody tr th {\n",
       "        vertical-align: top;\n",
       "    }\n",
       "\n",
       "    .dataframe thead th {\n",
       "        text-align: right;\n",
       "    }\n",
       "</style>\n",
       "<table border=\"1\" class=\"dataframe\">\n",
       "  <thead>\n",
       "    <tr style=\"text-align: right;\">\n",
       "      <th></th>\n",
       "      <th>variable_gene</th>\n",
       "      <th>highly_variable</th>\n",
       "      <th>means</th>\n",
       "      <th>dispersions</th>\n",
       "      <th>dispersions_norm</th>\n",
       "    </tr>\n",
       "  </thead>\n",
       "  <tbody>\n",
       "    <tr>\n",
       "      <th>Rp1</th>\n",
       "      <td>False</td>\n",
       "      <td>True</td>\n",
       "      <td>0.003160</td>\n",
       "      <td>0.783008</td>\n",
       "      <td>1.411100</td>\n",
       "    </tr>\n",
       "    <tr>\n",
       "      <th>Sox17</th>\n",
       "      <td>True</td>\n",
       "      <td>True</td>\n",
       "      <td>0.000658</td>\n",
       "      <td>2.186958</td>\n",
       "      <td>5.102882</td>\n",
       "    </tr>\n",
       "  </tbody>\n",
       "</table>\n",
       "</div>"
      ],
      "text/plain": [
       "       variable_gene  highly_variable     means  dispersions  dispersions_norm\n",
       "Rp1            False             True  0.003160     0.783008          1.411100\n",
       "Sox17           True             True  0.000658     2.186958          5.102882"
      ]
     },
     "execution_count": 5,
     "metadata": {},
     "output_type": "execute_result"
    }
   ],
   "source": [
    "adata.var.head(2)"
   ]
  },
  {
   "cell_type": "code",
   "execution_count": 5,
   "metadata": {},
   "outputs": [],
   "source": [
    "# Store the current index (gene names) into a new column called 'gene_name'\n",
    "adata.var['gene_name'] = adata.var.index\n",
    "\n",
    "# Optionally reset the index if you want to replace it with default integers\n",
    "adata.var.reset_index(drop=True, inplace=True)"
   ]
  },
  {
   "cell_type": "code",
   "execution_count": 6,
   "metadata": {},
   "outputs": [
    {
     "data": {
      "text/plain": [
       "Assign\n",
       "Bcl11b_0    5367\n",
       "Trio_0      4274\n",
       "Dab1_0      4123\n",
       "Tbr1_0      3466\n",
       "NT_0        2735\n",
       "Rb1cc1_0    2534\n",
       "Satb2_0     2320\n",
       "Herc1_0     2165\n",
       "NT_1        1979\n",
       "Ank3_0      1763\n",
       "Xpo7_0      1602\n",
       "Cx3cl1_0    1392\n",
       "Cul1_0      1297\n",
       "ST_0         307\n",
       "ST_1         203\n",
       "Name: count, dtype: int64"
      ]
     },
     "execution_count": 6,
     "metadata": {},
     "output_type": "execute_result"
    }
   ],
   "source": [
    "# Show the unique cell types\n",
    "adata.obs['Assign'].value_counts()"
   ]
  },
  {
   "cell_type": "code",
   "execution_count": null,
   "metadata": {},
   "outputs": [],
   "source": [
    "def clean_assign(val):\n",
    "    if val in {'NT_0', 'NT_1', 'ST_0', 'ST_1'}:\n",
    "        return 'ctrl'\n",
    "    else:\n",
    "        return val.replace('_0', '').capitalize()\n",
    "\n",
    "adata.obs['Assign_clean'] = adata.obs['Assign'].apply(clean_assign)"
   ]
  },
  {
   "cell_type": "code",
   "execution_count": 7,
   "metadata": {},
   "outputs": [],
   "source": [
    "def clean_assign(val):\n",
    "    if val in {'NT_0'}:\n",
    "        return 'ctrl'\n",
    "    else:\n",
    "        return val.replace('_0', '').capitalize()\n",
    "\n",
    "adata.obs['Assign_clean'] = adata.obs['Assign'].apply(clean_assign)\n",
    "\n",
    "to_remove = ['Nt_1', 'St', 'St_1']\n",
    "adata = adata[~adata.obs['Assign_clean'].isin(to_remove)].copy()"
   ]
  },
  {
   "cell_type": "code",
   "execution_count": 8,
   "metadata": {},
   "outputs": [
    {
     "data": {
      "text/plain": [
       "Assign_clean\n",
       "Bcl11b    5367\n",
       "Trio      4274\n",
       "Dab1      4123\n",
       "Tbr1      3466\n",
       "ctrl      2735\n",
       "Rb1cc1    2534\n",
       "Satb2     2320\n",
       "Herc1     2165\n",
       "Ank3      1763\n",
       "Xpo7      1602\n",
       "Cx3cl1    1392\n",
       "Cul1      1297\n",
       "Name: count, dtype: int64"
      ]
     },
     "execution_count": 8,
     "metadata": {},
     "output_type": "execute_result"
    }
   ],
   "source": [
    "# Show the unique cell types\n",
    "adata.obs['Assign_clean'].value_counts()"
   ]
  },
  {
   "cell_type": "code",
   "execution_count": 9,
   "metadata": {},
   "outputs": [],
   "source": [
    "adata.obs['condition'] = adata.obs['Assign_clean'].apply(\n",
    "    lambda x: x if x == 'ctrl' else f\"{x.split('+')[0].upper()}+ctrl\"\n",
    ")"
   ]
  },
  {
   "cell_type": "code",
   "execution_count": 10,
   "metadata": {},
   "outputs": [
    {
     "data": {
      "text/plain": [
       "condition\n",
       "BCL11B+ctrl    5367\n",
       "TRIO+ctrl      4274\n",
       "DAB1+ctrl      4123\n",
       "TBR1+ctrl      3466\n",
       "ctrl           2735\n",
       "RB1CC1+ctrl    2534\n",
       "SATB2+ctrl     2320\n",
       "HERC1+ctrl     2165\n",
       "ANK3+ctrl      1763\n",
       "XPO7+ctrl      1602\n",
       "CX3CL1+ctrl    1392\n",
       "CUL1+ctrl      1297\n",
       "Name: count, dtype: int64"
      ]
     },
     "execution_count": 10,
     "metadata": {},
     "output_type": "execute_result"
    }
   ],
   "source": [
    "adata.obs['condition'].value_counts()"
   ]
  },
  {
   "cell_type": "code",
   "execution_count": null,
   "metadata": {},
   "outputs": [],
   "source": [
    "adata.obs.head(2)"
   ]
  },
  {
   "cell_type": "code",
   "execution_count": 11,
   "metadata": {},
   "outputs": [
    {
     "name": "stdout",
     "output_type": "stream",
     "text": [
      "predicted.subclass\n",
      "L6 CT CTX        7860\n",
      "L4/5 IT CTX      3761\n",
      "L5 PT CTX        3710\n",
      "L2/3 IT CTX-1    3122\n",
      "L5 NP CTX        2755\n",
      "L6 IT CTX        2544\n",
      "L5 IT CTX        1939\n",
      "CT SUB           1689\n",
      "Pvalb            1317\n",
      "L2/3 IT CTX-2    1120\n",
      "Sst               838\n",
      "NP SUB            468\n",
      "L3 RSP-ACA        370\n",
      "L6b CTX           367\n",
      "L2/3 IT PPP       356\n",
      "L5 IT TPE-ENT     172\n",
      "L5 PPP            155\n",
      "Vip               116\n",
      "Lamp5             111\n",
      "Oligo              52\n",
      "Sncg               51\n",
      "SUB-ProS           33\n",
      "Car3               30\n",
      "Astro              29\n",
      "NP PPP             26\n",
      "CR                 14\n",
      "Micro-PVM           9\n",
      "L2 IT RHP           7\n",
      "Endo                6\n",
      "SMC-Peri            5\n",
      "VLMC                2\n",
      "L2 IT ENTl          1\n",
      "L6 IT ENTl          1\n",
      "L6b/CT ENT          1\n",
      "V3d                 1\n",
      "Name: count, dtype: int64\n"
     ]
    }
   ],
   "source": [
    "print(adata.obs['predicted.subclass'].value_counts())"
   ]
  },
  {
   "cell_type": "code",
   "execution_count": 13,
   "metadata": {},
   "outputs": [
    {
     "name": "stdout",
     "output_type": "stream",
     "text": [
      "35\n"
     ]
    }
   ],
   "source": [
    "print(adata.obs['predicted.subclass'].nunique())"
   ]
  },
  {
   "cell_type": "code",
   "execution_count": 12,
   "metadata": {},
   "outputs": [],
   "source": [
    "to_keep = ['L6 CT CTX']\n",
    "adata_l6 = adata[adata.obs['predicted.subclass'].isin(to_keep)].copy()"
   ]
  },
  {
   "cell_type": "code",
   "execution_count": 15,
   "metadata": {},
   "outputs": [
    {
     "data": {
      "text/plain": [
       "AnnData object with n_obs × n_vars = 7860 × 5000\n",
       "    obs: 'orig.ident', 'nCount_RNA', 'nFeature_RNA', 'seurat_clusters', 'Assign', 'scds', 'cxds', 'bcds', 'Sample', 'nCount_refAssay', 'nFeature_refAssay', 'predicted.subclass.score', 'predicted.subclass', 'CT', 'mito', 'BioSamp', 'CT2', 'ForPlot', 'Remove', 'active_ident', 'Assign_clean', 'condition'\n",
       "    var: 'variable_gene', 'highly_variable', 'means', 'dispersions', 'dispersions_norm', 'gene_name'\n",
       "    uns: 'log1p', 'hvg'"
      ]
     },
     "execution_count": 15,
     "metadata": {},
     "output_type": "execute_result"
    }
   ],
   "source": [
    "adata_l6"
   ]
  },
  {
   "cell_type": "code",
   "execution_count": 13,
   "metadata": {},
   "outputs": [
    {
     "data": {
      "text/plain": [
       "condition\n",
       "BCL11B+ctrl    1320\n",
       "DAB1+ctrl      1019\n",
       "TRIO+ctrl      1000\n",
       "ctrl            689\n",
       "HERC1+ctrl      579\n",
       "RB1CC1+ctrl     561\n",
       "TBR1+ctrl       559\n",
       "SATB2+ctrl      551\n",
       "ANK3+ctrl       469\n",
       "CUL1+ctrl       385\n",
       "XPO7+ctrl       369\n",
       "CX3CL1+ctrl     359\n",
       "Name: count, dtype: int64"
      ]
     },
     "execution_count": 13,
     "metadata": {},
     "output_type": "execute_result"
    }
   ],
   "source": [
    "adata_l6.obs['condition'].value_counts()"
   ]
  },
  {
   "cell_type": "code",
   "execution_count": 14,
   "metadata": {},
   "outputs": [],
   "source": [
    "adata_l6.obs['cell_type'] = 'L6 CT CTX'"
   ]
  },
  {
   "cell_type": "code",
   "execution_count": 15,
   "metadata": {},
   "outputs": [
    {
     "data": {
      "text/plain": [
       "cell_type\n",
       "L6 CT CTX    7860\n",
       "Name: count, dtype: int64"
      ]
     },
     "execution_count": 15,
     "metadata": {},
     "output_type": "execute_result"
    }
   ],
   "source": [
    "adata_l6.obs['cell_type'].value_counts()"
   ]
  },
  {
   "cell_type": "code",
   "execution_count": 22,
   "metadata": {},
   "outputs": [
    {
     "name": "stdout",
     "output_type": "stream",
     "text": [
      "/gpfs/group/jin/asun/GEARS/0_boli\n"
     ]
    }
   ],
   "source": [
    "print(os.getcwd())\n"
   ]
  },
  {
   "cell_type": "code",
   "execution_count": 20,
   "metadata": {},
   "outputs": [
    {
     "name": "stderr",
     "output_type": "stream",
     "text": [
      "Found local copy...\n",
      "Found local copy...\n",
      "Creating pyg object for each cell in the data...\n",
      "Creating dataset file...\n",
      "  0%|          | 0/12 [00:00<?, ?it/s]"
     ]
    },
    {
     "name": "stdout",
     "output_type": "stream",
     "text": [
      "TRIO+ctrl\n"
     ]
    },
    {
     "name": "stderr",
     "output_type": "stream",
     "text": [
      " 58%|█████▊    | 7/12 [00:17<00:09,  1.93s/it]"
     ]
    },
    {
     "name": "stdout",
     "output_type": "stream",
     "text": [
      "DAB1+ctrl\n"
     ]
    },
    {
     "name": "stderr",
     "output_type": "stream",
     "text": [
      " 83%|████████▎ | 10/12 [00:24<00:04,  2.20s/it]"
     ]
    },
    {
     "name": "stdout",
     "output_type": "stream",
     "text": [
      "CX3CL1+ctrl\n"
     ]
    },
    {
     "name": "stderr",
     "output_type": "stream",
     "text": [
      "100%|██████████| 12/12 [00:28<00:00,  2.36s/it]\n",
      "Done!\n",
      "Saving new dataset pyg object at ./data/boli_l6_ct_norm_specific/data_pyg/cell_graphs.pkl\n",
      "Done!\n",
      "Found local copy...\n",
      "These perturbations are not in the GO graph and their perturbation can thus not be predicted\n",
      "['TRIO+ctrl' 'DAB1+ctrl' 'CX3CL1+ctrl']\n",
      "Local copy of pyg dataset is detected. Loading...\n",
      "Done!\n",
      "Creating new splits....\n",
      "Saving new splits at ./data/boli_l6_ct_norm_specific/splits/boli_l6_ct_norm_specific_simulation_single_1_0.75_TBR1+ctrl_SATB2+ctrl.pkl\n",
      "Done!\n"
     ]
    },
    {
     "ename": "KeyError",
     "evalue": "'test'",
     "output_type": "error",
     "traceback": [
      "\u001b[31m---------------------------------------------------------------------------\u001b[39m",
      "\u001b[31mKeyError\u001b[39m                                  Traceback (most recent call last)",
      "\u001b[36mCell\u001b[39m\u001b[36m \u001b[39m\u001b[32mIn[20]\u001b[39m\u001b[32m, line 10\u001b[39m\n\u001b[32m      8\u001b[39m pert_data.load(data_path = \u001b[33m'\u001b[39m\u001b[33m./data/boli_l6_ct_norm_specific\u001b[39m\u001b[33m'\u001b[39m) \u001b[38;5;66;03m# load the processed data, the path is saved folder + dataset_name\u001b[39;00m\n\u001b[32m      9\u001b[39m pert_data.prepare_split(split = \u001b[33m'\u001b[39m\u001b[33msimulation_single\u001b[39m\u001b[33m'\u001b[39m, seed = \u001b[32m1\u001b[39m, test_perts=\u001b[33m\"\u001b[39m\u001b[33mTBR1+ctrl_SATB2+ctrl\u001b[39m\u001b[33m\"\u001b[39m,only_test_set_perts=\u001b[38;5;28;01mTrue\u001b[39;00m) \u001b[38;5;66;03m# get data split with seed\u001b[39;00m\n\u001b[32m---> \u001b[39m\u001b[32m10\u001b[39m \u001b[43mpert_data\u001b[49m\u001b[43m.\u001b[49m\u001b[43mget_dataloader\u001b[49m\u001b[43m(\u001b[49m\u001b[43mbatch_size\u001b[49m\u001b[43m \u001b[49m\u001b[43m=\u001b[49m\u001b[43m \u001b[49m\u001b[32;43m32\u001b[39;49m\u001b[43m,\u001b[49m\u001b[43m \u001b[49m\u001b[43mtest_batch_size\u001b[49m\u001b[43m \u001b[49m\u001b[43m=\u001b[49m\u001b[43m \u001b[49m\u001b[32;43m128\u001b[39;49m\u001b[43m)\u001b[49m \u001b[38;5;66;03m# prepare data loader\u001b[39;00m\n",
      "\u001b[36mFile \u001b[39m\u001b[32m~/miniforge3/envs/gears/lib/python3.12/site-packages/gears/pertdata.py:455\u001b[39m, in \u001b[36mPertData.get_dataloader\u001b[39m\u001b[34m(self, batch_size, test_batch_size)\u001b[39m\n\u001b[32m    453\u001b[39m \u001b[38;5;28;01mfor\u001b[39;00m i \u001b[38;5;129;01min\u001b[39;00m splits:\n\u001b[32m    454\u001b[39m     cell_graphs[i] = []\n\u001b[32m--> \u001b[39m\u001b[32m455\u001b[39m     \u001b[38;5;28;01mfor\u001b[39;00m p \u001b[38;5;129;01min\u001b[39;00m \u001b[38;5;28;43mself\u001b[39;49m\u001b[43m.\u001b[49m\u001b[43mset2conditions\u001b[49m\u001b[43m[\u001b[49m\u001b[43mi\u001b[49m\u001b[43m]\u001b[49m:\n\u001b[32m    456\u001b[39m         cell_graphs[i].extend(\u001b[38;5;28mself\u001b[39m.dataset_processed[p])\n\u001b[32m    458\u001b[39m print_sys(\u001b[33m\"\u001b[39m\u001b[33mCreating dataloaders....\u001b[39m\u001b[33m\"\u001b[39m)\n",
      "\u001b[31mKeyError\u001b[39m: 'test'"
     ]
    }
   ],
   "source": [
    "import sys\n",
    "sys.path.append('../')\n",
    "\n",
    "from gears import PertData\n",
    "\n",
    "pert_data = PertData('./data') # specific saved folder\n",
    "pert_data.new_data_process(dataset_name = 'boli_l6_ct_norm_specific', adata = adata_l6) # specific dataset name and adata object\n",
    "pert_data.load(data_path = './data/boli_l6_ct_norm_specific') # load the processed data, the path is saved folder + dataset_name\n",
    "pert_data.prepare_split(split = 'simulation_single', seed = 1, test_perts=\"TBR1+ctrl_SATB2+ctrl\",only_test_set_perts=True) # get data split with seed\n",
    "pert_data.get_dataloader(batch_size = 32, test_batch_size = 128) # prepare data loader"
   ]
  },
  {
   "cell_type": "code",
   "execution_count": 22,
   "metadata": {},
   "outputs": [],
   "source": [
    "test_perts = \"TBR1+ctrl_SATB2+ctrl\"\n",
    "if test_perts:\n",
    "    test_perts = test_perts.split('_')"
   ]
  },
  {
   "cell_type": "code",
   "execution_count": 23,
   "metadata": {},
   "outputs": [
    {
     "data": {
      "text/plain": [
       "['TBR1+ctrl', 'SATB2+ctrl']"
      ]
     },
     "execution_count": 23,
     "metadata": {},
     "output_type": "execute_result"
    }
   ],
   "source": [
    "test_perts"
   ]
  },
  {
   "cell_type": "code",
   "execution_count": 27,
   "metadata": {},
   "outputs": [
    {
     "data": {
      "text/plain": [
       "split\n",
       "train    4931\n",
       "val       551\n",
       "Name: count, dtype: int64"
      ]
     },
     "execution_count": 27,
     "metadata": {},
     "output_type": "execute_result"
    }
   ],
   "source": [
    "pert_data.adata.obs[\"split\"].value_counts()"
   ]
  },
  {
   "cell_type": "code",
   "execution_count": 1,
   "metadata": {},
   "outputs": [
    {
     "name": "stderr",
     "output_type": "stream",
     "text": [
      "/gpfs/home/asun/miniforge3/envs/gears/lib/python3.12/site-packages/anndata/utils.py:434: FutureWarning: Importing read_csv from `anndata` is deprecated. Import anndata.io.read_csv instead.\n",
      "  warnings.warn(msg, FutureWarning)\n",
      "/gpfs/home/asun/miniforge3/envs/gears/lib/python3.12/site-packages/anndata/utils.py:434: FutureWarning: Importing read_excel from `anndata` is deprecated. Import anndata.io.read_excel instead.\n",
      "  warnings.warn(msg, FutureWarning)\n",
      "/gpfs/home/asun/miniforge3/envs/gears/lib/python3.12/site-packages/anndata/utils.py:434: FutureWarning: Importing read_hdf from `anndata` is deprecated. Import anndata.io.read_hdf instead.\n",
      "  warnings.warn(msg, FutureWarning)\n",
      "/gpfs/home/asun/miniforge3/envs/gears/lib/python3.12/site-packages/anndata/utils.py:434: FutureWarning: Importing read_loom from `anndata` is deprecated. Import anndata.io.read_loom instead.\n",
      "  warnings.warn(msg, FutureWarning)\n",
      "/gpfs/home/asun/miniforge3/envs/gears/lib/python3.12/site-packages/anndata/utils.py:434: FutureWarning: Importing read_mtx from `anndata` is deprecated. Import anndata.io.read_mtx instead.\n",
      "  warnings.warn(msg, FutureWarning)\n",
      "/gpfs/home/asun/miniforge3/envs/gears/lib/python3.12/site-packages/anndata/utils.py:434: FutureWarning: Importing read_text from `anndata` is deprecated. Import anndata.io.read_text instead.\n",
      "  warnings.warn(msg, FutureWarning)\n",
      "/gpfs/home/asun/miniforge3/envs/gears/lib/python3.12/site-packages/anndata/utils.py:434: FutureWarning: Importing read_umi_tools from `anndata` is deprecated. Import anndata.io.read_umi_tools instead.\n",
      "  warnings.warn(msg, FutureWarning)\n"
     ]
    }
   ],
   "source": [
    "import importlib\n",
    "import gears.data_utils \n",
    "import gears\n",
    "\n",
    "importlib.reload(gears.data_utils)\n",
    "importlib.reload(gears)\n",
    "\n",
    "from gears import PertData\n"
   ]
  },
  {
   "cell_type": "code",
   "execution_count": 32,
   "metadata": {},
   "outputs": [
    {
     "name": "stderr",
     "output_type": "stream",
     "text": [
      "Found local copy...\n",
      "Found local copy...\n",
      "Creating pyg object for each cell in the data...\n",
      "Creating dataset file...\n",
      "  0%|          | 0/12 [00:00<?, ?it/s]"
     ]
    },
    {
     "name": "stdout",
     "output_type": "stream",
     "text": [
      "TRIO+ctrl\n"
     ]
    },
    {
     "name": "stderr",
     "output_type": "stream",
     "text": [
      " 58%|█████▊    | 7/12 [00:16<00:09,  1.88s/it]"
     ]
    },
    {
     "name": "stdout",
     "output_type": "stream",
     "text": [
      "DAB1+ctrl\n"
     ]
    },
    {
     "name": "stderr",
     "output_type": "stream",
     "text": [
      " 83%|████████▎ | 10/12 [00:24<00:04,  2.21s/it]"
     ]
    },
    {
     "name": "stdout",
     "output_type": "stream",
     "text": [
      "CX3CL1+ctrl\n"
     ]
    },
    {
     "name": "stderr",
     "output_type": "stream",
     "text": [
      "100%|██████████| 12/12 [00:28<00:00,  2.35s/it]\n",
      "Done!\n",
      "Saving new dataset pyg object at ./data/boli_l6_ct_norm_specific/data_pyg/cell_graphs.pkl\n",
      "Done!\n",
      "Found local copy...\n",
      "These perturbations are not in the GO graph and their perturbation can thus not be predicted\n",
      "['TRIO+ctrl' 'DAB1+ctrl' 'CX3CL1+ctrl']\n",
      "Local copy of pyg dataset is detected. Loading...\n",
      "Done!\n",
      "Creating new splits....\n",
      "Saving new splits at ./data/boli_l6_ct_norm_specific/splits/boli_l6_ct_norm_specific_simulation_single_1_0.75_TBR1+ctrl_SATB2+ctrl.pkl\n",
      "Done!\n"
     ]
    }
   ],
   "source": [
    "from gears import PertData\n",
    "\n",
    "pert_data = PertData('./data') # specific saved folder\n",
    "pert_data.new_data_process(dataset_name = 'boli_l6_ct_norm_specific', adata = adata_l6) # specific dataset name and adata object\n",
    "pert_data.load(data_path = './data/boli_l6_ct_norm_specific') # load the processed data, the path is saved folder + dataset_name\n",
    "pert_data.prepare_split(split = 'simulation_single', seed = 1, test_perts=\"TBR1+ctrl_SATB2+ctrl\",only_test_set_perts=True) # get data split with seed"
   ]
  },
  {
   "cell_type": "code",
   "execution_count": 33,
   "metadata": {},
   "outputs": [
    {
     "ename": "KeyError",
     "evalue": "'test'",
     "output_type": "error",
     "traceback": [
      "\u001b[31m---------------------------------------------------------------------------\u001b[39m",
      "\u001b[31mKeyError\u001b[39m                                  Traceback (most recent call last)",
      "\u001b[36mCell\u001b[39m\u001b[36m \u001b[39m\u001b[32mIn[33]\u001b[39m\u001b[32m, line 1\u001b[39m\n\u001b[32m----> \u001b[39m\u001b[32m1\u001b[39m \u001b[43mpert_data\u001b[49m\u001b[43m.\u001b[49m\u001b[43mget_dataloader\u001b[49m\u001b[43m(\u001b[49m\u001b[43mbatch_size\u001b[49m\u001b[43m \u001b[49m\u001b[43m=\u001b[49m\u001b[43m \u001b[49m\u001b[32;43m32\u001b[39;49m\u001b[43m,\u001b[49m\u001b[43m \u001b[49m\u001b[43mtest_batch_size\u001b[49m\u001b[43m \u001b[49m\u001b[43m=\u001b[49m\u001b[43m \u001b[49m\u001b[32;43m128\u001b[39;49m\u001b[43m)\u001b[49m \u001b[38;5;66;03m# prepare data loader\u001b[39;00m\n",
      "\u001b[36mFile \u001b[39m\u001b[32m~/miniforge3/envs/gears/lib/python3.12/site-packages/gears/pertdata.py:455\u001b[39m, in \u001b[36mPertData.get_dataloader\u001b[39m\u001b[34m(self, batch_size, test_batch_size)\u001b[39m\n\u001b[32m    453\u001b[39m \u001b[38;5;28;01mfor\u001b[39;00m i \u001b[38;5;129;01min\u001b[39;00m splits:\n\u001b[32m    454\u001b[39m     cell_graphs[i] = []\n\u001b[32m--> \u001b[39m\u001b[32m455\u001b[39m     \u001b[38;5;28;01mfor\u001b[39;00m p \u001b[38;5;129;01min\u001b[39;00m \u001b[38;5;28;43mself\u001b[39;49m\u001b[43m.\u001b[49m\u001b[43mset2conditions\u001b[49m\u001b[43m[\u001b[49m\u001b[43mi\u001b[49m\u001b[43m]\u001b[49m:\n\u001b[32m    456\u001b[39m         cell_graphs[i].extend(\u001b[38;5;28mself\u001b[39m.dataset_processed[p])\n\u001b[32m    458\u001b[39m print_sys(\u001b[33m\"\u001b[39m\u001b[33mCreating dataloaders....\u001b[39m\u001b[33m\"\u001b[39m)\n",
      "\u001b[31mKeyError\u001b[39m: 'test'"
     ]
    }
   ],
   "source": [
    "pert_data.get_dataloader(batch_size = 32, test_batch_size = 128) # prepare data loader"
   ]
  },
  {
   "cell_type": "code",
   "execution_count": 7,
   "metadata": {},
   "outputs": [],
   "source": [
    "import importlib\n",
    "import gears.data_utils\n",
    "import gears.pertdata\n",
    "import gears\n",
    "\n",
    "# Step 1: Reload dependencies first (bottom-up)\n",
    "importlib.reload(gears.data_utils)\n",
    "importlib.reload(gears.pertdata)\n",
    "importlib.reload(gears)  # This re-runs __init__.py\n",
    "\n",
    "# Step 2: Re-import PertData (must be done *after* reload)\n",
    "from gears import PertData"
   ]
  },
  {
   "cell_type": "code",
   "execution_count": 6,
   "metadata": {},
   "outputs": [],
   "source": [
    "%%bash\n",
    "rm -rf /gpfs/home/asun/jin_lab/GEARS/0_boli/data/boli_l6_ct_norm_specific/splits/*.pkl"
   ]
  },
  {
   "cell_type": "code",
   "execution_count": 8,
   "metadata": {},
   "outputs": [
    {
     "name": "stderr",
     "output_type": "stream",
     "text": [
      "Found local copy...\n",
      "Found local copy...\n",
      "These perturbations are not in the GO graph and their perturbation can thus not be predicted\n",
      "['TRIO+ctrl' 'DAB1+ctrl' 'CX3CL1+ctrl']\n",
      "Local copy of pyg dataset is detected. Loading...\n",
      "Done!\n",
      "Creating new splits....\n",
      "Saving new splits at ./data/boli_l6_ct_norm_specific/splits/boli_l6_ct_norm_specific_simulation_single_1_0.75_TBR1+ctrl_SATB2+ctrl.pkl\n",
      "Done!\n"
     ]
    },
    {
     "name": "stdout",
     "output_type": "stream",
     "text": [
      "['ANK3' 'BCL11B' 'CUL1' 'HERC1' 'RB1CC1' 'SATB2' 'TBR1' 'XPO7']\n",
      "['SATB2' 'TBR1']\n",
      "['ANK3' 'BCL11B' 'CUL1' 'HERC1' 'RB1CC1' 'XPO7']\n",
      "['ANK3' 'BCL11B' 'CUL1' 'HERC1' 'RB1CC1' 'XPO7']\n"
     ]
    }
   ],
   "source": [
    "pert_data = PertData('./data') # specific saved folder\n",
    "pert_data.load(data_path = './data/boli_l6_ct_norm_specific') # load the processed data, the path is saved folder + dataset_name\n",
    "pert_data.prepare_split(split = 'simulation_single', seed = 1, test_perts=\"TBR1+ctrl_SATB2+ctrl\",only_test_set_perts=True) # get data split with seed"
   ]
  },
  {
   "cell_type": "code",
   "execution_count": 9,
   "metadata": {},
   "outputs": [
    {
     "data": {
      "text/plain": [
       "{'test': ['TBR1+ctrl', 'SATB2+ctrl'],\n",
       " 'train': ['BCL11B+ctrl',\n",
       "  'ctrl',\n",
       "  'ANK3+ctrl',\n",
       "  'CUL1+ctrl',\n",
       "  'RB1CC1+ctrl',\n",
       "  'HERC1+ctrl'],\n",
       " 'val': ['XPO7+ctrl']}"
      ]
     },
     "execution_count": 9,
     "metadata": {},
     "output_type": "execute_result"
    }
   ],
   "source": [
    "pert_data.set2conditions"
   ]
  }
 ],
 "metadata": {
  "kernelspec": {
   "display_name": "gears",
   "language": "python",
   "name": "python3"
  },
  "language_info": {
   "codemirror_mode": {
    "name": "ipython",
    "version": 3
   },
   "file_extension": ".py",
   "mimetype": "text/x-python",
   "name": "python",
   "nbconvert_exporter": "python",
   "pygments_lexer": "ipython3",
   "version": "3.12.11"
  }
 },
 "nbformat": 4,
 "nbformat_minor": 2
}
