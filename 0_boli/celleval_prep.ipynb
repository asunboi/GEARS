{
 "cells": [
  {
   "cell_type": "code",
   "execution_count": null,
   "metadata": {},
   "outputs": [],
   "source": [
    "import numpy as np\n",
    "import pandas as pd\n",
    "import anndata as ad"
   ]
  },
  {
   "cell_type": "code",
   "execution_count": null,
   "metadata": {},
   "outputs": [],
   "source": [
    "perturbations = ['BCL11B', 'XPO7', 'ANK3', 'TBR1', 'SATB2', 'CUL1', 'RB1CC1', 'HERC1']  # or any from your dataset\n",
    "pred = gears_model.predict([[p] for p in perturbations])"
   ]
  },
  {
   "cell_type": "code",
   "execution_count": null,
   "metadata": {},
   "outputs": [],
   "source": [
    "X_pred = np.stack([pred[p] for p in perturbations])  # shape: (n_perturbations, n_genes)"
   ]
  },
  {
   "cell_type": "code",
   "execution_count": null,
   "metadata": {},
   "outputs": [],
   "source": [
    "obs_df = pd.DataFrame({\n",
    "    'condition': perturbations,\n",
    "    'cell_type': ['Neuron'] * len(perturbations),  # or whatever your cell type is\n",
    "    'batch': ['GEARS'] * len(perturbations)        # optional but useful\n",
    "}, index=perturbations)"
   ]
  },
  {
   "cell_type": "code",
   "execution_count": null,
   "metadata": {},
   "outputs": [],
   "source": [
    "var_df = gears_model.adata.var.copy()\n",
    "if 'gene_name' not in var_df.columns:\n",
    "    var_df['gene_name'] = var_df.index"
   ]
  },
  {
   "cell_type": "code",
   "execution_count": null,
   "metadata": {},
   "outputs": [],
   "source": [
    "adata_pred = ad.AnnData(\n",
    "    X=X_pred,\n",
    "    obs=obs_df,\n",
    "    var=var_df\n",
    ")"
   ]
  },
  {
   "cell_type": "code",
   "execution_count": null,
   "metadata": {},
   "outputs": [],
   "source": [
    "gears_model.adata.obs['condition'].value_counts()\n"
   ]
  },
  {
   "cell_type": "code",
   "execution_count": null,
   "metadata": {},
   "outputs": [],
   "source": [
    "import numpy as np\n",
    "import pandas as pd\n",
    "import anndata as ad\n",
    "\n",
    "def simulate_deterministic_anndata(gears_model, pert_counts):\n",
    "    all_X = []\n",
    "    all_obs = []\n",
    "\n",
    "    gene_names = gears_model.adata.var['gene_name'].values\n",
    "    var_df = gears_model.adata.var.copy()\n",
    "\n",
    "    for cond, n_cells in pert_counts.items():\n",
    "        if cond == \"ctrl\":\n",
    "            # Use control expression vector\n",
    "            expr = gears_model.ctrl_expression.cpu().numpy()\n",
    "        else:\n",
    "            pert = cond.split('+')[0]  # Use only gene name\n",
    "            pred = gears_model.predict([[pert]])[pert]\n",
    "            expr = pred  # shape: (n_genes,)\n",
    "\n",
    "        # Repeat predicted expression n_cells times\n",
    "        mat = np.tile(expr, (n_cells, 1))\n",
    "        all_X.append(mat)\n",
    "\n",
    "        obs_df = pd.DataFrame({\n",
    "            'condition': [cond] * n_cells,\n",
    "            'perturbation': [cond.split('+')[0] if cond != \"ctrl\" else \"ctrl\"] * n_cells,\n",
    "        })\n",
    "        all_obs.append(obs_df)\n",
    "\n",
    "    # Combine\n",
    "    X = np.vstack(all_X)\n",
    "    obs = pd.concat(all_obs, ignore_index=True)\n",
    "\n",
    "    var_df = gears_model.adata.var.copy()\n",
    "    if 'gene_name' not in var_df.columns:\n",
    "        var_df['gene_name'] = var_df.index\n",
    "    \n",
    "    adata_sim = ad.AnnData(\n",
    "        X=X,\n",
    "        obs=obs,\n",
    "        var=var_df\n",
    "    )\n",
    "\n",
    "    return adata_sim"
   ]
  },
  {
   "cell_type": "code",
   "execution_count": null,
   "metadata": {},
   "outputs": [],
   "source": [
    "adata_sim = simulate_deterministic_anndata(gears_model, gears_model.adata.obs['condition'].value_counts())"
   ]
  },
  {
   "cell_type": "code",
   "execution_count": null,
   "metadata": {},
   "outputs": [],
   "source": [
    "adata_sim.head(2)"
   ]
  },
  {
   "cell_type": "code",
   "execution_count": null,
   "metadata": {},
   "outputs": [],
   "source": [
    "gears_model.adata.to_df().head(2)"
   ]
  },
  {
   "cell_type": "code",
   "execution_count": null,
   "metadata": {},
   "outputs": [],
   "source": [
    "adata_sim.write(\"simulated_adata.h5ad\")"
   ]
  }
 ],
 "metadata": {
  "language_info": {
   "name": "python"
  }
 },
 "nbformat": 4,
 "nbformat_minor": 2
}
